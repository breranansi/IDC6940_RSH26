{
 "cells": [
  {
   "cell_type": "markdown",
   "id": "3e1fa41f-4b42-4c74-9b5a-1f1fba2b4bc5",
   "metadata": {},
   "source": [
    "# IDC 6940 Final Project\n",
    "## University of West Florida\n",
    "\n",
    "Delanyce Rose & Richard Henry\n",
    "\n",
    "Summer 2025\n",
    "\n",
    "Welcome to our Github Repository! \n",
    "\n",
    "This is a MVP (minimum viable product) so stay tuned as we build it out!"
   ]
  },
  {
   "cell_type": "code",
   "execution_count": 1,
   "id": "0f8cfbf9-2bd5-44dc-b836-47aab636607c",
   "metadata": {},
   "outputs": [
    {
     "name": "stdout",
     "output_type": "stream",
     "text": [
      "Hello World\n"
     ]
    }
   ],
   "source": [
    "print(\"Hello World\")"
   ]
  },
  {
   "cell_type": "markdown",
   "id": "d445dbd7-6ccc-450b-8941-c14dea6ab657",
   "metadata": {},
   "source": [
    "# Project Reports\n",
    "\n",
    "[First](/Progress_Report_1.html)\n",
    "\n",
    "[Second](/Project_Report_2.html)\n",
    "\n",
    "[Third](/Progress_Report_3.html)\n",
    "\n",
    "[Fourth](/Project_Report_4.html)\n",
    "\n",
    "#"
   ]
  },
  {
   "cell_type": "code",
   "execution_count": null,
   "id": "f11ba373-e345-4c8e-aeee-d73d88adcfbc",
   "metadata": {},
   "outputs": [],
   "source": []
  }
 ],
 "metadata": {
  "kernelspec": {
   "display_name": "Python 3 (ipykernel)",
   "language": "python",
   "name": "python3"
  },
  "language_info": {
   "codemirror_mode": {
    "name": "ipython",
    "version": 3
   },
   "file_extension": ".py",
   "mimetype": "text/x-python",
   "name": "python",
   "nbconvert_exporter": "python",
   "pygments_lexer": "ipython3",
   "version": "3.13.5"
  }
 },
 "nbformat": 4,
 "nbformat_minor": 5
}
