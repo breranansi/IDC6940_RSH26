{
 "cells": [
  {
   "cell_type": "markdown",
   "id": "3e1fa41f-4b42-4c74-9b5a-1f1fba2b4bc5",
   "metadata": {},
   "source": [
    "# IDC 6940 Final Project\n",
    "## University of West Florida\n",
    "\n",
    "Delanyce Rose & Richard Henry\n",
    "\n",
    "Summer 2025\n",
    "\n",
    "Welcome to our Github Repository! \n",
    "\n",
    "This is a MVP (minimum viable product) so stay tuned as we build it out!"
   ]
  },
  {
   "cell_type": "markdown",
   "id": "d445dbd7-6ccc-450b-8941-c14dea6ab657",
   "metadata": {},
   "source": [
    "# Game Plan\n",
    "\n",
    "[Proposed Workflow](/Forward_Plan-2.html)\n",
    "\n",
    "# Literature Reviews\n",
    "Coming soon!\n",
    "\n",
    "# Project Reports\n",
    "\n",
    "[First](/Progress_Report_1.html)\n",
    "\n",
    "[Second](/Project_Report_2.html)\n",
    "\n",
    "[Third](/Progress_Report_3.html)\n",
    "\n",
    "[Fourth](/Project_Report_4.html)"
   ]
  }
 ],
 "metadata": {
  "kernelspec": {
   "display_name": "Python 3 (ipykernel)",
   "language": "python",
   "name": "python3"
  },
  "language_info": {
   "name": "python"
  }
 },
 "nbformat": 4,
 "nbformat_minor": 5
}
