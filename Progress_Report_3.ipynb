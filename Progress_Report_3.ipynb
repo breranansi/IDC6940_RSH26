{
  "nbformat": 4,
  "nbformat_minor": 0,
  "metadata": {
    "colab": {
      "provenance": [],
      "toc_visible": true,
      "authorship_tag": "ABX9TyPe6yndSs5tCC+Jaxtb8YIW",
      "include_colab_link": true
    },
    "kernelspec": {
      "name": "python3",
      "display_name": "Python 3"
    },
    "language_info": {
      "name": "python"
    }
  },
  "cells": [
    {
      "cell_type": "markdown",
      "metadata": {
        "id": "view-in-github",
        "colab_type": "text"
      },
      "source": [
        "<a href=\"https://colab.research.google.com/github/breranansi/IDC6940_RSH26/blob/main/Progress_Report_3.ipynb\" target=\"_parent\"><img src=\"https://colab.research.google.com/assets/colab-badge.svg\" alt=\"Open In Colab\"/></a>"
      ]
    },
    {
      "cell_type": "markdown",
      "source": [
        "# IDC6940\n",
        "## Weekly Report 3\n",
        "### Richard Henry & Delanyce Rose\n",
        "\n",
        "June 26, 2025\n",
        "\n",
        "We will continue with two symbolic regression libraries available for Python.\n",
        "\n",
        "## PySR\n",
        "Since this library runs in Google Colab, but continually dies on a local machine running Jupyter notebook, the first step is to ensure that the library is installed on the current instance of Colab.\n"
      ],
      "metadata": {
        "id": "0uxM1aTS2jAV"
      }
    },
    {
      "cell_type": "code",
      "execution_count": 16,
      "metadata": {
        "colab": {
          "base_uri": "https://localhost:8080/"
        },
        "id": "x5BBOo-D2Zk_",
        "outputId": "57967884-0264-4c46-e18d-d3d8b0c0f5b5"
      },
      "outputs": [
        {
          "output_type": "stream",
          "name": "stdout",
          "text": [
            "Requirement already satisfied: pysr in /usr/local/lib/python3.11/dist-packages (1.5.8)\n",
            "Requirement already satisfied: click<9.0.0,>=7.0.0 in /usr/local/lib/python3.11/dist-packages (from pysr) (8.2.1)\n",
            "Requirement already satisfied: juliacall<0.9.26,>=0.9.24 in /usr/local/lib/python3.11/dist-packages (from pysr) (0.9.25)\n",
            "Requirement already satisfied: numpy<3.0.0,>=1.13.0 in /usr/local/lib/python3.11/dist-packages (from pysr) (2.0.2)\n",
            "Requirement already satisfied: pandas<3.0.0,>=0.21.0 in /usr/local/lib/python3.11/dist-packages (from pysr) (2.2.2)\n",
            "Requirement already satisfied: scikit-learn<2.0.0,>=1.0.0 in /usr/local/lib/python3.11/dist-packages (from pysr) (1.6.1)\n",
            "Requirement already satisfied: sympy<2.0.0,>=1.0.0 in /usr/local/lib/python3.11/dist-packages (from pysr) (1.13.1)\n",
            "Requirement already satisfied: typing-extensions<5.0.0,>=4.0.0 in /usr/local/lib/python3.11/dist-packages (from pysr) (4.14.0)\n",
            "Requirement already satisfied: juliapkg~=0.1.17 in /usr/local/lib/python3.11/dist-packages (from juliacall<0.9.26,>=0.9.24->pysr) (0.1.17)\n",
            "Requirement already satisfied: python-dateutil>=2.8.2 in /usr/local/lib/python3.11/dist-packages (from pandas<3.0.0,>=0.21.0->pysr) (2.9.0.post0)\n",
            "Requirement already satisfied: pytz>=2020.1 in /usr/local/lib/python3.11/dist-packages (from pandas<3.0.0,>=0.21.0->pysr) (2025.2)\n",
            "Requirement already satisfied: tzdata>=2022.7 in /usr/local/lib/python3.11/dist-packages (from pandas<3.0.0,>=0.21.0->pysr) (2025.2)\n",
            "Requirement already satisfied: scipy>=1.6.0 in /usr/local/lib/python3.11/dist-packages (from scikit-learn<2.0.0,>=1.0.0->pysr) (1.15.3)\n",
            "Requirement already satisfied: joblib>=1.2.0 in /usr/local/lib/python3.11/dist-packages (from scikit-learn<2.0.0,>=1.0.0->pysr) (1.5.1)\n",
            "Requirement already satisfied: threadpoolctl>=3.1.0 in /usr/local/lib/python3.11/dist-packages (from scikit-learn<2.0.0,>=1.0.0->pysr) (3.6.0)\n",
            "Requirement already satisfied: mpmath<1.4,>=1.1.0 in /usr/local/lib/python3.11/dist-packages (from sympy<2.0.0,>=1.0.0->pysr) (1.3.0)\n",
            "Requirement already satisfied: filelock<4.0,>=3.16 in /usr/local/lib/python3.11/dist-packages (from juliapkg~=0.1.17->juliacall<0.9.26,>=0.9.24->pysr) (3.18.0)\n",
            "Requirement already satisfied: semver<4.0,>=3.0 in /usr/local/lib/python3.11/dist-packages (from juliapkg~=0.1.17->juliacall<0.9.26,>=0.9.24->pysr) (3.0.4)\n",
            "Requirement already satisfied: six>=1.5 in /usr/local/lib/python3.11/dist-packages (from python-dateutil>=2.8.2->pandas<3.0.0,>=0.21.0->pysr) (1.17.0)\n"
          ]
        }
      ],
      "source": [
        "# Install libraries\n",
        "!pip install -U pysr"
      ]
    },
    {
      "cell_type": "markdown",
      "source": [
        "Next we force the installation of the julia programming language by making a call to the Python side:"
      ],
      "metadata": {
        "id": "UtQpLTrBi0Mq"
      }
    },
    {
      "cell_type": "code",
      "source": [
        "# import pysr"
      ],
      "metadata": {
        "id": "k5IBUT6qo2m-"
      },
      "execution_count": 17,
      "outputs": []
    },
    {
      "cell_type": "markdown",
      "source": [
        "Now we will import everything else we need:"
      ],
      "metadata": {
        "id": "G9pflNHjjLgf"
      }
    },
    {
      "cell_type": "code",
      "source": [
        "# Call libraries\n",
        "import numpy as np\n",
        "import pandas as pd\n",
        "import sympy as sym\n",
        "import matplotlib.pyplot as plt\n",
        "from pysr import PySRRegressor\n",
        "import time"
      ],
      "metadata": {
        "id": "eOgIB7Va293v"
      },
      "execution_count": 18,
      "outputs": []
    },
    {
      "cell_type": "markdown",
      "source": [
        "Next, we rebuild our toy dataset and plot it."
      ],
      "metadata": {
        "id": "gi9u7gLYjU8X"
      }
    },
    {
      "cell_type": "code",
      "source": [
        "# Build Two Copies of Toy Dataset\n",
        "x4=np.arange(start=0.55,stop=1.075,step=0.025)\n",
        "x5=np.arange(start=0.55,stop=1.075,step=0.025)\n",
        "y4=141.5/x4-131.5\n",
        "y5=141.5/x5-131.5\n",
        "# Plot\n",
        "plt.plot(x4,y4,marker=\"o\",linestyle=\"None\")\n",
        "plt.xlabel(\"Specific Gravity\")\n",
        "plt.ylabel(\"API Gravity\")\n",
        "plt.title(\"First Toy Dataset\")\n",
        "plt.grid()\n",
        "plt.show()"
      ],
      "metadata": {
        "colab": {
          "base_uri": "https://localhost:8080/",
          "height": 472
        },
        "id": "uLVMvZH23bmW",
        "outputId": "8ec35aab-f37a-4a55-ff43-2fc1d871d99f"
      },
      "execution_count": 19,
      "outputs": [
        {
          "output_type": "display_data",
          "data": {
            "text/plain": [
              "<Figure size 640x480 with 1 Axes>"
            ],
            "image/png": "[encoded data removed]"
          },
          "metadata": {}
        }
      ]
    },
    {
      "cell_type": "markdown",
      "source": [
        "Next, we:\n",
        "- Initiate the Symbolic Regressor\n",
        "- Use the regressor to fit the toy dataset\n",
        "- Predict the API gravity values using the Regressor.\n",
        "\n",
        "The creators of this library chose to use the scikit-learn workflow, so that the terminology is similar to what was used in progress report 1, with the exception of having to reshape the data because we only have one predictor.\n",
        "\n",
        "We are using defaults for everything except for the random number seed."
      ],
      "metadata": {
        "id": "-ilbRhevkGjw"
      }
    },
    {
      "cell_type": "code",
      "source": [
        "t0 = time.time()\n",
        "myMod04=PySRRegressor(random_state=7)\n",
        "myMod04.fit(x4.reshape(-1, 1),y4)\n",
        "y_pred04=myMod04.predict(x4.reshape(-1, 1))\n",
        "print(\"time to fit: \",time.time() - t0, 'seconds')"
      ],
      "metadata": {
        "colab": {
          "base_uri": "https://localhost:8080/"
        },
        "id": "f0jVmptr37NQ",
        "outputId": "929d2804-dc87-4f01-ae05-9d923aeea436"
      },
      "execution_count": 20,
      "outputs": [
        {
          "output_type": "stream",
          "name": "stderr",
          "text": [
            "/usr/local/lib/python3.11/dist-packages/pysr/sr.py:2811: UserWarning: Note: it looks like you are running in Jupyter. The progress bar will be turned off.\n",
            "  warnings.warn(\n",
            "/usr/local/lib/python3.11/dist-packages/pysr/sr.py:1873: UserWarning: Note: Setting `random_state` without also setting `deterministic=True` and `parallelism='serial'` will result in non-deterministic searches.\n",
            "  warnings.warn(\n",
            "[ Info: Started!\n"
          ]
        },
        {
          "output_type": "stream",
          "name": "stdout",
          "text": [
            "\n",
            "Expressions evaluated per second: 3.660e+04\n",
            "Progress: 185 / 3100 total iterations (5.968%)\n",
            "════════════════════════════════════════════════════════════════════════════════════════════════════\n",
            "───────────────────────────────────────────────────────────────────────────────────────────────────\n",
            "Complexity  Loss       Score      Equation\n",
            "1           1.321e+03  0.000e+00  y = 52.149\n",
            "3           6.519e+02  3.532e-01  y = 44 / x₀\n",
            "5           4.859e-11  1.511e+01  y = (141.5 / x₀) + -131.5\n",
            "7           4.305e-11  6.057e-02  y = ((141.5 / x₀) + -60.092) - 71.408\n",
            "9           3.196e-11  1.489e-01  y = ((x₀ + 141.5) / x₀) + (-61.905 - 70.595)\n",
            "21          2.496e-11  2.061e-02  y = ((((186.51 / (x₀ + x₀)) + ((96.494 / (x₀ + x₀)) + -8.3...\n",
            "                                      28)) + -115.6) + (x₀ - 7.5748)) - x₀\n",
            "───────────────────────────────────────────────────────────────────────────────────────────────────\n",
            "════════════════════════════════════════════════════════════════════════════════════════════════════\n",
            "Press 'q' and then <enter> to stop execution early.\n",
            "\n",
            "Expressions evaluated per second: 3.680e+04\n",
            "Progress: 377 / 3100 total iterations (12.161%)\n",
            "════════════════════════════════════════════════════════════════════════════════════════════════════\n",
            "───────────────────────────────────────────────────────────────────────────────────────────────────\n",
            "Complexity  Loss       Score      Equation\n",
            "1           1.321e+03  0.000e+00  y = 52.149\n",
            "3           6.519e+02  3.532e-01  y = 44 / x₀\n",
            "5           4.859e-11  1.511e+01  y = (141.5 / x₀) + -131.5\n",
            "7           3.196e-11  2.095e-01  y = ((x₀ + 141.5) / x₀) + -132.5\n",
            "11          2.780e-11  3.484e-02  y = (((-50.177 - x₀) + (141.5 / x₀)) + x₀) - 81.323\n",
            "13          2.434e-11  6.654e-02  y = (248.09 / (x₀ + x₀)) + (-131.5 + (34.908 / (x₀ + x₀)))\n",
            "15          1.880e-11  1.292e-01  y = (((228.07 / (x₀ + x₀)) + -117.43) + (54.935 / (x₀ + x₀...\n",
            "                                      ))) + -14.066\n",
            "23          1.602e-11  1.994e-02  y = (x₀ + -19.14) + ((((94.138 / (x₀ + x₀)) + -98.461) + (...\n",
            "                                      (188.86 / (x₀ + x₀)) - (x₀ - -7.3012))) - 6.5983)\n",
            "───────────────────────────────────────────────────────────────────────────────────────────────────\n",
            "════════════════════════════════════════════════════════════════════════════════════════════════════\n",
            "Press 'q' and then <enter> to stop execution early.\n",
            "\n",
            "Expressions evaluated per second: 3.730e+04\n",
            "Progress: 579 / 3100 total iterations (18.677%)\n",
            "════════════════════════════════════════════════════════════════════════════════════════════════════\n",
            "───────────────────────────────────────────────────────────────────────────────────────────────────\n",
            "Complexity  Loss       Score      Equation\n",
            "1           1.321e+03  0.000e+00  y = 52.149\n",
            "3           6.519e+02  3.532e-01  y = 44 / x₀\n",
            "5           4.859e-11  1.511e+01  y = (141.5 / x₀) + -131.5\n",
            "7           3.196e-11  2.095e-01  y = ((x₀ + 141.5) / x₀) + -132.5\n",
            "11          2.780e-11  3.484e-02  y = (((-50.177 - x₀) + (141.5 / x₀)) + x₀) - 81.323\n",
            "13          2.434e-11  6.654e-02  y = (248.09 / (x₀ + x₀)) + (-131.5 + (34.908 / (x₀ + x₀)))\n",
            "15          1.724e-11  1.725e-01  y = ((54.935 / (x₀ + x₀)) + ((228.07 / (x₀ + x₀)) + -117.4...\n",
            "                                      3)) + -14.066\n",
            "19          9.441e-12  1.505e-01  y = (((188.86 / (x₀ + x₀)) - (x₀ - -7.3012)) + (x₀ + -124....\n",
            "                                      2)) + (94.138 / (x₀ + x₀))\n",
            "───────────────────────────────────────────────────────────────────────────────────────────────────\n",
            "════════════════════════════════════════════════════════════════════════════════════════════════════\n",
            "Press 'q' and then <enter> to stop execution early.\n",
            "\n",
            "Expressions evaluated per second: 3.590e+04\n",
            "Progress: 790 / 3100 total iterations (25.484%)\n",
            "════════════════════════════════════════════════════════════════════════════════════════════════════\n",
            "───────────────────────────────────────────────────────────────────────────────────────────────────\n",
            "Complexity  Loss       Score      Equation\n",
            "1           1.321e+03  0.000e+00  y = 52.149\n",
            "3           6.519e+02  3.532e-01  y = 44 / x₀\n",
            "5           4.859e-11  1.511e+01  y = (141.5 / x₀) + -131.5\n",
            "7           3.196e-11  2.095e-01  y = ((x₀ + 141.5) / x₀) + -132.5\n",
            "11          2.780e-11  3.484e-02  y = (((-50.177 - x₀) + (141.5 / x₀)) + x₀) - 81.323\n",
            "13          1.914e-11  1.866e-01  y = (68.078 / (x₀ + x₀)) + ((214.92 / (x₀ + x₀)) + -131.5)\n",
            "15          1.724e-11  5.243e-02  y = ((54.935 / (x₀ + x₀)) + ((228.07 / (x₀ + x₀)) + -117.4...\n",
            "                                      3)) + -14.066\n",
            "17          1.672e-11  1.531e-02  y = ((125.03 / (x₀ + x₀)) - x₀) + ((157.97 / (x₀ + x₀)) + ...\n",
            "                                      (x₀ + -131.5))\n",
            "19          9.441e-12  2.857e-01  y = (((188.86 / (x₀ + x₀)) - (x₀ - -7.3012)) + (x₀ + -124....\n",
            "                                      2)) + (94.138 / (x₀ + x₀))\n",
            "21          8.402e-12  5.832e-02  y = ((x₀ - x₀) + (122.15 / (x₀ + x₀))) + (-129.1 + (((x₀ -...\n",
            "                                       -160.85) / (x₀ + x₀)) + -2.9023))\n",
            "───────────────────────────────────────────────────────────────────────────────────────────────────\n",
            "════════════════════════════════════════════════════════════════════════════════════════════════════\n",
            "Press 'q' and then <enter> to stop execution early.\n",
            "\n",
            "Expressions evaluated per second: 3.720e+04\n",
            "Progress: 1015 / 3100 total iterations (32.742%)\n",
            "════════════════════════════════════════════════════════════════════════════════════════════════════\n",
            "───────────────────────────────────────────────────────────────────────────────────────────────────\n",
            "Complexity  Loss       Score      Equation\n",
            "1           1.321e+03  0.000e+00  y = 52.149\n",
            "3           6.519e+02  3.532e-01  y = 44 / x₀\n",
            "5           4.859e-11  1.511e+01  y = (141.5 / x₀) + -131.5\n",
            "7           3.196e-11  2.095e-01  y = ((x₀ + 141.5) / x₀) + -132.5\n",
            "9           2.018e-11  2.299e-01  y = (33.4 / x₀) + ((108.1 / x₀) + -131.5)\n",
            "13          1.914e-11  1.322e-02  y = (68.078 / (x₀ + x₀)) + ((214.92 / (x₀ + x₀)) + -131.5)\n",
            "15          8.402e-12  4.117e-01  y = (122.15 / (x₀ + x₀)) + (((x₀ - -160.85) / (x₀ + x₀)) +...\n",
            "                                       -132)\n",
            "───────────────────────────────────────────────────────────────────────────────────────────────────\n",
            "════════════════════════════════════════════════════════════════════════════════════════════════════\n",
            "Press 'q' and then <enter> to stop execution early.\n",
            "\n",
            "Expressions evaluated per second: 4.150e+04\n",
            "Progress: 1366 / 3100 total iterations (44.065%)\n",
            "════════════════════════════════════════════════════════════════════════════════════════════════════\n",
            "───────────────────────────────────────────────────────────────────────────────────────────────────\n",
            "Complexity  Loss       Score      Equation\n",
            "1           1.321e+03  0.000e+00  y = 52.149\n",
            "3           6.519e+02  3.532e-01  y = 44 / x₀\n",
            "5           4.859e-11  1.511e+01  y = (141.5 / x₀) + -131.5\n",
            "7           3.196e-11  2.095e-01  y = ((x₀ + 141.5) / x₀) + -132.5\n",
            "9           2.018e-11  2.299e-01  y = (33.4 / x₀) + ((108.1 / x₀) + -131.5)\n",
            "13          1.464e-11  8.028e-02  y = (87.241 / (x₀ + x₀)) + (-131.5 + (195.76 / (x₀ + x₀)))\n",
            "15          8.402e-12  2.776e-01  y = (122.15 / (x₀ + x₀)) + (((x₀ - -160.85) / (x₀ + x₀)) +...\n",
            "                                       -132)\n",
            "17          6.965e-12  9.381e-02  y = ((122.15 / (x₀ + x₀)) + (((x₀ - -160.85) / (x₀ + x₀)) ...\n",
            "                                      + -131.94)) - 0.064223\n",
            "───────────────────────────────────────────────────────────────────────────────────────────────────\n",
            "════════════════════════════════════════════════════════════════════════════════════════════════════\n",
            "Press 'q' and then <enter> to stop execution early.\n",
            "\n",
            "Expressions evaluated per second: 5.260e+04\n",
            "Progress: 1850 / 3100 total iterations (59.677%)\n",
            "════════════════════════════════════════════════════════════════════════════════════════════════════\n",
            "───────────────────────────────────────────────────────────────────────────────────────────────────\n",
            "Complexity  Loss       Score      Equation\n",
            "1           1.321e+03  0.000e+00  y = 52.149\n",
            "3           6.519e+02  3.532e-01  y = 44 / x₀\n",
            "5           4.859e-11  1.511e+01  y = (141.5 / x₀) + -131.5\n",
            "7           3.196e-11  2.095e-01  y = ((x₀ + 141.5) / x₀) + -132.5\n",
            "9           1.880e-11  2.654e-01  y = ((42.384 / x₀) + -131.5) + (99.116 / x₀)\n",
            "13          1.464e-11  6.250e-02  y = (87.241 / (x₀ + x₀)) + (-131.5 + (195.76 / (x₀ + x₀)))\n",
            "15          8.402e-12  2.776e-01  y = (122.15 / (x₀ + x₀)) + (((x₀ - -160.85) / (x₀ + x₀)) +...\n",
            "                                       -132)\n",
            "17          6.965e-12  9.381e-02  y = ((122.15 / (x₀ + x₀)) + (((x₀ - -160.85) / (x₀ + x₀)) ...\n",
            "                                      + -131.94)) - 0.064223\n",
            "───────────────────────────────────────────────────────────────────────────────────────────────────\n",
            "════════════════════════════════════════════════════════════════════════════════════════════════════\n",
            "Press 'q' and then <enter> to stop execution early.\n",
            "\n",
            "Expressions evaluated per second: 6.590e+04\n",
            "Progress: 2410 / 3100 total iterations (77.742%)\n",
            "════════════════════════════════════════════════════════════════════════════════════════════════════\n",
            "───────────────────────────────────────────────────────────────────────────────────────────────────\n",
            "Complexity  Loss       Score      Equation\n",
            "1           1.321e+03  0.000e+00  y = 52.149\n",
            "3           6.519e+02  3.532e-01  y = 44 / x₀\n",
            "5           4.859e-11  1.511e+01  y = (141.5 / x₀) + -131.5\n",
            "7           3.196e-11  2.095e-01  y = ((x₀ + 141.5) / x₀) + -132.5\n",
            "9           1.880e-11  2.654e-01  y = ((42.384 / x₀) + -131.5) + (99.116 / x₀)\n",
            "13          1.464e-11  6.250e-02  y = (87.241 / (x₀ + x₀)) + (-131.5 + (195.76 / (x₀ + x₀)))\n",
            "15          8.402e-12  2.776e-01  y = (122.15 / (x₀ + x₀)) + (((x₀ - -160.85) / (x₀ + x₀)) +...\n",
            "                                       -132)\n",
            "17          6.215e-12  1.508e-01  y = ((122.15 / (x₀ + x₀)) + (((x₀ - -160.85) / (x₀ + x₀)) ...\n",
            "                                      + -132.46)) - -0.45653\n",
            "───────────────────────────────────────────────────────────────────────────────────────────────────\n",
            "════════════════════════════════════════════════════════════════════════════════════════════════════\n",
            "Press 'q' and then <enter> to stop execution early.\n"
          ]
        },
        {
          "output_type": "stream",
          "name": "stderr",
          "text": [
            "[ Info: Final population:\n",
            "[ Info: Results saved to:\n"
          ]
        },
        {
          "output_type": "stream",
          "name": "stdout",
          "text": [
            "\n",
            "Expressions evaluated per second: 7.140e+04\n",
            "Progress: 2731 / 3100 total iterations (88.097%)\n",
            "════════════════════════════════════════════════════════════════════════════════════════════════════\n",
            "───────────────────────────────────────────────────────────────────────────────────────────────────\n",
            "Complexity  Loss       Score      Equation\n",
            "1           1.321e+03  0.000e+00  y = 52.149\n",
            "3           6.519e+02  3.532e-01  y = 44 / x₀\n",
            "5           4.859e-11  1.511e+01  y = (141.5 / x₀) + -131.5\n",
            "7           3.196e-11  2.095e-01  y = ((x₀ + 141.5) / x₀) + -132.5\n",
            "9           1.880e-11  2.654e-01  y = ((42.384 / x₀) + -131.5) + (99.116 / x₀)\n",
            "13          1.464e-11  6.250e-02  y = (87.241 / (x₀ + x₀)) + (-131.5 + (195.76 / (x₀ + x₀)))\n",
            "15          8.402e-12  2.776e-01  y = (122.15 / (x₀ + x₀)) + (((x₀ - -160.85) / (x₀ + x₀)) +...\n",
            "                                       -132)\n",
            "17          6.215e-12  1.508e-01  y = ((122.15 / (x₀ + x₀)) + (((x₀ - -160.85) / (x₀ + x₀)) ...\n",
            "                                      + -132.46)) - -0.45653\n",
            "───────────────────────────────────────────────────────────────────────────────────────────────────\n",
            "════════════════════════════════════════════════════════════════════════════════════════════════════\n",
            "Press 'q' and then <enter> to stop execution early.\n",
            "───────────────────────────────────────────────────────────────────────────────────────────────────\n",
            "Complexity  Loss       Score      Equation\n",
            "1           1.321e+03  0.000e+00  y = 52.149\n",
            "3           6.519e+02  3.532e-01  y = 44 / x₀\n",
            "5           4.859e-11  1.511e+01  y = (141.5 / x₀) + -131.5\n",
            "7           3.196e-11  2.095e-01  y = ((x₀ + 141.5) / x₀) + -132.5\n",
            "9           1.880e-11  2.654e-01  y = ((42.384 / x₀) + -131.5) + (99.116 / x₀)\n",
            "13          1.464e-11  6.250e-02  y = (87.241 / (x₀ + x₀)) + (-131.5 + (195.76 / (x₀ + x₀)))\n",
            "15          8.402e-12  2.776e-01  y = (122.15 / (x₀ + x₀)) + (((x₀ - -160.85) / (x₀ + x₀)) +...\n",
            "                                       -132)\n",
            "17          6.215e-12  1.508e-01  y = ((122.15 / (x₀ + x₀)) + (((x₀ - -160.85) / (x₀ + x₀)) ...\n",
            "                                      + -132.46)) - -0.45653\n",
            "───────────────────────────────────────────────────────────────────────────────────────────────────\n",
            "time to fit:  49.09089636802673 seconds\n",
            "  - outputs/20250626_201459_NJnrIf/hall_of_fame.csv\n"
          ]
        }
      ]
    },
    {
      "cell_type": "code",
      "source": [
        "plt.scatter(x4,y4,label=\"Raw\")\n",
        "plt.plot(x4,y_pred04,label=\"Fit\")\n",
        "plt.xlabel(\"Specific Gravity\")\n",
        "plt.ylabel(\"API Gravity\")\n",
        "plt.title(\"First Toy Dataset - PySR Fit\")\n",
        "plt.grid()\n",
        "plt.legend()\n",
        "plt.show()"
      ],
      "metadata": {
        "colab": {
          "base_uri": "https://localhost:8080/",
          "height": 472
        },
        "id": "Uo77QIjh4Ni4",
        "outputId": "321f25ae-f72f-4bad-e026-0aadb30e357d"
      },
      "execution_count": 21,
      "outputs": [
        {
          "output_type": "display_data",
          "data": {
            "text/plain": [
              "<Figure size 640x480 with 1 Axes>"
            ],
            "image/png": "[encoded data removed]"
          },
          "metadata": {}
        }
      ]
    },
    {
      "cell_type": "markdown",
      "source": [
        "We appear to have a wonderful fit, so let us look at the winning equation:"
      ],
      "metadata": {
        "id": "ZXYOtPeopW9N"
      }
    },
    {
      "cell_type": "code",
      "source": [
        "myEq04=myMod04.sympy()\n",
        "myEq04"
      ],
      "metadata": {
        "colab": {
          "base_uri": "https://localhost:8080/",
          "height": 54
        },
        "id": "CcAIAEg_9dvg",
        "outputId": "ee58b657-f9bb-4bcb-a8bb-9398164872c3"
      },
      "execution_count": 22,
      "outputs": [
        {
          "output_type": "execute_result",
          "data": {
            "text/plain": [
              "(x0 - 1*(-160.84647))/(x0 + x0) - 132.00002 + 122.15356/(x0 + x0)"
            ],
            "text/latex": "$\\displaystyle \\frac{x_{0} - -160.84647}{x_{0} + x_{0}} - 132.00002 + \\frac{122.15356}{x_{0} + x_{0}}$"
          },
          "metadata": {},
          "execution_count": 22
        }
      ]
    },
    {
      "cell_type": "markdown",
      "source": [
        "On first glance, this equation looks too complicated.  However, since it is in `sympy` format, we can ask for a simplified version:"
      ],
      "metadata": {
        "id": "sq3g6TNgpu7j"
      }
    },
    {
      "cell_type": "code",
      "source": [
        "sym.simplify(myEq04)"
      ],
      "metadata": {
        "colab": {
          "base_uri": "https://localhost:8080/",
          "height": 54
        },
        "id": "1MZlzh9KYvfe",
        "outputId": "3d9fdab0-9f21-42b7-b129-5213805e2a48"
      },
      "execution_count": 23,
      "outputs": [
        {
          "output_type": "execute_result",
          "data": {
            "text/plain": [
              "-131.50002 + 141.500015/x0"
            ],
            "text/latex": "$\\displaystyle -131.50002 + \\frac{141.500015}{x_{0}}$"
          },
          "metadata": {},
          "execution_count": 23
        }
      ]
    },
    {
      "cell_type": "markdown",
      "source": [
        "This is very close to our target equation.  The big difference between `PySR` and `gramEvol` is that the constants calculated from regression instead of being picked from a list.\n",
        "\n",
        "Just to be clear, here is the `sympy` version of the target equation:"
      ],
      "metadata": {
        "id": "9HlBx96gqOHD"
      }
    },
    {
      "cell_type": "code",
      "source": [
        "x, y = sym.symbols('x y')\n",
        "myTarg=sym.sympify(141.5/x-131.5)\n",
        "myTarg"
      ],
      "metadata": {
        "colab": {
          "base_uri": "https://localhost:8080/",
          "height": 51
        },
        "id": "ZcPalrtQxW_L",
        "outputId": "36cad795-932e-49c0-a47e-2e463e64bcda"
      },
      "execution_count": 24,
      "outputs": [
        {
          "output_type": "execute_result",
          "data": {
            "text/plain": [
              "-131.5 + 141.5/x"
            ],
            "text/latex": "$\\displaystyle -131.5 + \\frac{141.5}{x}$"
          },
          "metadata": {},
          "execution_count": 24
        }
      ]
    },
    {
      "cell_type": "markdown",
      "source": [
        "## GPLearn\n",
        "Next, we are going to repeat the workflow with a similar python library."
      ],
      "metadata": {
        "id": "-F4XcrD6rppK"
      }
    },
    {
      "cell_type": "code",
      "source": [
        "# Install libraries\n",
        "!pip install gplearn"
      ],
      "metadata": {
        "id": "GokjrRjlxkMB",
        "colab": {
          "base_uri": "https://localhost:8080/"
        },
        "outputId": "5e38872a-5113-4551-9248-e7e436a2e07a"
      },
      "execution_count": 25,
      "outputs": [
        {
          "output_type": "stream",
          "name": "stdout",
          "text": [
            "Requirement already satisfied: gplearn in /usr/local/lib/python3.11/dist-packages (0.4.2)\n",
            "Requirement already satisfied: scikit-learn>=1.0.2 in /usr/local/lib/python3.11/dist-packages (from gplearn) (1.6.1)\n",
            "Requirement already satisfied: joblib>=1.0.0 in /usr/local/lib/python3.11/dist-packages (from gplearn) (1.5.1)\n",
            "Requirement already satisfied: numpy>=1.19.5 in /usr/local/lib/python3.11/dist-packages (from scikit-learn>=1.0.2->gplearn) (2.0.2)\n",
            "Requirement already satisfied: scipy>=1.6.0 in /usr/local/lib/python3.11/dist-packages (from scikit-learn>=1.0.2->gplearn) (1.15.3)\n",
            "Requirement already satisfied: threadpoolctl>=3.1.0 in /usr/local/lib/python3.11/dist-packages (from scikit-learn>=1.0.2->gplearn) (3.6.0)\n"
          ]
        }
      ]
    },
    {
      "cell_type": "code",
      "source": [
        "# Call libraries\n",
        "#import numpy as np\n",
        "#import pandas as pd\n",
        "#import sympy as sym\n",
        "#import matplotlib.pyplot as plt\n",
        "from gplearn.genetic import SymbolicRegressor\n",
        "#import time"
      ],
      "metadata": {
        "id": "DO553AdWsO5R"
      },
      "execution_count": 26,
      "outputs": []
    },
    {
      "cell_type": "markdown",
      "source": [
        "This library also follows scikit-learn:"
      ],
      "metadata": {
        "id": "Im8dlbqutbpw"
      }
    },
    {
      "cell_type": "code",
      "source": [
        "t1 = time.time()\n",
        "myMod05=SymbolicRegressor(verbose=1)\n",
        "myMod05.fit(x5.reshape(-1, 1),y5)\n",
        "y_pred05=myMod05.predict(x5.reshape(-1, 1))\n",
        "print(\"time to fit: \",time.time() - t1, 'seconds')"
      ],
      "metadata": {
        "colab": {
          "base_uri": "https://localhost:8080/"
        },
        "id": "q7op58n0sbJJ",
        "outputId": "cc02a78a-55d6-4023-a66c-7f9d627e6683"
      },
      "execution_count": 27,
      "outputs": [
        {
          "output_type": "stream",
          "name": "stderr",
          "text": [
            "/usr/local/lib/python3.11/dist-packages/sklearn/base.py:474: FutureWarning: `BaseEstimator._validate_data` is deprecated in 1.6 and will be removed in 1.7. Use `sklearn.utils.validation.validate_data` instead. This function becomes public and is part of the scikit-learn developer API.\n",
            "  warnings.warn(\n"
          ]
        },
        {
          "output_type": "stream",
          "name": "stdout",
          "text": [
            "    |   Population Average    |             Best Individual              |\n",
            "---- ------------------------- ------------------------------------------ ----------\n",
            " Gen   Length          Fitness   Length          Fitness      OOB Fitness  Time Left\n",
            "   0    48.77          230.199      127          16.0636              N/A      1.19m\n",
            "   1    69.97           61.557       39          9.73818              N/A     53.49s\n",
            "   2   105.94          109.546       75          6.65517              N/A     59.87s\n",
            "   3   111.77           594.88      135           5.8833              N/A      1.22m\n",
            "   4   101.34           430.16      111          4.87836              N/A      1.09m\n",
            "   5   118.17          829.213      123          4.32692              N/A     26.02s\n",
            "   6   123.19          636.761      111          3.81706              N/A     20.34s\n",
            "   7   117.01          919.962      125          3.68446              N/A     18.69s\n",
            "   8   114.20          1030.04      139          2.86918              N/A     16.70s\n",
            "   9   118.03          1009.22      139          2.86918              N/A     21.09s\n",
            "  10   121.82          490.347      139          2.82478              N/A     22.30s\n",
            "  11   126.96          1320.42      119          2.55424              N/A     15.45s\n",
            "  12   139.68          319.006      141          2.33987              N/A     11.55s\n",
            "  13   143.51          724.901      175          1.91984              N/A     10.11s\n",
            "  14   147.76          996.678      179          1.82939              N/A      8.36s\n",
            "  15   149.28          675.834      175          1.57828              N/A      6.98s\n",
            "  16   169.78          876.069      211          1.54558              N/A      5.82s\n",
            "  17   178.75          967.873      211          1.54558              N/A      5.76s\n",
            "  18   178.07          212.905      215          1.53758              N/A      2.19s\n",
            "  19   181.07          586.638      283          1.49769              N/A      0.00s\n",
            "time to fit:  47.844974517822266 seconds\n"
          ]
        }
      ]
    },
    {
      "cell_type": "code",
      "source": [
        "plt.scatter(x5,y5,label=\"Raw\")\n",
        "plt.plot(x5,y_pred05,label=\"Fit\")\n",
        "plt.xlabel(\"Specific Gravity\")\n",
        "plt.ylabel(\"API Gravity\")\n",
        "plt.title(\"First Toy Dataset - GPLearn Fit\")\n",
        "plt.grid()\n",
        "plt.legend()\n",
        "plt.show()"
      ],
      "metadata": {
        "colab": {
          "base_uri": "https://localhost:8080/",
          "height": 472
        },
        "id": "KTE47PH2svko",
        "outputId": "5dee9daf-cc26-41a3-8064-e6b5e4ba71e4"
      },
      "execution_count": 28,
      "outputs": [
        {
          "output_type": "display_data",
          "data": {
            "text/plain": [
              "<Figure size 640x480 with 1 Axes>"
            ],
            "image/png": "[encoded data removed]"
          },
          "metadata": {}
        }
      ]
    },
    {
      "cell_type": "markdown",
      "source": [
        "The fit is *almost* as good as PySR, and it ran *almost* twice as fast.\n",
        "\n",
        "Since we chose *nearly* default parameters for this library we need to provide a dictionary for it to convert the winning equation to sympy:"
      ],
      "metadata": {
        "id": "sCpQUStbtLw8"
      }
    },
    {
      "cell_type": "code",
      "source": [
        "converter = {\n",
        "    'add': lambda x, y : x + y,\n",
        "    'sub': lambda x, y : x - y,\n",
        "    'mul': lambda x, y : x*y,\n",
        "    'div': lambda x, y : x/y,\n",
        "    'sqrt': lambda x : x**0.5,\n",
        "    'log': lambda x : log(x),\n",
        "    'abs': lambda x : abs(x),\n",
        "    'neg': lambda x : -x,\n",
        "    'inv': lambda x : 1/x,\n",
        "    'max': lambda x, y : max(x, y),\n",
        "    'min': lambda x, y : min(x, y),\n",
        "    'sin': lambda x : sin(x),\n",
        "    'cos': lambda x : cos(x),\n",
        "    'pow': lambda x, y : x**y,\n",
        "}\n",
        "myEq05 = sym.sympify(str(myMod05._program), locals=converter)\n",
        "myEq05"
      ],
      "metadata": {
        "colab": {
          "base_uri": "https://localhost:8080/",
          "height": 144
        },
        "id": "E1PmqdxdtvOc",
        "outputId": "439b735c-7e10-4abc-ce63-00baa6622c08"
      },
      "execution_count": 29,
      "outputs": [
        {
          "output_type": "execute_result",
          "data": {
            "text/plain": [
              "2.86285714285714*(X0 - 0.357)*(-(2.710027100271*X0 + 0.059/X0)*(-0.8 + (3.16000385319333*X0*(X0 - 0.26) + 4.13139611542167*X0 + 3.61861904761905)/(X0 - 0.357 - 0.872428571428571/X0) + 1.43142857142857/X0) + (-2.80898876404494*X0*(-X0 - 0.306) + 0.501)/((3.19488817891374*X0 + 1)/(1.489*X0 - (2.710027100271*X0 + 0.059/X0)*(0.356 + (3.16000385319333*X0*(X0 - 0.26) + 4.13139611542167*X0 + 3.61861904761905)/(X0 - 0.357 - 0.872428571428571/X0) + 0.791139240506329*(3.19488817891374*X0 + 1)/X0) + 0.643 - 0.872428571428571/X0) - 1) - 231.122687272957/X0**2)/((1.84152184795823 - 16.8788528927984*X0)*(X0**2 + 0.26*X0))"
            ],
            "text/latex": "$\\displaystyle \\frac{2.86285714285714 \\left(X_{0} - 0.357\\right) \\left(- \\left(2.710027100271 X_{0} + \\frac{0.059}{X_{0}}\\right) \\left(-0.8 + \\frac{3.16000385319333 X_{0} \\left(X_{0} - 0.26\\right) + 4.13139611542167 X_{0} + 3.61861904761905}{X_{0} - 0.357 - \\frac{0.872428571428571}{X_{0}}} + \\frac{1.43142857142857}{X_{0}}\\right) + \\frac{- 2.80898876404494 X_{0} \\left(- X_{0} - 0.306\\right) + 0.501}{\\frac{3.19488817891374 X_{0} + 1}{1.489 X_{0} - \\left(2.710027100271 X_{0} + \\frac{0.059}{X_{0}}\\right) \\left(0.356 + \\frac{3.16000385319333 X_{0} \\left(X_{0} - 0.26\\right) + 4.13139611542167 X_{0} + 3.61861904761905}{X_{0} - 0.357 - \\frac{0.872428571428571}{X_{0}}} + \\frac{0.791139240506329 \\left(3.19488817891374 X_{0} + 1\\right)}{X_{0}}\\right) + 0.643 - \\frac{0.872428571428571}{X_{0}}} - 1} - \\frac{231.122687272957}{X_{0}^{2}}\\right)}{\\left(1.84152184795823 - 16.8788528927984 X_{0}\\right) \\left(X_{0}^{2} + 0.26 X_{0}\\right)}$"
          },
          "metadata": {},
          "execution_count": 29
        }
      ]
    },
    {
      "cell_type": "markdown",
      "source": [
        "Hmm. Lets have it simplified:"
      ],
      "metadata": {
        "id": "4F4fQlaeuGfH"
      }
    },
    {
      "cell_type": "code",
      "source": [
        "sym.simplify(myEq05)"
      ],
      "metadata": {
        "colab": {
          "base_uri": "https://localhost:8080/",
          "height": 78
        },
        "id": "ltyBJJR-t_Yg",
        "outputId": "93336663-7718-4446-fa42-79246de9608a"
      },
      "execution_count": 30,
      "outputs": [
        {
          "output_type": "execute_result",
          "data": {
            "text/plain": [
              "(278.820002953071*X0**13 + 640.018813576176*X0**12 + 690.754307137746*X0**11 + 268.31036133222*X0**10 + 5457.87712812355*X0**9 + 7619.62577640509*X0**8 - 6937.47921256253*X0**7 - 16804.077869542*X0**6 + 1575.78354402274*X0**5 + 6273.6100798772*X0**4 - 102.256793911761*X0**3 + 2.9432049685599*X0**2 - 170.865461382981*X0 - 8.39525390570684)/(X0**3*(144.545366338012*X0**10 + 282.301566657126*X0**9 - 48.7993700979364*X0**8 - 481.522001438071*X0**7 - 191.930188319542*X0**6 + 109.695704741436*X0**5 + 59.6272490047645*X0**4 + 16.4463177493779*X0**3 + 1.59776694954208*X0**2 - 0.303370477591*X0 - 0.0170104154782206))"
            ],
            "text/latex": "$\\displaystyle \\frac{278.820002953071 X_{0}^{13} + 640.018813576176 X_{0}^{12} + 690.754307137746 X_{0}^{11} + 268.31036133222 X_{0}^{10} + 5457.87712812355 X_{0}^{9} + 7619.62577640509 X_{0}^{8} - 6937.47921256253 X_{0}^{7} - 16804.077869542 X_{0}^{6} + 1575.78354402274 X_{0}^{5} + 6273.6100798772 X_{0}^{4} - 102.256793911761 X_{0}^{3} + 2.9432049685599 X_{0}^{2} - 170.865461382981 X_{0} - 8.39525390570684}{X_{0}^{3} \\left(144.545366338012 X_{0}^{10} + 282.301566657126 X_{0}^{9} - 48.7993700979364 X_{0}^{8} - 481.522001438071 X_{0}^{7} - 191.930188319542 X_{0}^{6} + 109.695704741436 X_{0}^{5} + 59.6272490047645 X_{0}^{4} + 16.4463177493779 X_{0}^{3} + 1.59776694954208 X_{0}^{2} - 0.303370477591 X_{0} - 0.0170104154782206\\right)}$"
          },
          "metadata": {},
          "execution_count": 30
        }
      ]
    },
    {
      "cell_type": "markdown",
      "source": [
        "That did not change much. (:-<)  This is a *good* equation, but it is much more complicated than it needs to be.\n",
        "\n",
        "## Tentative Conclusions\n",
        "1. Setting the random number seed does *not* guarantee the same answers in either library.\n",
        "2. Both libraries \"work\", but one may need more tuning than the other to produce actionable results.\n",
        "3. It would appear as though domain knowledge may be necessary to tell whether a winning equation is \"simple\" enough."
      ],
      "metadata": {
        "id": "1W-9PGSHt-9v"
      }
    }
  ]
}