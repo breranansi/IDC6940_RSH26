{
 "cells": [
  {
   "cell_type": "markdown",
   "metadata": {
    "id": "0uxM1aTS2jAV"
   },
   "source": [
    "# PySR Clean Run\n"
   ]
  },
  {
   "cell_type": "code",
   "execution_count": 1,
   "metadata": {
    "colab": {
     "base_uri": "https://localhost:8080/"
    },
    "executionInfo": {
     "elapsed": 7076,
     "status": "ok",
     "timestamp": 1750547738258,
     "user": {
      "displayName": "Richard Henry",
      "userId": "12926619101509154418"
     },
     "user_tz": 300
    },
    "id": "x5BBOo-D2Zk_",
    "outputId": "3868b60b-2cb3-4260-882a-0e4552c2b93e"
   },
   "outputs": [
    {
     "name": "stdout",
     "output_type": "stream",
     "text": [
      "Requirement already satisfied: pysr in /home/richard/Documents/p311a/lib/python3.11/site-packages (1.5.9)\n",
      "Requirement already satisfied: click<9.0.0,>=7.0.0 in /home/richard/Documents/p311a/lib/python3.11/site-packages (from pysr) (8.2.1)\n",
      "Requirement already satisfied: juliacall<0.9.27,>=0.9.24 in /home/richard/Documents/p311a/lib/python3.11/site-packages (from pysr) (0.9.25)\n",
      "Requirement already satisfied: numpy<3.0.0,>=1.13.0 in /home/richard/Documents/p311a/lib/python3.11/site-packages (from pysr) (2.3.1)\n",
      "Requirement already satisfied: pandas<3.0.0,>=0.21.0 in /home/richard/Documents/p311a/lib/python3.11/site-packages (from pysr) (2.3.1)\n",
      "Requirement already satisfied: scikit-learn<2.0.0,>=1.0.0 in /home/richard/Documents/p311a/lib/python3.11/site-packages (from pysr) (1.7.0)\n",
      "Requirement already satisfied: sympy<2.0.0,>=1.0.0 in /home/richard/Documents/p311a/lib/python3.11/site-packages (from pysr) (1.14.0)\n",
      "Requirement already satisfied: typing-extensions<5.0.0,>=4.0.0 in /usr/share/positron/resources/app/extensions/positron-python/python_files/lib/ipykernel/py3 (from pysr) (4.13.2)\n",
      "Requirement already satisfied: juliapkg~=0.1.17 in /home/richard/Documents/p311a/lib/python3.11/site-packages (from juliacall<0.9.27,>=0.9.24->pysr) (0.1.17)\n",
      "Requirement already satisfied: python-dateutil>=2.8.2 in /usr/share/positron/resources/app/extensions/positron-python/python_files/lib/ipykernel/py3 (from pandas<3.0.0,>=0.21.0->pysr) (2.9.0.post0)\n",
      "Requirement already satisfied: pytz>=2020.1 in /home/richard/Documents/p311a/lib/python3.11/site-packages (from pandas<3.0.0,>=0.21.0->pysr) (2025.2)\n",
      "Requirement already satisfied: tzdata>=2022.7 in /home/richard/Documents/p311a/lib/python3.11/site-packages (from pandas<3.0.0,>=0.21.0->pysr) (2025.2)\n",
      "Requirement already satisfied: scipy>=1.8.0 in /home/richard/Documents/p311a/lib/python3.11/site-packages (from scikit-learn<2.0.0,>=1.0.0->pysr) (1.16.0)\n",
      "Requirement already satisfied: joblib>=1.2.0 in /home/richard/Documents/p311a/lib/python3.11/site-packages (from scikit-learn<2.0.0,>=1.0.0->pysr) (1.5.1)\n",
      "Requirement already satisfied: threadpoolctl>=3.1.0 in /home/richard/Documents/p311a/lib/python3.11/site-packages (from scikit-learn<2.0.0,>=1.0.0->pysr) (3.6.0)\n",
      "Requirement already satisfied: mpmath<1.4,>=1.1.0 in /home/richard/Documents/p311a/lib/python3.11/site-packages (from sympy<2.0.0,>=1.0.0->pysr) (1.3.0)\n",
      "Requirement already satisfied: filelock<4.0,>=3.16 in /home/richard/Documents/p311a/lib/python3.11/site-packages (from juliapkg~=0.1.17->juliacall<0.9.27,>=0.9.24->pysr) (3.18.0)\n",
      "Requirement already satisfied: semver<4.0,>=3.0 in /home/richard/Documents/p311a/lib/python3.11/site-packages (from juliapkg~=0.1.17->juliacall<0.9.27,>=0.9.24->pysr) (3.0.4)\n",
      "Requirement already satisfied: six>=1.5 in /usr/share/positron/resources/app/extensions/positron-python/python_files/lib/ipykernel/py3 (from python-dateutil>=2.8.2->pandas<3.0.0,>=0.21.0->pysr) (1.17.0)\n",
      "\n",
      "\u001b[1m[\u001b[0m\u001b[34;49mnotice\u001b[0m\u001b[1;39;49m]\u001b[0m\u001b[39;49m A new release of pip is available: \u001b[0m\u001b[31;49m24.0\u001b[0m\u001b[39;49m -> \u001b[0m\u001b[32;49m25.1.1\u001b[0m\n",
      "\u001b[1m[\u001b[0m\u001b[34;49mnotice\u001b[0m\u001b[1;39;49m]\u001b[0m\u001b[39;49m To update, run: \u001b[0m\u001b[32;49m/home/richard/Documents/p311a/bin/python -m pip install --upgrade pip\u001b[0m\n",
      "Note: you may need to restart the kernel to use updated packages.\n"
     ]
    }
   ],
   "source": [
    "# Install libraries\n",
    "%pip install -U pysr"
   ]
  },
  {
   "cell_type": "code",
   "execution_count": 2,
   "metadata": {
    "id": "k5IBUT6qo2m-"
   },
   "outputs": [],
   "source": [
    "#import pysr"
   ]
  },
  {
   "cell_type": "code",
   "execution_count": 3,
   "metadata": {
    "id": "eOgIB7Va293v"
   },
   "outputs": [
    {
     "name": "stdout",
     "output_type": "stream",
     "text": [
      "Detected IPython. Loading juliacall extension. See https://juliapy.github.io/PythonCall.jl/stable/compat/#IPython\n"
     ]
    }
   ],
   "source": [
    "# Call libraries\n",
    "import numpy as np\n",
    "#import pandas as pd\n",
    "#from numpy import random\n",
    "import sympy as sym\n",
    "import matplotlib.pyplot as plt\n",
    "from pysr import PySRRegressor\n",
    "import time"
   ]
  },
  {
   "cell_type": "code",
   "execution_count": 4,
   "metadata": {
    "colab": {
     "base_uri": "https://localhost:8080/",
     "height": 430
    },
    "executionInfo": {
     "elapsed": 201,
     "status": "ok",
     "timestamp": 1750547738488,
     "user": {
      "displayName": "Richard Henry",
      "userId": "12926619101509154418"
     },
     "user_tz": 300
    },
    "id": "uLVMvZH23bmW",
    "outputId": "05d11bd0-cf09-4497-b705-f4a3abb14aef"
   },
   "outputs": [
    {
     "data": {
      "image/png": "[encoded data removed]",
      "text/plain": [
       "<Figure size 640x480 with 1 Axes>"
      ]
     },
     "metadata": {},
     "output_type": "display_data"
    }
   ],
   "source": [
    "# Build Toy Dataset\n",
    "x=np.arange(start=0.55,stop=1.075,step=0.025)\n",
    "y=141.5/x-131.5\n",
    "plt.plot(x,y,marker=\"o\",linestyle=\"None\")\n",
    "plt.title(\"Toy Dataset\")\n",
    "plt.xlabel(\"Specific Gravity\")\n",
    "plt.ylabel(\"API Gravity\")\n",
    "plt.grid()\n",
    "plt.show()"
   ]
  },
  {
   "cell_type": "code",
   "execution_count": 5,
   "metadata": {
    "colab": {
     "base_uri": "https://localhost:8080/"
    },
    "executionInfo": {
     "elapsed": 32184,
     "status": "ok",
     "timestamp": 1750547770670,
     "user": {
      "displayName": "Richard Henry",
      "userId": "12926619101509154418"
     },
     "user_tz": 300
    },
    "id": "f0jVmptr37NQ",
    "outputId": "3ae277da-ca24-48eb-d673-c3f476adc5d5"
   },
   "outputs": [
    {
     "name": "stderr",
     "output_type": "stream",
     "text": [
      "/home/richard/Documents/p311a/lib/python3.11/site-packages/pysr/sr.py:2811: UserWarning: Note: it looks like you are running in Jupyter. The progress bar will be turned off.\n",
      "  warnings.warn(\n",
      "Compiling Julia backend...\n",
      "[ Info: Started!\n"
     ]
    },
    {
     "name": "stdout",
     "output_type": "stream",
     "text": [
      "\n",
      "Expressions evaluated per second: 9.720e+04\n",
      "Progress: 541 / 3100 total iterations (17.452%)\n",
      "════════════════════════════════════════════════════════════════════════════════════════════════════\n",
      "───────────────────────────────────────────────────────────────────────────────────────────────────\n",
      "Complexity  Loss       Score      Equation\n",
      "1           1.321e+03  0.000e+00  y = 52.152\n",
      "3           6.519e+02  3.532e-01  y = 44 / x₀\n",
      "5           4.859e-11  1.511e+01  y = (141.5 / x₀) - 131.5\n",
      "7           3.196e-11  2.095e-01  y = ((x₀ - -141.5) / x₀) + -132.5\n",
      "11          2.055e-11  1.104e-01  y = 0.026039 - ((((x₀ * -4.1323) + 4.4457) / x₀) * -31.829...\n",
      "                                      )\n",
      "13          2.033e-11  5.363e-03  y = ((-132.05 - (-98.698 / x₀)) + (42.802 / x₀)) + (1.0489...\n",
      "                                       - 0.49724)\n",
      "19          7.474e-12  1.668e-01  y = (0.69577 + (((((x₀ - x₀) - ((x₀ * -4.2242) + 4.5215)) ...\n",
      "                                      / x₀) * -31.295) - x₀)) + x₀\n",
      "───────────────────────────────────────────────────────────────────────────────────────────────────\n",
      "════════════════════════════════════════════════════════════════════════════════════════════════════\n",
      "Press 'q' and then <enter> to stop execution early.\n",
      "\n",
      "Expressions evaluated per second: 9.590e+04\n",
      "Progress: 1125 / 3100 total iterations (36.290%)\n",
      "════════════════════════════════════════════════════════════════════════════════════════════════════\n",
      "───────────────────────────────────────────────────────────────────────────────────────────────────\n",
      "Complexity  Loss       Score      Equation\n",
      "1           1.321e+03  0.000e+00  y = 52.152\n",
      "3           6.519e+02  3.532e-01  y = 44 / x₀\n",
      "5           4.859e-11  1.511e+01  y = (141.5 / x₀) - 131.5\n",
      "7           3.196e-11  2.095e-01  y = ((x₀ - -141.5) / x₀) + -132.5\n",
      "9           2.503e-11  1.222e-01  y = ((5.2345 / x₀) + (136.27 / x₀)) + -131.5\n",
      "11          7.622e-12  5.945e-01  y = 0.69577 - (-31.295 * ((4.5215 + (x₀ * -4.2242)) / x₀))\n",
      "19          7.474e-12  2.466e-03  y = (0.69577 + (((((x₀ - x₀) - ((x₀ * -4.2242) + 4.5215)) ...\n",
      "                                      / x₀) * -31.295) - x₀)) + x₀\n",
      "───────────────────────────────────────────────────────────────────────────────────────────────────\n",
      "════════════════════════════════════════════════════════════════════════════════════════════════════\n",
      "Press 'q' and then <enter> to stop execution early.\n",
      "\n",
      "Expressions evaluated per second: 1.010e+05\n",
      "Progress: 1729 / 3100 total iterations (55.774%)\n",
      "════════════════════════════════════════════════════════════════════════════════════════════════════\n",
      "───────────────────────────────────────────────────────────────────────────────────────────────────\n",
      "Complexity  Loss       Score      Equation\n",
      "1           1.321e+03  0.000e+00  y = 52.152\n",
      "3           6.519e+02  3.532e-01  y = 44 / x₀\n",
      "5           4.831e-11  1.512e+01  y = (141.5 / x₀) + -131.5\n",
      "7           3.196e-11  2.066e-01  y = ((x₀ - -141.5) / x₀) + -132.5\n",
      "9           1.832e-11  2.783e-01  y = ((125.91 / x₀) + -131.5) + (15.586 / x₀)\n",
      "11          7.622e-12  4.384e-01  y = 0.69577 - (-31.295 * ((4.5215 + (x₀ * -4.2242)) / x₀))\n",
      "15          7.474e-12  4.931e-03  y = (0.69577 - ((-31.295 * ((4.5215 + (x₀ * -4.2242)) / x₀...\n",
      "                                      )) + x₀)) + x₀\n",
      "23          7.430e-12  7.265e-04  y = x₀ + (x₀ + (((((x₀ - x₀) - ((((x₀ * -4.2242) + 4.5215)...\n",
      "                                       / x₀) * -31.295)) - x₀) - x₀) + 0.69577))\n",
      "───────────────────────────────────────────────────────────────────────────────────────────────────\n",
      "════════════════════════════════════════════════════════════════════════════════════════════════════\n",
      "Press 'q' and then <enter> to stop execution early.\n",
      "\n",
      "Expressions evaluated per second: 1.050e+05\n",
      "Progress: 2337 / 3100 total iterations (75.387%)\n",
      "════════════════════════════════════════════════════════════════════════════════════════════════════\n",
      "───────────────────────────────────────────────────────────────────────────────────────────────────\n",
      "Complexity  Loss       Score      Equation\n",
      "1           1.321e+03  0.000e+00  y = 52.152\n",
      "3           6.519e+02  3.532e-01  y = 44 / x₀\n",
      "5           4.831e-11  1.512e+01  y = (141.5 / x₀) + -131.5\n",
      "7           3.196e-11  2.066e-01  y = ((x₀ - -141.5) / x₀) + -132.5\n",
      "9           1.832e-11  2.783e-01  y = ((125.91 / x₀) + -131.5) + (15.586 / x₀)\n",
      "11          7.622e-12  4.384e-01  y = 0.69577 - (-31.295 * ((4.5215 + (x₀ * -4.2242)) / x₀))\n",
      "15          7.474e-12  4.931e-03  y = (0.69577 - ((-31.295 * ((4.5215 + (x₀ * -4.2242)) / x₀...\n",
      "                                      )) + x₀)) + x₀\n",
      "23          4.279e-12  6.969e-02  y = ((0.69577 + x₀) + (x₀ - (x₀ + ((((-4.2242 * x₀) + 4.52...\n",
      "                                      15) * (-31.295 / x₀)) + (x₀ + x₀))))) + x₀\n",
      "───────────────────────────────────────────────────────────────────────────────────────────────────\n",
      "════════════════════════════════════════════════════════════════════════════════════════════════════\n",
      "Press 'q' and then <enter> to stop execution early.\n",
      "\n",
      "Expressions evaluated per second: 1.090e+05\n",
      "Progress: 2964 / 3100 total iterations (95.613%)\n",
      "════════════════════════════════════════════════════════════════════════════════════════════════════\n",
      "───────────────────────────────────────────────────────────────────────────────────────────────────\n",
      "Complexity  Loss       Score      Equation\n",
      "1           1.321e+03  0.000e+00  y = 52.152\n",
      "3           6.519e+02  3.532e-01  y = 44 / x₀\n",
      "5           4.831e-11  1.512e+01  y = (141.5 / x₀) + -131.5\n",
      "7           3.196e-11  2.066e-01  y = ((x₀ - -141.5) / x₀) + -132.5\n",
      "9           1.832e-11  2.783e-01  y = ((125.91 / x₀) + -131.5) + (15.586 / x₀)\n",
      "11          7.622e-12  4.384e-01  y = 0.69577 - (-31.295 * ((4.5215 + (x₀ * -4.2242)) / x₀))\n",
      "15          7.474e-12  4.931e-03  y = (0.69577 - ((-31.295 * ((4.5215 + (x₀ * -4.2242)) / x₀...\n",
      "                                      )) + x₀)) + x₀\n",
      "19          4.279e-12  1.394e-01  y = ((x₀ + 0.69577) - ((x₀ + x₀) + (((x₀ * -4.2242) + 4.52...\n",
      "                                      15) * (-31.295 / x₀)))) + x₀\n",
      "27          3.587e-12  2.208e-02  y = x₀ + ((x₀ + 0.69577) + (x₀ - ((((x₀ + (((x₀ * -4.2242)...\n",
      "                                       + 4.5215) * (-31.295 / x₀))) + x₀) + (x₀ + x₀)) - x₀)))\n",
      "───────────────────────────────────────────────────────────────────────────────────────────────────\n",
      "════════════════════════════════════════════════════════════════════════════════════════════════════\n",
      "Press 'q' and then <enter> to stop execution early.\n",
      "───────────────────────────────────────────────────────────────────────────────────────────────────\n",
      "Complexity  Loss       Score      Equation\n",
      "1           1.321e+03  0.000e+00  y = 52.152\n",
      "3           6.519e+02  3.532e-01  y = 44 / x₀\n",
      "5           4.831e-11  1.512e+01  y = (141.5 / x₀) + -131.5\n",
      "7           3.196e-11  2.066e-01  y = ((x₀ - -141.5) / x₀) + -132.5\n",
      "9           1.832e-11  2.783e-01  y = ((125.91 / x₀) + -131.5) + (15.586 / x₀)\n",
      "11          7.622e-12  4.384e-01  y = 0.69577 - (-31.295 * ((4.5215 + (x₀ * -4.2242)) / x₀))\n",
      "15          7.474e-12  4.931e-03  y = (0.69577 - ((-31.295 * ((4.5215 + (x₀ * -4.2242)) / x₀...\n",
      "                                      )) + x₀)) + x₀\n",
      "19          4.279e-12  1.394e-01  y = ((x₀ + 0.69577) - ((x₀ + x₀) + (((x₀ * -4.2242) + 4.52...\n",
      "                                      15) * (-31.295 / x₀)))) + x₀\n",
      "27          3.587e-12  2.208e-02  y = x₀ + ((x₀ + 0.69577) + (x₀ - ((((x₀ + (((x₀ * -4.2242)...\n",
      "                                       + 4.5215) * (-31.295 / x₀))) + x₀) + (x₀ + x₀)) - x₀)))\n",
      "───────────────────────────────────────────────────────────────────────────────────────────────────\n"
     ]
    },
    {
     "name": "stderr",
     "output_type": "stream",
     "text": [
      "[ Info: Final population:\n",
      "[ Info: Results saved to:\n"
     ]
    },
    {
     "name": "stdout",
     "output_type": "stream",
     "text": [
      "time to fit:  45.69720506668091 seconds\n",
      "  - outputs/20250717_103109_nMPuB8/hall_of_fame.csv\n"
     ]
    }
   ],
   "source": [
    "t0 = time.time()\n",
    "myMod=PySRRegressor(random_state=7,deterministic=True,parallelism='serial')\n",
    "myMod.fit(x.reshape(-1, 1),y)\n",
    "y_pred=myMod.predict(x.reshape(-1, 1))\n",
    "print(\"time to fit: \",time.time() - t0, 'seconds')"
   ]
  },
  {
   "cell_type": "code",
   "execution_count": 6,
   "metadata": {
    "colab": {
     "base_uri": "https://localhost:8080/",
     "height": 430
    },
    "executionInfo": {
     "elapsed": 33,
     "status": "ok",
     "timestamp": 1750547770702,
     "user": {
      "displayName": "Richard Henry",
      "userId": "12926619101509154418"
     },
     "user_tz": 300
    },
    "id": "Uo77QIjh4Ni4",
    "outputId": "55c163b8-a57b-4b8c-df71-7138670a7567"
   },
   "outputs": [
    {
     "data": {
      "image/png": "[encoded data removed]",
      "text/plain": [
       "<Figure size 640x480 with 1 Axes>"
      ]
     },
     "metadata": {},
     "output_type": "display_data"
    }
   ],
   "source": [
    "plt.plot(x,y,marker=\"o\",linestyle=\"None\",label=\"Original\")\n",
    "plt.plot(x,y_pred,label=\"Predicted\")\n",
    "plt.title(\"Toy Dataset Fit\")\n",
    "plt.xlabel(\"Specific Gravity\")\n",
    "plt.ylabel(\"API Gravity\")\n",
    "plt.legend()\n",
    "plt.grid()\n",
    "plt.show()"
   ]
  },
  {
   "cell_type": "code",
   "execution_count": 7,
   "metadata": {
    "colab": {
     "base_uri": "https://localhost:8080/",
     "height": 55
    },
    "executionInfo": {
     "elapsed": 6,
     "status": "ok",
     "timestamp": 1750547770710,
     "user": {
      "displayName": "Richard Henry",
      "userId": "12926619101509154418"
     },
     "user_tz": 300
    },
    "id": "CcAIAEg_9dvg",
    "outputId": "7cf5c66b-59b9-4290-fd87-5c34fc72446e"
   },
   "outputs": [
    {
     "data": {
      "text/latex": [
       "$\\displaystyle x_{0} + x_{0} - \\left(x_{0} + x_{0} + \\left(4.521473 + x_{0} \\left(-4.224167\\right)\\right) \\left(-31.295113\\right) \\frac{1}{x_{0}}\\right) + 0.6957725$"
      ],
      "text/plain": [
       "x0 + x0 - (x0 + x0 + (4.521473 + x0*(-4.224167))*(-31.295113)/x0) + 0.6957725"
      ]
     },
     "execution_count": null,
     "metadata": {},
     "output_type": "execute_result"
    }
   ],
   "source": [
    "myEq=myMod.sympy()\n",
    "myEq"
   ]
  },
  {
   "cell_type": "code",
   "execution_count": 8,
   "metadata": {
    "colab": {
     "base_uri": "https://localhost:8080/",
     "height": 54
    },
    "executionInfo": {
     "elapsed": 27,
     "status": "ok",
     "timestamp": 1750547770741,
     "user": {
      "displayName": "Richard Henry",
      "userId": "12926619101509154418"
     },
     "user_tz": 300
    },
    "id": "1MZlzh9KYvfe",
    "outputId": "26d79583-0b7e-4e5b-e96b-172d4cf86633"
   },
   "outputs": [
    {
     "data": {
      "text/latex": [
       "$\\displaystyle -131.500011095871 + \\frac{141.500008461449}{x_{0}}$"
      ],
      "text/plain": [
       "-131.500011095871 + 141.500008461449/x0"
      ]
     },
     "execution_count": null,
     "metadata": {},
     "output_type": "execute_result"
    }
   ],
   "source": [
    "sym.simplify(myEq)"
   ]
  },
  {
   "cell_type": "code",
   "execution_count": 9,
   "metadata": {
    "colab": {
     "base_uri": "https://localhost:8080/",
     "height": 51
    },
    "executionInfo": {
     "elapsed": 33,
     "status": "ok",
     "timestamp": 1750547770776,
     "user": {
      "displayName": "Richard Henry",
      "userId": "12926619101509154418"
     },
     "user_tz": 300
    },
    "id": "ZcPalrtQxW_L",
    "outputId": "1d3d8976-4145-4a1b-82d6-a25a71e91b0d"
   },
   "outputs": [
    {
     "data": {
      "text/latex": [
       "$\\displaystyle -131.5 + \\frac{141.5}{x}$"
      ],
      "text/plain": [
       "-131.5 + 141.5/x"
      ]
     },
     "execution_count": null,
     "metadata": {},
     "output_type": "execute_result"
    }
   ],
   "source": [
    "x, y = sym.symbols('x y')\n",
    "myTarg=sym.sympify(141.5/x-131.5)\n",
    "myTarg"
   ]
  }
 ],
 "metadata": {
  "colab": {
   "authorship_tag": "ABX9TyOABp/9+cM/UeI9HdrGJDRJ",
   "provenance": []
  },
  "kernelspec": {
   "display_name": "Python 3",
   "name": "python3"
  },
  "language_info": {
   "name": "python"
  }
 },
 "nbformat": 4,
 "nbformat_minor": 0
}
