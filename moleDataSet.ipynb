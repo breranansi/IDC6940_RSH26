{
 "cells": [
  {
   "cell_type": "code",
   "execution_count": 1,
   "id": "QngKUFGpk-Wj",
   "metadata": {
    "colab": {
     "base_uri": "https://localhost:8080/"
    },
    "executionInfo": {
     "elapsed": 7793,
     "status": "ok",
     "timestamp": 1752441730623,
     "user": {
      "displayName": "Richard Henry",
      "userId": "12926619101509154418"
     },
     "user_tz": 300
    },
    "id": "QngKUFGpk-Wj",
    "outputId": "ae7f07d1-8323-4471-938f-b818b5484a60"
   },
   "outputs": [
    {
     "name": "stdout",
     "output_type": "stream",
     "text": [
      "Collecting pysr\n",
      "  Using cached pysr-1.5.8-py3-none-any.whl.metadata (54 kB)\n",
      "Collecting click<9.0.0,>=7.0.0 (from pysr)\n",
      "  Using cached click-8.2.1-py3-none-any.whl.metadata (2.5 kB)\n",
      "Collecting juliacall<0.9.26,>=0.9.24 (from pysr)\n",
      "  Using cached juliacall-0.9.25-py3-none-any.whl.metadata (4.5 kB)\n",
      "Requirement already satisfied: numpy<3.0.0,>=1.13.0 in /home/richard/Documents/p311a/lib/python3.11/site-packages (from pysr) (2.3.1)\n",
      "Requirement already satisfied: pandas<3.0.0,>=0.21.0 in /home/richard/Documents/p311a/lib/python3.11/site-packages (from pysr) (2.3.1)\n",
      "Collecting scikit-learn<2.0.0,>=1.0.0 (from pysr)\n",
      "  Downloading scikit_learn-1.7.0-cp311-cp311-manylinux_2_17_x86_64.manylinux2014_x86_64.whl.metadata (17 kB)\n",
      "Collecting sympy<2.0.0,>=1.0.0 (from pysr)\n",
      "  Using cached sympy-1.14.0-py3-none-any.whl.metadata (12 kB)\n",
      "Requirement already satisfied: typing-extensions<5.0.0,>=4.0.0 in /usr/share/positron/resources/app/extensions/positron-python/python_files/lib/ipykernel/py3 (from pysr) (4.13.2)\n",
      "Collecting juliapkg~=0.1.17 (from juliacall<0.9.26,>=0.9.24->pysr)\n",
      "  Using cached juliapkg-0.1.17-py3-none-any.whl.metadata (6.2 kB)\n",
      "Requirement already satisfied: python-dateutil>=2.8.2 in /usr/share/positron/resources/app/extensions/positron-python/python_files/lib/ipykernel/py3 (from pandas<3.0.0,>=0.21.0->pysr) (2.9.0.post0)\n",
      "Requirement already satisfied: pytz>=2020.1 in /home/richard/Documents/p311a/lib/python3.11/site-packages (from pandas<3.0.0,>=0.21.0->pysr) (2025.2)\n",
      "Requirement already satisfied: tzdata>=2022.7 in /home/richard/Documents/p311a/lib/python3.11/site-packages (from pandas<3.0.0,>=0.21.0->pysr) (2025.2)\n",
      "Collecting scipy>=1.8.0 (from scikit-learn<2.0.0,>=1.0.0->pysr)\n",
      "  Downloading scipy-1.16.0-cp311-cp311-manylinux2014_x86_64.manylinux_2_17_x86_64.whl.metadata (61 kB)\n",
      "\u001b[2K     \u001b[38;2;114;156;31m━━━━━━━━━━━━━━━━━━━━━━━━━━━━━━━━━━━━━━━━\u001b[0m \u001b[32m61.9/61.9 kB\u001b[0m \u001b[31m1.1 MB/s\u001b[0m eta \u001b[36m0:00:00\u001b[0m[31m1.6 MB/s\u001b[0m eta \u001b[36m0:00:01\u001b[0m\n",
      "\u001b[?25hCollecting joblib>=1.2.0 (from scikit-learn<2.0.0,>=1.0.0->pysr)\n",
      "  Using cached joblib-1.5.1-py3-none-any.whl.metadata (5.6 kB)\n",
      "Collecting threadpoolctl>=3.1.0 (from scikit-learn<2.0.0,>=1.0.0->pysr)\n",
      "  Using cached threadpoolctl-3.6.0-py3-none-any.whl.metadata (13 kB)\n",
      "Collecting mpmath<1.4,>=1.1.0 (from sympy<2.0.0,>=1.0.0->pysr)\n",
      "  Using cached mpmath-1.3.0-py3-none-any.whl.metadata (8.6 kB)\n",
      "Collecting filelock<4.0,>=3.16 (from juliapkg~=0.1.17->juliacall<0.9.26,>=0.9.24->pysr)\n",
      "  Using cached filelock-3.18.0-py3-none-any.whl.metadata (2.9 kB)\n",
      "Collecting semver<4.0,>=3.0 (from juliapkg~=0.1.17->juliacall<0.9.26,>=0.9.24->pysr)\n",
      "  Using cached semver-3.0.4-py3-none-any.whl.metadata (6.8 kB)\n",
      "Requirement already satisfied: six>=1.5 in /usr/share/positron/resources/app/extensions/positron-python/python_files/lib/ipykernel/py3 (from python-dateutil>=2.8.2->pandas<3.0.0,>=0.21.0->pysr) (1.17.0)\n",
      "Using cached pysr-1.5.8-py3-none-any.whl (99 kB)\n",
      "Using cached click-8.2.1-py3-none-any.whl (102 kB)\n",
      "Using cached juliacall-0.9.25-py3-none-any.whl (12 kB)\n",
      "Downloading scikit_learn-1.7.0-cp311-cp311-manylinux_2_17_x86_64.manylinux2014_x86_64.whl (12.9 MB)\n",
      "\u001b[2K   \u001b[38;2;114;156;31m━━━━━━━━━━━━━━━━━━━━━━━━━━━━━━━━━━━━━━━━\u001b[0m \u001b[32m12.9/12.9 MB\u001b[0m \u001b[31m44.8 MB/s\u001b[0m eta \u001b[36m0:00:00\u001b[0mm eta \u001b[36m0:00:01\u001b[0m[36m0:00:01\u001b[0m\n",
      "\u001b[?25hUsing cached sympy-1.14.0-py3-none-any.whl (6.3 MB)\n",
      "Using cached joblib-1.5.1-py3-none-any.whl (307 kB)\n",
      "Using cached juliapkg-0.1.17-py3-none-any.whl (16 kB)\n",
      "Using cached mpmath-1.3.0-py3-none-any.whl (536 kB)\n",
      "Downloading scipy-1.16.0-cp311-cp311-manylinux2014_x86_64.manylinux_2_17_x86_64.whl (35.3 MB)\n",
      "\u001b[2K   \u001b[38;2;114;156;31m━━━━━━━━━━━━━━━━━━━━━━━━━━━━━━━━━━━━━━━━\u001b[0m \u001b[32m35.3/35.3 MB\u001b[0m \u001b[31m19.5 MB/s\u001b[0m eta \u001b[36m0:00:00\u001b[0mm eta \u001b[36m0:00:01\u001b[0m[36m0:00:01\u001b[0m\n",
      "\u001b[?25hUsing cached threadpoolctl-3.6.0-py3-none-any.whl (18 kB)\n",
      "Using cached filelock-3.18.0-py3-none-any.whl (16 kB)\n",
      "Using cached semver-3.0.4-py3-none-any.whl (17 kB)\n",
      "Installing collected packages: mpmath, threadpoolctl, sympy, semver, scipy, joblib, filelock, click, scikit-learn, juliapkg, juliacall, pysr\n",
      "Successfully installed click-8.2.1 filelock-3.18.0 joblib-1.5.1 juliacall-0.9.25 juliapkg-0.1.17 mpmath-1.3.0 pysr-1.5.8 scikit-learn-1.7.0 scipy-1.16.0 semver-3.0.4 sympy-1.14.0 threadpoolctl-3.6.0\n",
      "\n",
      "\u001b[1m[\u001b[0m\u001b[34;49mnotice\u001b[0m\u001b[1;39;49m]\u001b[0m\u001b[39;49m A new release of pip is available: \u001b[0m\u001b[31;49m24.0\u001b[0m\u001b[39;49m -> \u001b[0m\u001b[32;49m25.1.1\u001b[0m\n",
      "\u001b[1m[\u001b[0m\u001b[34;49mnotice\u001b[0m\u001b[1;39;49m]\u001b[0m\u001b[39;49m To update, run: \u001b[0m\u001b[32;49m/home/richard/Documents/p311a/bin/python -m pip install --upgrade pip\u001b[0m\n",
      "Note: you may need to restart the kernel to use updated packages.\n"
     ]
    }
   ],
   "source": [
    "# Install libraries\n",
    "%pip install -U pysr"
   ]
  },
  {
   "cell_type": "code",
   "execution_count": 2,
   "id": "e5c0852f",
   "metadata": {
    "executionInfo": {
     "elapsed": 14,
     "status": "ok",
     "timestamp": 1752444241554,
     "user": {
      "displayName": "Richard Henry",
      "userId": "12926619101509154418"
     },
     "user_tz": 300
    },
    "id": "e5c0852f"
   },
   "outputs": [
    {
     "name": "stdout",
     "output_type": "stream",
     "text": [
      "[juliapkg] Found dependencies: /home/richard/Documents/p311a/lib/python3.11/site-packages/pysr/juliapkg.json\n",
      "[juliapkg] Found dependencies: /home/richard/Documents/p311a/lib/python3.11/site-packages/juliacall/juliapkg.json\n",
      "[juliapkg] Found dependencies: /home/richard/Documents/p311a/lib/python3.11/site-packages/juliapkg/juliapkg.json\n",
      "[juliapkg] Locating Julia =1.10.0, ^1.10.3\n",
      "[juliapkg] Querying Julia versions from https://julialang-s3.julialang.org/bin/versions.json\n",
      "[juliapkg] WARNING: About to install Julia 1.11.6 to /home/richard/Documents/p311a/julia_env/pyjuliapkg/install.\n",
      "[juliapkg]   If you use juliapkg in more than one environment, you are likely to\n",
      "[juliapkg]   have Julia installed in multiple locations. It is recommended to\n",
      "[juliapkg]   install JuliaUp (https://github.com/JuliaLang/juliaup) or Julia\n",
      "[juliapkg]   (https://julialang.org/downloads) yourself.\n",
      "[juliapkg] Downloading Julia from https://julialang-s3.julialang.org/bin/linux/x64/1.11/julia-1.11.6-linux-x86_64.tar.gz\n",
      "             downloaded 115.1 MB of 273.3 MB\n",
      "             download complete\n",
      "[juliapkg] Verifying download\n",
      "[juliapkg] Installing Julia 1.11.6 to /home/richard/Documents/p311a/julia_env/pyjuliapkg/install\n",
      "[juliapkg] Using Julia 1.11.6 at /home/richard/Documents/p311a/julia_env/pyjuliapkg/install/bin/julia\n",
      "[juliapkg] Using Julia project at /home/richard/Documents/p311a/julia_env\n",
      "[juliapkg] Writing Project.toml:\n",
      "             [deps]\n",
      "             SymbolicRegression = \"8254be44-1295-4e6a-a16d-46603ac705cb\"\n",
      "             Serialization = \"9e88b42a-f829-5b0c-bbe9-9e923198166b\"\n",
      "             PythonCall = \"6099a3de-0909-46bc-b1f4-468b9a2dfc0d\"\n",
      "             OpenSSL_jll = \"458c3c95-2e84-50aa-8efc-19380b2a3a95\"\n",
      "             [compat]\n",
      "             SymbolicRegression = \"~1.11\"\n",
      "             Serialization = \"^1\"\n",
      "             PythonCall = \"=0.9.25\"\n",
      "             OpenSSL_jll = \"~3.0\"\n",
      "[juliapkg] Installing packages:\n",
      "             import Pkg\n",
      "             Pkg.Registry.update()\n",
      "             Pkg.add([\n",
      "               Pkg.PackageSpec(name=\"SymbolicRegression\", uuid=\"8254be44-1295-4e6a-a16d-46603ac705cb\"),\n",
      "               Pkg.PackageSpec(name=\"Serialization\", uuid=\"9e88b42a-f829-5b0c-bbe9-9e923198166b\"),\n",
      "               Pkg.PackageSpec(name=\"PythonCall\", uuid=\"6099a3de-0909-46bc-b1f4-468b9a2dfc0d\"),\n",
      "               Pkg.PackageSpec(name=\"OpenSSL_jll\", uuid=\"458c3c95-2e84-50aa-8efc-19380b2a3a95\"),\n",
      "             ])\n",
      "             Pkg.resolve()\n",
      "             Pkg.precompile()\n"
     ]
    },
    {
     "name": "stderr",
     "output_type": "stream",
     "text": [
      "    Updating registry at `~/.julia/registries/General.toml`\n",
      "    Updating registry at `~/.julia/registries/General.toml`\n",
      "   Resolving package versions...\n",
      "    Updating `~/Documents/p311a/julia_env/Project.toml`\n",
      "  [6099a3de] + PythonCall v0.9.25\n",
      "⌅ [8254be44] + SymbolicRegression v1.11.3\n",
      "⌅ [458c3c95] + OpenSSL_jll v3.0.16+0\n",
      "  [9e88b42a] ~ Serialization ⇒ v1.11.0\n",
      "    Updating `~/Documents/p311a/julia_env/Manifest.toml`\n",
      "  [47edcb42] + ADTypes v1.15.0\n",
      "  [79e6a3ab] + Adapt v4.3.0\n",
      "  [66dad0bd] + AliasTables v1.1.3\n",
      "  [4fba245c] + ArrayInterface v7.19.0\n",
      "  [d360d2e6] + ChainRulesCore v1.25.2\n",
      "  [bbf7d656] + CommonSubexpressions v0.3.1\n",
      "  [34da2185] + Compat v4.17.0\n",
      "  [992eb4ea] + CondaPkg v0.2.29\n",
      "  [187b0558] + ConstructionBase v1.6.0\n",
      "  [9a962f9c] + DataAPI v1.16.0\n",
      "  [864edb3b] + DataStructures v0.18.22\n",
      "  [e2d170a0] + DataValueInterfaces v1.0.0\n",
      "  [163ba53b] + DiffResults v1.1.0\n",
      "  [b552c78f] + DiffRules v1.15.1\n",
      "  [a0c0ee7d] + DifferentiationInterface v0.7.2\n",
      "  [8d63f2c5] + DispatchDoctor v0.4.26\n",
      "  [ffbed154] + DocStringExtensions v0.9.5\n",
      "⌅ [7317a516] + DynamicDiff v0.2.1\n",
      "⌅ [a40a106e] + DynamicExpressions v1.10.3\n",
      "  [06fc5a27] + DynamicQuantities v1.8.0\n",
      "  [4e289a0a] + EnumX v1.0.5\n",
      "  [1a297f60] + FillArrays v1.13.0\n",
      "  [6a86dc24] + FiniteDiff v2.27.0\n",
      "  [f6369f11] + ForwardDiff v1.0.1\n",
      "  [85a1e053] + Interfaces v0.3.2\n",
      "  [92d709cd] + IrrationalConstants v0.2.4\n",
      "  [82899510] + IteratorInterfaceExtensions v1.0.0\n",
      "  [692b3bcd] + JLLWrappers v1.7.0\n",
      "  [0f8b85d8] + JSON3 v1.14.3\n",
      "  [d3d80556] + LineSearches v7.4.0\n",
      "  [2ab3a3ac] + LogExpFunctions v0.3.29\n",
      "  [30fc2ffe] + LossFunctions v1.0.1\n",
      "  [e80e1ace] + MLJModelInterface v1.11.1\n",
      "  [1914dd2f] + MacroTools v0.5.16\n",
      "  [0b3b1443] + MicroMamba v0.1.14\n",
      "  [e1d29d7a] + Missings v1.2.0\n",
      "  [d41bc354] + NLSolversBase v7.10.0\n",
      "  [77ba4419] + NaNMath v1.1.3\n",
      "  [429524aa] + Optim v1.13.2\n",
      "  [bac558e1] + OrderedCollections v1.8.1\n",
      "  [d96e819e] + Parameters v0.12.3\n",
      "  [69de0a69] + Parsers v2.8.3\n",
      "  [fa939f87] + Pidfile v1.3.0\n",
      "  [85a6dd25] + PositiveFactorizations v0.2.4\n",
      "⌅ [aea7be01] + PrecompileTools v1.2.1\n",
      "  [21216c6a] + Preferences v1.4.3\n",
      "⌅ [92933f4c] + ProgressMeter v1.10.2\n",
      "  [43287f4e] + PtrArrays v1.3.0\n",
      "  [6099a3de] + PythonCall v0.9.25\n",
      "  [189a3867] + Reexport v1.2.2\n",
      "  [ae029012] + Requires v1.3.1\n",
      "  [30f210dd] + ScientificTypesBase v3.0.0\n",
      "  [6c6a2e73] + Scratch v1.3.0\n",
      "  [efcf1570] + Setfield v1.1.2\n",
      "  [a2af1166] + SortingAlgorithms v1.2.1\n",
      "  [276daf66] + SpecialFunctions v2.5.1\n",
      "  [1e83bf80] + StaticArraysCore v1.4.3\n",
      "  [64bff920] + StatisticalTraits v3.5.0\n",
      "  [10745b16] + Statistics v1.11.1\n",
      "  [82ae8749] + StatsAPI v1.7.1\n",
      "  [2913bbd2] + StatsBase v0.34.5\n",
      "  [856f2bd8] + StructTypes v1.11.0\n",
      "⌅ [8254be44] + SymbolicRegression v1.11.3\n",
      "  [3783bdb8] + TableTraits v1.0.1\n",
      "  [bd369af6] + Tables v1.12.1\n",
      "  [1c621080] + TestItems v1.0.0\n",
      "  [410a4b4d] + Tricks v0.1.10\n",
      "  [3a884ed6] + UnPack v1.0.2\n",
      "  [e17b2a0c] + UnsafePointers v1.0.0\n",
      "⌅ [458c3c95] + OpenSSL_jll v3.0.16+0\n",
      "  [efe28fd5] + OpenSpecFun_jll v0.5.6+0\n",
      "  [f8abcde7] + micromamba_jll v1.5.8+0\n",
      "  [4d7b5844] + pixi_jll v0.41.3+0\n",
      "  [0dad84c5] + ArgTools v1.1.2\n",
      "  [56f22d72] + Artifacts v1.11.0\n",
      "  [2a0f44e3] + Base64 v1.11.0\n",
      "  [ade2ca70] + Dates v1.11.0\n",
      "  [8ba89e20] + Distributed v1.11.0\n",
      "  [f43a241f] + Downloads v1.6.0\n",
      "  [7b1f6079] + FileWatching v1.11.0\n",
      "  [9fa8497b] + Future v1.11.0\n",
      "  [b77e0a4c] + InteractiveUtils v1.11.0\n",
      "  [4af54fe1] + LazyArtifacts v1.11.0\n",
      "  [b27032c2] + LibCURL v0.6.4\n",
      "  [76f85450] + LibGit2 v1.11.0\n",
      "  [8f399da3] + Libdl v1.11.0\n",
      "  [37e2e46d] + LinearAlgebra v1.11.0\n",
      "  [56ddb016] + Logging v1.11.0\n",
      "  [d6f4376e] + Markdown v1.11.0\n",
      "  [a63ad114] + Mmap v1.11.0\n",
      "  [ca575930] + NetworkOptions v1.2.0\n",
      "  [44cfe95a] + Pkg v1.11.0\n",
      "  [de0858da] + Printf v1.11.0\n",
      "  [3fa0cd96] + REPL v1.11.0\n",
      "  [9a3f8284] + Random v1.11.0\n",
      "  [ea8e919c] + SHA v0.7.0\n",
      "  [9e88b42a] + Serialization v1.11.0\n",
      "  [6462fe0b] + Sockets v1.11.0\n",
      "  [2f01184e] + SparseArrays v1.11.0\n",
      "  [f489334b] + StyledStrings v1.11.0\n",
      "  [fa267f1f] + TOML v1.0.3\n",
      "  [a4e569a6] + Tar v1.10.0\n",
      "  [8dfed614] + Test v1.11.0\n",
      "  [cf7118a7] + UUIDs v1.11.0\n",
      "  [4ec0a83e] + Unicode v1.11.0\n",
      "  [e66e0078] + CompilerSupportLibraries_jll v1.1.1+0\n",
      "  [deac9b47] + LibCURL_jll v8.6.0+0\n",
      "  [e37daf67] + LibGit2_jll v1.7.2+0\n",
      "  [29816b5a] + LibSSH2_jll v1.11.0+1\n",
      "  [c8ffd9c3] + MbedTLS_jll v2.28.6+0\n",
      "  [14a3606d] + MozillaCACerts_jll v2023.12.12\n",
      "  [4536629a] + OpenBLAS_jll v0.3.27+1\n",
      "  [05823500] + OpenLibm_jll v0.8.5+0\n",
      "  [bea87d4a] + SuiteSparse_jll v7.7.0+0\n",
      "  [83775a58] + Zlib_jll v1.2.13+1\n",
      "  [8e850b90] + libblastrampoline_jll v5.11.0+0\n",
      "  [8e850ede] + nghttp2_jll v1.59.0+0\n",
      "  [3f19e933] + p7zip_jll v17.4.0+2\n",
      "        Info Packages marked with ⌅ have new versions available but compatibility constraints restrict them from upgrading. To see why use `status --outdated -m`\n",
      "  No Changes to `~/Documents/p311a/julia_env/Project.toml`\n",
      "  No Changes to `~/Documents/p311a/julia_env/Manifest.toml`\n"
     ]
    },
    {
     "name": "stdout",
     "output_type": "stream",
     "text": [
      "Detected IPython. Loading juliacall extension. See https://juliapy.github.io/PythonCall.jl/stable/compat/#IPython\n"
     ]
    }
   ],
   "source": [
    "# Call Libraries\n",
    "import numpy as np\n",
    "import pandas as pd\n",
    "import matplotlib.pyplot as plt\n",
    "#from google.colab import drive\n",
    "from pysr import PySRRegressor\n",
    "import time\n",
    "import math\n",
    "import sympy as sym"
   ]
  },
  {
   "cell_type": "markdown",
   "id": "03d6c635",
   "metadata": {
    "id": "03d6c635"
   },
   "source": [
    "# Molecular Mass Dataset\n",
    "Here we will take a first look at the molecular mass dataset, taken from [Goossens.](https://pubs.acs.org/doi/full/10.1021/ie950484l?casa_token=-Vy315d8K38AAAAA%3Anxdm5rReXldLbOrBYLfwm0l3MmsCw_Mbnw1vVdNJ308Ki_3lEcnU3bXQmS8TL2nsArNG-AydRFEKVZc)\n"
   ]
  },
  {
   "cell_type": "code",
   "execution_count": 3,
   "id": "3a3829a2",
   "metadata": {
    "colab": {
     "base_uri": "https://localhost:8080/",
     "height": 424
    },
    "executionInfo": {
     "elapsed": 368,
     "status": "ok",
     "timestamp": 1752441731053,
     "user": {
      "displayName": "Richard Henry",
      "userId": "12926619101509154418"
     },
     "user_tz": 300
    },
    "id": "3a3829a2",
    "outputId": "578f10f5-232b-48a3-d67e-65aa1818d520"
   },
   "outputs": [
    {
     "data": {
      "text/html": [
       "<div>\n",
       "<style scoped>\n",
       "    .dataframe tbody tr th:only-of-type {\n",
       "        vertical-align: middle;\n",
       "    }\n",
       "\n",
       "    .dataframe tbody tr th {\n",
       "        vertical-align: top;\n",
       "    }\n",
       "\n",
       "    .dataframe thead th {\n",
       "        text-align: right;\n",
       "    }\n",
       "</style>\n",
       "<table border=\"1\" class=\"dataframe\">\n",
       "  <thead>\n",
       "    <tr style=\"text-align: right;\">\n",
       "      <th></th>\n",
       "      <th>SG</th>\n",
       "      <th>TBP</th>\n",
       "      <th>MW</th>\n",
       "    </tr>\n",
       "  </thead>\n",
       "  <tbody>\n",
       "    <tr>\n",
       "      <th>0</th>\n",
       "      <td>0.6310</td>\n",
       "      <td>306</td>\n",
       "      <td>76</td>\n",
       "    </tr>\n",
       "    <tr>\n",
       "      <th>1</th>\n",
       "      <td>0.7135</td>\n",
       "      <td>372</td>\n",
       "      <td>99</td>\n",
       "    </tr>\n",
       "    <tr>\n",
       "      <th>2</th>\n",
       "      <td>0.7205</td>\n",
       "      <td>365</td>\n",
       "      <td>96</td>\n",
       "    </tr>\n",
       "    <tr>\n",
       "      <th>3</th>\n",
       "      <td>0.7293</td>\n",
       "      <td>373</td>\n",
       "      <td>100</td>\n",
       "    </tr>\n",
       "    <tr>\n",
       "      <th>4</th>\n",
       "      <td>0.6786</td>\n",
       "      <td>329</td>\n",
       "      <td>82</td>\n",
       "    </tr>\n",
       "    <tr>\n",
       "      <th>...</th>\n",
       "      <td>...</td>\n",
       "      <td>...</td>\n",
       "      <td>...</td>\n",
       "    </tr>\n",
       "    <tr>\n",
       "      <th>65</th>\n",
       "      <td>0.7054</td>\n",
       "      <td>367</td>\n",
       "      <td>95</td>\n",
       "    </tr>\n",
       "    <tr>\n",
       "      <th>66</th>\n",
       "      <td>0.6315</td>\n",
       "      <td>309</td>\n",
       "      <td>72</td>\n",
       "    </tr>\n",
       "    <tr>\n",
       "      <th>67</th>\n",
       "      <td>0.8842</td>\n",
       "      <td>353</td>\n",
       "      <td>78</td>\n",
       "    </tr>\n",
       "    <tr>\n",
       "      <th>68</th>\n",
       "      <td>1.1762</td>\n",
       "      <td>612</td>\n",
       "      <td>178</td>\n",
       "    </tr>\n",
       "    <tr>\n",
       "      <th>69</th>\n",
       "      <td>1.3793</td>\n",
       "      <td>798</td>\n",
       "      <td>300</td>\n",
       "    </tr>\n",
       "  </tbody>\n",
       "</table>\n",
       "<p>70 rows × 3 columns</p>\n",
       "</div>"
      ],
      "text/plain": [
       "        SG  TBP   MW\n",
       "0   0.6310  306   76\n",
       "1   0.7135  372   99\n",
       "2   0.7205  365   96\n",
       "3   0.7293  373  100\n",
       "4   0.6786  329   82\n",
       "..     ...  ...  ...\n",
       "65  0.7054  367   95\n",
       "66  0.6315  309   72\n",
       "67  0.8842  353   78\n",
       "68  1.1762  612  178\n",
       "69  1.3793  798  300\n",
       "\n",
       "[70 rows x 3 columns]"
      ]
     },
     "execution_count": null,
     "metadata": {},
     "output_type": "execute_result"
    }
   ],
   "source": [
    "#drive.mount('/content/drive')\n",
    "df=pd.read_csv('./goossens_raw.csv')\n",
    "#df=pd.read_csv('./c694/goossens_raw.csv')\n",
    "#df=pd.read_csv('/content/drive/MyDrive/goossens_raw.csv')\n",
    "df"
   ]
  },
  {
   "cell_type": "markdown",
   "id": "823b7422",
   "metadata": {
    "id": "823b7422"
   },
   "source": [
    "We have 3 variables:\n",
    "\n",
    "|Variable|Description|Designation|\n",
    "|---|---|---|\n",
    "|$Mw$|Molecular Mass|dependent|\n",
    "|$SG$|Specific Gravity|independent|\n",
    "|$TBP$|True Boiling Point|independent|\n",
    "\n",
    "We can designate any one of the three as dependent, but as the molecular mass is the most difficult to measure, we'll chose it."
   ]
  },
  {
   "cell_type": "code",
   "execution_count": 4,
   "id": "8d4be203",
   "metadata": {
    "colab": {
     "base_uri": "https://localhost:8080/",
     "height": 472
    },
    "executionInfo": {
     "elapsed": 267,
     "status": "ok",
     "timestamp": 1752441731317,
     "user": {
      "displayName": "Richard Henry",
      "userId": "12926619101509154418"
     },
     "user_tz": 300
    },
    "id": "8d4be203",
    "outputId": "8f186734-ddca-4f98-c9aa-a6c45a9060f5"
   },
   "outputs": [
    {
     "data": {
      "image/png": "[encoded data removed]",
      "text/plain": [
       "<Figure size 640x480 with 1 Axes>"
      ]
     },
     "metadata": {},
     "output_type": "display_data"
    }
   ],
   "source": [
    "df.plot(kind='scatter',x='SG',y='MW')\n",
    "plt.title(\"Molecular Mass vs Specific Gravity\")\n",
    "plt.grid()\n",
    "plt.show()"
   ]
  },
  {
   "cell_type": "markdown",
   "id": "dd3f9d29",
   "metadata": {
    "id": "dd3f9d29"
   },
   "source": [
    "Although there appears to be a clear linear relationship between molecular mass and specific gravity at low gravity numbers, the heteroscedasticity explodes above a gravity of about 0.75."
   ]
  },
  {
   "cell_type": "code",
   "execution_count": 5,
   "id": "3188785e",
   "metadata": {
    "colab": {
     "base_uri": "https://localhost:8080/",
     "height": 472
    },
    "executionInfo": {
     "elapsed": 264,
     "status": "ok",
     "timestamp": 1752441731582,
     "user": {
      "displayName": "Richard Henry",
      "userId": "12926619101509154418"
     },
     "user_tz": 300
    },
    "id": "3188785e",
    "outputId": "8337ff56-21e7-47af-887b-b88166d4ea46"
   },
   "outputs": [
    {
     "data": {
      "image/png": "[encoded data removed]",
      "text/plain": [
       "<Figure size 640x480 with 1 Axes>"
      ]
     },
     "metadata": {},
     "output_type": "display_data"
    }
   ],
   "source": [
    "df.plot(kind='scatter',x='TBP',y='MW')\n",
    "plt.title(\"Molecular Mass vs True Boiling Point\")\n",
    "plt.grid()\n",
    "plt.show()"
   ]
  },
  {
   "cell_type": "markdown",
   "id": "25e84c37",
   "metadata": {
    "id": "25e84c37"
   },
   "source": [
    "There seems to be a monotonically increasing relationship between molecular mass and true boiling point, with a possible \"pole\" around the boiling point of 1000.\n",
    "\n",
    "At this point, it may be tempting to ignore the effect of specific gravity on the prediction of molecular mass."
   ]
  },
  {
   "cell_type": "code",
   "execution_count": 6,
   "id": "dfd53526",
   "metadata": {
    "colab": {
     "base_uri": "https://localhost:8080/",
     "height": 472
    },
    "executionInfo": {
     "elapsed": 185,
     "status": "ok",
     "timestamp": 1752441731770,
     "user": {
      "displayName": "Richard Henry",
      "userId": "12926619101509154418"
     },
     "user_tz": 300
    },
    "id": "dfd53526",
    "outputId": "de69901b-2b88-46fd-bebd-6e39aece4b3f"
   },
   "outputs": [
    {
     "data": {
      "image/png": "[encoded data removed]",
      "text/plain": [
       "<Figure size 640x480 with 1 Axes>"
      ]
     },
     "metadata": {},
     "output_type": "display_data"
    }
   ],
   "source": [
    "df.plot(kind='scatter',x='TBP',y='SG')\n",
    "plt.title(\"Specific Gravity vs True Boiling Point\")\n",
    "plt.grid()\n",
    "plt.show()"
   ]
  },
  {
   "cell_type": "markdown",
   "id": "c93817d8",
   "metadata": {
    "id": "c93817d8"
   },
   "source": [
    "This plot suggests that there is very little correlation between specific gravity and true boiling point, except maybe at low values of boiling point.  Lets test this:"
   ]
  },
  {
   "cell_type": "code",
   "execution_count": 7,
   "id": "fddfda51",
   "metadata": {
    "colab": {
     "base_uri": "https://localhost:8080/"
    },
    "executionInfo": {
     "elapsed": 9,
     "status": "ok",
     "timestamp": 1752441731781,
     "user": {
      "displayName": "Richard Henry",
      "userId": "12926619101509154418"
     },
     "user_tz": 300
    },
    "id": "fddfda51",
    "outputId": "a27647f7-d33a-42aa-dcc8-2e4e316f3587"
   },
   "outputs": [
    {
     "name": "stdout",
     "output_type": "stream",
     "text": [
      "[[1.         0.62521831]\n",
      " [0.62521831 1.        ]]\n"
     ]
    }
   ],
   "source": [
    "c_sg_tbp=np.corrcoef(df['SG'],df['TBP'])\n",
    "print(c_sg_tbp)"
   ]
  },
  {
   "cell_type": "markdown",
   "id": "0109edf9",
   "metadata": {
    "id": "0109edf9"
   },
   "source": [
    "## Existing Correlations\n",
    "There are many correlations available for estimating molecular mass from true boiling point and specific gravity.  Here are a few of them using the following nomenclature:\n",
    "\n",
    "|Symbol|Meaning|\n",
    "|---|---|\n",
    "|$M_w$|Apparent Molecular Mass|\n",
    "|$T_b$|Boiling Point Temperature at Atmospheric Pressure|\n",
    "|$\\gamma$|Specific Gravity (density compared to water)|\n",
    "|$a_{00}..a_{09}$|Empirical Constants|\n",
    "|$K_w$|Characterization factor (intermediate value)|\n",
    "|$X_0...X_3$|Intermediate Variables|\n",
    "\n",
    "### Hariu & Sage (1969)\n",
    "${M} _ {w} = {a} _ {00} + {a} _ {01} {K} _ {w} + {a} _ {02} {K} _ {w} ^ {2} + {a} _ {03} {T} _ {b} {K} _ {w} + {a} _ {04} {T} _ {b} {K} _ {w} ^ {2} + {a} _ {05} {T} _ {b} ^ {2} {K} _ {w} + {a} _ {06} {T} _ {b} ^ {2} {K} _ {w} ^ {2}$\n",
    "\n",
    "${K} _ {w} =\\frac {\\sqrt [3] {{T} _ {b}}}  {\\gamma}$\n",
    "\n",
    "### Kesler & Lee (1976)\n",
    "${M} _ {w} = {X} _ {0} + \\frac{{X} _ {1}}  {{T} _ {b}} + \\frac{{X} _ {2}}  {{T} _ {b} ^ {2}}$\n",
    "\n",
    "${X} _ {0} = {a} _ {00} + {a} _ {01} γ+ \\left ({a} _ {02} + {a} _ {03} γ \\right ) {T} _ {b}$\n",
    "\n",
    "${X} _ {1} = \\left (1+ {a} _ {04} γ+ {a} _ {05} {γ} ^ {2} \\right ) \\left ({a} _ {06} + \\frac{{a} _ {07}}  {{T} _ {b}} \\right ) \\cdot {10} ^ {7}$\n",
    "\n",
    "${X} _ {2} = \\left (1+ {a} _ {08} γ+ {a} _ {09} {γ} ^ {2} \\right ) \\left ({a} _ {10} + \\frac{{a} _ {11}}  {{T} _ {b}} \\right ) \\cdot {10} ^ {12}$\n",
    "\n",
    "### American Petroleum Institute (1977)\n",
    "${M} _ {w} = {a} _ {00} {e} ^ {\\left ({a} _ {01} {T} _ {b} \\right )} {e} ^ {\\left ({a} _ {02} γ \\right )} {T} _ {b} ^ {{a} _ {03}} {γ} ^ {{a} _ {04}}$\n",
    "\n",
    "### Winn, Sim & Daubert (1980)\n",
    "${M} _ {w} = {a} _ {00} {T} _ {b} ^ {{a} _ {01}} {γ} ^ {{a} _ {02}}$\n",
    "\n",
    "### Riazi & Daubert (1980)\n",
    "${M} _ {w} = {a} _ {00} {T} _ {b} ^ {{a} _ {01}} {γ} ^ {{a} _ {02}}$\n",
    "\n",
    "### Rao & Bardon (1985)\n",
    "$ln {{M} _ {w}} = \\left ({a} _ {00} + {a} _ {01} {K} _ {w} \\right ) ln {\\left (\\frac{{T} _ {b}}  {{a} _ {02} + {a} _ {03} {K} _ {w}} \\right )}$\n",
    "\n",
    "### Riazi & Daubert (1987)\n",
    "${M} _ {w} = {a} _ {00} {T} _ {b} ^ {{a} _ {01}} {γ} ^ {{a} _ {02}} {e} ^ {\\left ({a} _ {03} {T} _ {b} + {a} _ {04} γ+ {a} _ {05} {T} _ {b} γ \\right )}$\n",
    "\n",
    "### Goossens (1996)\n",
    "${M} _ {w} = {a} _ {00} {T} _ {b} ^ {{X} _ {0}}$\n",
    "\n",
    "${X} _ {0} =\\frac {{a} _ {03} + {a} _ {04} ln {\\left (\\frac{{T} _ {b}}  {{a} _ {05} - {T} _ {b}} \\right )}}  {{a} _ {01} γ + {a} _ {02}}$\n",
    "\n",
    "### Linan (2011)\n",
    "${M} _ {w} = {a} _ {00} {e} ^ {\\left ({a} _ {01} {T} _ {b} \\right )} {e} ^ {\\left ({a} _ {02} γ \\right )} {T} _ {b} ^ {{a} _ {03}} {γ} ^ {{a} _ {04}}$\n",
    "\n",
    "### Hosseinifar & Shahverdi (2021)\n",
    "${M} _ {w} = {\\left [{a} _ {00} {T} _ {b} ^ {{a} _ {01}} {\\left (\\frac{3+2γ} {3-γ} \\right )} ^ {\\frac{{a} _ {02}} {2}} + {a} _ {03} {T} _ {b} ^ {{a} _ {04}} {\\left (\\frac{3+2γ} {3-γ} \\right )} ^ {\\frac{{a} _ {05}} {2}} \\right ]} ^ {{a} _ {06}}$\n",
    "\n",
    "### Stratiev (2022)\n",
    "${M} _ {w} = {a} _ {00} + {a} _ {01} {e} ^ {\\left [{a} _ {02} {e} ^ {\\left ({a} _ {03} \\frac{{T} _ {b} ^ {{a} _ {06}}} {{γ} ^ {{a} _ {05}}} \\right )} \\right ]}$\n"
   ]
  },
  {
   "cell_type": "markdown",
   "id": "hzygmbaAnWr-",
   "metadata": {
    "id": "hzygmbaAnWr-"
   },
   "source": [
    "### Observations\n",
    "On the assumption that all of these correlations are, at least, reasonable, then it appears as though many different functional forms may work.\n",
    "\n",
    "### First Run\n",
    "Let's see what happens if we present this data to PySR:"
   ]
  },
  {
   "cell_type": "code",
   "execution_count": 8,
   "id": "SrVDMXU2o9Rl",
   "metadata": {
    "colab": {
     "base_uri": "https://localhost:8080/"
    },
    "executionInfo": {
     "elapsed": 9,
     "status": "ok",
     "timestamp": 1752441731793,
     "user": {
      "displayName": "Richard Henry",
      "userId": "12926619101509154418"
     },
     "user_tz": 300
    },
    "id": "SrVDMXU2o9Rl",
    "outputId": "9c27afa8-c453-4c96-9736-87d8158f6555"
   },
   "outputs": [
    {
     "name": "stdout",
     "output_type": "stream",
     "text": [
      "        SG  TBP\n",
      "0   0.6310  306\n",
      "1   0.7135  372\n",
      "2   0.7205  365\n",
      "3   0.7293  373\n",
      "4   0.6786  329\n",
      "..     ...  ...\n",
      "65  0.7054  367\n",
      "66  0.6315  309\n",
      "67  0.8842  353\n",
      "68  1.1762  612\n",
      "69  1.3793  798\n",
      "\n",
      "[70 rows x 2 columns]\n"
     ]
    }
   ],
   "source": [
    "y=df['MW']\n",
    "#print(y)\n",
    "x=df[['SG','TBP']]\n",
    "print(x)\n"
   ]
  },
  {
   "cell_type": "code",
   "execution_count": 9,
   "id": "BOSwzl9yn0RR",
   "metadata": {
    "colab": {
     "base_uri": "https://localhost:8080/"
    },
    "executionInfo": {
     "elapsed": 51916,
     "status": "ok",
     "timestamp": 1752441783711,
     "user": {
      "displayName": "Richard Henry",
      "userId": "12926619101509154418"
     },
     "user_tz": 300
    },
    "id": "BOSwzl9yn0RR",
    "outputId": "943b5db2-c6b3-40fc-8d54-885f31180e33"
   },
   "outputs": [
    {
     "name": "stderr",
     "output_type": "stream",
     "text": [
      "/home/richard/Documents/p311a/lib/python3.11/site-packages/pysr/sr.py:2811: UserWarning: Note: it looks like you are running in Jupyter. The progress bar will be turned off.\n",
      "  warnings.warn(\n",
      "Compiling Julia backend...\n",
      "[ Info: Started!\n"
     ]
    },
    {
     "name": "stdout",
     "output_type": "stream",
     "text": [
      "\n",
      "Expressions evaluated per second: 9.240e+04\n",
      "Progress: 431 / 3100 total iterations (13.903%)\n",
      "════════════════════════════════════════════════════════════════════════════════════════════════════\n",
      "───────────────────────────────────────────────────────────────────────────────────────────────────\n",
      "Complexity  Loss       Score      Equation\n",
      "1           9.627e+04  0.000e+00  y = 304.59\n",
      "3           2.941e+04  5.897e-01  y = TBP + -270.61\n",
      "5           1.858e+04  2.281e-01  y = (TBP * 0.00093598) * TBP\n",
      "7           7.214e+03  4.724e-01  y = ((TBP * TBP) * 1.1819e-06) * TBP\n",
      "9           6.138e+03  8.049e-02  y = (TBP * ((TBP * 0.0032559) + -2.6517)) + 631.63\n",
      "11          4.497e+03  1.552e-01  y = (0.0010394 / SG) * (TBP * (TBP * (TBP * 0.0010808)))\n",
      "13          3.549e+03  1.183e-01  y = TBP * ((0.00039856 / SG) * (((TBP - 178.35) * TBP) * 0...\n",
      "                                      .0034851))\n",
      "15          2.039e+03  2.768e-01  y = (((((TBP - 426.95) * TBP) * (TBP * 1.8921e-06)) + 85.1...\n",
      "                                      89) / SG) + -3.1497\n",
      "17          2.026e+03  3.190e-03  y = (((TBP * (SG + ((TBP * (TBP - 426.95)) * -0.0005404)))...\n",
      "                                       * -0.0035307) + 83.584) / SG\n",
      "19          1.981e+03  1.116e-02  y = ((((TBP * -1.1869) + 100.95) + TBP) * ((31.58 - TBP) /...\n",
      "                                       (79965 / (TBP / SG)))) - -162.74\n",
      "21          5.010e+02  6.874e-01  y = (((TBP * -1.027) + (TBP + -2.1618)) * (SG - ((TBP / ((...\n",
      "                                      93240 / TBP) + -69.397)) / SG))) - -92.214\n",
      "23          1.119e+02  7.497e-01  y = (((((TBP + 24.683) * -0.9899) + TBP) + -5.4514) * ((SG...\n",
      "                                       - (TBP / ((93240 / TBP) + -77.545))) / SG)) - -49.453\n",
      "25          8.124e+01  1.599e-01  y = (SG + ((((((TBP * -0.98408) + TBP) + -33.875) * (SG - ...\n",
      "                                      (TBP / ((93240 / TBP) + -79.083)))) / SG) - -69.378)) - 27...\n",
      "                                      .807\n",
      "───────────────────────────────────────────────────────────────────────────────────────────────────\n",
      "════════════════════════════════════════════════════════════════════════════════════════════════════\n",
      "Press 'q' and then <enter> to stop execution early.\n",
      "\n",
      "Expressions evaluated per second: 1.050e+05\n",
      "Progress: 959 / 3100 total iterations (30.935%)\n",
      "════════════════════════════════════════════════════════════════════════════════════════════════════\n",
      "───────────────────────────────────────────────────────────────────────────────────────────────────\n",
      "Complexity  Loss       Score      Equation\n",
      "1           9.627e+04  0.000e+00  y = 304.59\n",
      "3           2.941e+04  5.897e-01  y = TBP - 270.62\n",
      "5           1.858e+04  2.281e-01  y = (TBP * 0.00093598) * TBP\n",
      "7           2.736e+03  9.571e-01  y = 16407 / ((92674 / TBP) + -81.249)\n",
      "9           4.691e+02  8.816e-01  y = (27953 / SG) / ((1.6592e+05 / TBP) - 144.57)\n",
      "11          4.591e+02  1.068e-02  y = ((27953 / ((1.6601e+05 / TBP) + -144.67)) / SG) - SG\n",
      "13          9.425e+01  7.917e-01  y = ((16398 / SG) / ((92675 / (TBP + 102.52)) + -72.067)) ...\n",
      "                                      - 78.73\n",
      "15          9.159e+01  1.433e-02  y = (((16398 / SG) / (-72.067 + (92675 / (TBP + 102.52))))...\n",
      "                                       - 78.73) + SG\n",
      "17          5.919e+01  2.182e-01  y = (7.976 - (((TBP * 0.019721) + -36.987) * (TBP / ((9324...\n",
      "                                      1 / TBP) + -79.797)))) / SG\n",
      "19          4.936e+01  9.089e-02  y = (4.8376 - ((((TBP + 49.878) * 0.024706) + -41.413) * (...\n",
      "                                      TBP / ((93240 / TBP) + -81.259)))) / SG\n",
      "21          4.250e+01  7.473e-02  y = (3.2681 - (TBP * ((SG + (((TBP + 41.304) * 0.024408) +...\n",
      "                                       -42.1)) / ((93240 / TBP) + -81.051)))) / SG\n",
      "23          4.225e+01  3.012e-03  y = (3.371 - (TBP * (((((TBP + 42.031) * -0.97577) + (SG *...\n",
      "                                       1.0476)) + TBP) / ((93240 / TBP) + -80.992)))) / SG\n",
      "25          4.218e+01  8.135e-04  y = (((3.2681 - ((((SG + -42.1) + (0.024408 * (TBP + 41.30...\n",
      "                                      4))) * TBP) / ((93240 / TBP) + -81.051))) / SG) - SG) + 0....\n",
      "                                      67371\n",
      "───────────────────────────────────────────────────────────────────────────────────────────────────\n",
      "════════════════════════════════════════════════════════════════════════════════════════════════════\n",
      "Press 'q' and then <enter> to stop execution early.\n",
      "\n",
      "Expressions evaluated per second: 1.060e+05\n",
      "Progress: 1452 / 3100 total iterations (46.839%)\n",
      "════════════════════════════════════════════════════════════════════════════════════════════════════\n",
      "───────────────────────────────────────────────────────────────────────────────────────────────────\n",
      "Complexity  Loss       Score      Equation\n",
      "1           9.627e+04  0.000e+00  y = 304.59\n",
      "3           2.941e+04  5.897e-01  y = TBP - 270.62\n",
      "5           1.858e+04  2.281e-01  y = (TBP * 0.00093598) * TBP\n",
      "7           2.607e+03  9.811e-01  y = 17477 / ((92526 / TBP) + -80.179)\n",
      "9           4.691e+02  8.575e-01  y = (27959 / ((1.6592e+05 / TBP) - 144.56)) / SG\n",
      "11          6.201e+01  1.012e+00  y = ((51382 / SG) / ((2.4739e+05 / TBP) - 209.11)) + -51.8...\n",
      "                                      93\n",
      "13          5.679e+01  4.402e-02  y = ((27961 / ((1.6592e+05 / (TBP + 119.24)) - 127.53)) + ...\n",
      "                                      -61.088) / SG\n",
      "15          5.060e+01  5.766e-02  y = ((51380 / SG) / ((2.4739e+05 / TBP) - 208.99)) + ((-21...\n",
      "                                      .804 / SG) + -25.575)\n",
      "17          5.044e+01  1.656e-03  y = (((51380 / SG) / ((2.4739e+05 / TBP) - 208.99)) - -0.4...\n",
      "                                      1505) + ((-21.804 / SG) + -25.575)\n",
      "19          4.910e+01  1.337e-02  y = (4.8751 - ((((TBP + 49.476) * 0.024328) + -41.153) * (...\n",
      "                                      TBP / ((93240 / TBP) + -81.142)))) / SG\n",
      "21          4.227e+01  7.499e-02  y = (3.2878 - ((TBP * (((TBP + 41.305) * 0.024339) + (SG +...\n",
      "                                       -42.047))) / ((93240 / TBP) + -81.019))) / SG\n",
      "23          4.203e+01  2.845e-03  y = ((3.9233 - ((((0.024299 * (TBP + 41.305)) + (-42.029 +...\n",
      "                                       SG)) * TBP) / ((93240 / TBP) + -81.001))) / SG) - SG\n",
      "27          2.952e+01  8.831e-02  y = (((((-3.9604 - TBP) / ((93240 / TBP) + -80.927)) * (((...\n",
      "                                      TBP + 49.877) * 0.024408) + -41.48)) + 3.0338) / SG) + (-0...\n",
      "                                      .37483 / (1.3886 - SG))\n",
      "29          2.949e+01  4.638e-04  y = ((((-3.7459 - TBP) * ((((TBP + 49.877) * 0.024412) + -...\n",
      "                                      41.48) / ((93240 / TBP) + -80.927))) + 1.6452) / SG) + ((-...\n",
      "                                      0.37483 / (1.3889 - SG)) + 1.6452)\n",
      "───────────────────────────────────────────────────────────────────────────────────────────────────\n",
      "════════════════════════════════════════════════════════════════════════════════════════════════════\n",
      "Press 'q' and then <enter> to stop execution early.\n",
      "\n",
      "Expressions evaluated per second: 1.040e+05\n",
      "Progress: 1983 / 3100 total iterations (63.968%)\n",
      "════════════════════════════════════════════════════════════════════════════════════════════════════\n",
      "───────────────────────────────────────────────────────────────────────────────────────────────────\n",
      "Complexity  Loss       Score      Equation\n",
      "1           9.627e+04  0.000e+00  y = 304.59\n",
      "3           2.941e+04  5.897e-01  y = TBP - 270.62\n",
      "5           1.858e+04  2.281e-01  y = (TBP * 0.00093598) * TBP\n",
      "7           2.607e+03  9.811e-01  y = 17476 / ((92526 / TBP) + -80.179)\n",
      "9           4.690e+02  8.576e-01  y = 27970 / (((1.6592e+05 / TBP) - 144.55) * SG)\n",
      "11          5.426e+01  1.078e+00  y = (85050 / SG) / ((3.2391e+05 / (TBP - 151.05)) + -315.9...\n",
      "                                      2)\n",
      "13          5.062e+01  3.475e-02  y = ((85048 / SG) / ((3.2378e+05 / (TBP - 140.19)) - 311.2...\n",
      "                                      8)) + -8.2961\n",
      "15          5.046e+01  1.591e-03  y = (((51380 / SG) / ((2.4739e+05 / TBP) - 208.99)) + (-22...\n",
      "                                      .116 / SG)) + -24.738\n",
      "17          4.847e+01  2.014e-02  y = -37.161 + (((51381 / SG) / ((2.4739e+05 / TBP) - 208.9...\n",
      "                                      7)) - ((9.5712 / SG) / SG))\n",
      "19          4.275e+01  6.276e-02  y = 5.1633 - (((TBP * 0.023763) + (SG + -40.569)) * ((TBP ...\n",
      "                                      / ((93240 / TBP) + -80.925)) / SG))\n",
      "21          4.227e+01  5.707e-03  y = (3.2878 - (TBP * ((((TBP + 41.305) * 0.024339) + (SG +...\n",
      "                                       -42.047)) / ((93240 / TBP) + -81.019)))) / SG\n",
      "23          4.203e+01  2.844e-03  y = ((3.9233 - ((((0.024299 * (TBP + 41.305)) + (-42.029 +...\n",
      "                                       SG)) * TBP) / ((93240 / TBP) + -81.001))) / SG) - SG\n",
      "25          4.166e+01  4.324e-03  y = ((3.9233 - ((TBP * ((0.024299 * (TBP + 41.305)) + (-42...\n",
      "                                      .029 + SG))) / (-81.001 + (93240 / TBP)))) / SG) - (SG * S...\n",
      "                                      G)\n",
      "27          2.931e+01  1.759e-01  y = (((0.97315 - ((((TBP + 49.877) * 0.024362) + -41.48) *...\n",
      "                                       (TBP / (-80.927 + (93240 / TBP))))) + 2.9691) / SG) + (-0...\n",
      "                                      .37485 / (1.3891 - SG))\n",
      "29          2.916e+01  2.504e-03  y = (-0.37485 / (1.3891 - SG)) + (((((SG - TBP) * ((((TBP ...\n",
      "                                      + 49.877) * 0.024344) + -41.48) / ((93240 / TBP) + -80.927...\n",
      "                                      ))) + 2.9691) / SG) - -1.172)\n",
      "───────────────────────────────────────────────────────────────────────────────────────────────────\n",
      "════════════════════════════════════════════════════════════════════════════════════════════════════\n",
      "Press 'q' and then <enter> to stop execution early.\n",
      "\n",
      "Expressions evaluated per second: 1.080e+05\n",
      "Progress: 2507 / 3100 total iterations (80.871%)\n",
      "════════════════════════════════════════════════════════════════════════════════════════════════════\n",
      "───────────────────────────────────────────────────────────────────────────────────────────────────\n",
      "Complexity  Loss       Score      Equation\n",
      "1           9.627e+04  0.000e+00  y = 304.59\n",
      "3           2.941e+04  5.897e-01  y = TBP - 270.62\n",
      "5           1.858e+04  2.281e-01  y = (TBP * 0.00093598) * TBP\n",
      "7           2.607e+03  9.811e-01  y = 17475 / ((92526 / TBP) + -80.179)\n",
      "9           4.690e+02  8.576e-01  y = 27970 / (SG * ((1.6592e+05 / TBP) - 144.56))\n",
      "11          5.409e+01  1.080e+00  y = (85053 / SG) / ((3.2391e+05 / (TBP + -151.63)) + -316....\n",
      "                                      23)\n",
      "13          5.062e+01  3.317e-02  y = ((85048 / SG) / ((3.2378e+05 / (TBP - 140.19)) - 311.2...\n",
      "                                      8)) + -8.2961\n",
      "15          4.654e+01  4.201e-02  y = ((85048 / SG) / ((3.2378e+05 / (TBP - 135.72)) - 309.4...\n",
      "                                      8)) + (SG * -13.49)\n",
      "17          4.644e+01  1.117e-03  y = (((85048 / SG) / ((3.2378e+05 / (TBP - 135.98)) - 309....\n",
      "                                      59)) + (SG * -14.602)) + 1.3728\n",
      "19          4.275e+01  4.137e-02  y = 5.1633 - (TBP * ((((TBP * 0.023763) + (-40.569 + SG)) ...\n",
      "                                      / ((93240 / TBP) + -80.925)) / SG))\n",
      "21          4.227e+01  5.706e-03  y = (3.2878 - (TBP * ((((TBP + 41.305) * 0.024339) + (SG +...\n",
      "                                       -42.047)) / ((93240 / TBP) + -81.019)))) / SG\n",
      "23          4.202e+01  2.891e-03  y = ((3.9232 - ((((TBP + 41.305) * 0.024296) + (SG + -42.0...\n",
      "                                      29)) * (TBP / ((93240 / TBP) + -81)))) / SG) - SG\n",
      "25          2.953e+01  1.764e-01  y = ((-0.37485 / (1.3891 - SG)) + 4.5828) - ((((TBP + 49.8...\n",
      "                                      77) * 0.024368) + -41.48) * ((TBP / ((93240 / TBP) + -80.9...\n",
      "                                      27)) / SG))\n",
      "27          2.925e+01  4.753e-03  y = ((-0.39025 / (1.3892 - SG)) + ((2.9691 - ((((TBP + 49....\n",
      "                                      877) * 0.024356) + -41.48) * (TBP / ((93240 / TBP) + -80.9...\n",
      "                                      27)))) / SG)) - -1.0755\n",
      "29          2.916e+01  1.553e-03  y = ((-0.37485 / (1.3891 - SG)) - -1.2152) + ((((SG - TBP)...\n",
      "                                       * ((((TBP + 49.877) * 0.024345) + -41.48) / ((93240 / TBP...\n",
      "                                      ) + -80.927))) + 2.9691) / SG)\n",
      "───────────────────────────────────────────────────────────────────────────────────────────────────\n",
      "════════════════════════════════════════════════════════════════════════════════════════════════════\n",
      "Press 'q' and then <enter> to stop execution early.\n"
     ]
    },
    {
     "name": "stderr",
     "output_type": "stream",
     "text": [
      "[ Info: Final population:\n",
      "[ Info: Results saved to:\n"
     ]
    },
    {
     "name": "stdout",
     "output_type": "stream",
     "text": [
      "\n",
      "Expressions evaluated per second: 1.060e+05\n",
      "Progress: 3022 / 3100 total iterations (97.484%)\n",
      "════════════════════════════════════════════════════════════════════════════════════════════════════\n",
      "───────────────────────────────────────────────────────────────────────────────────────────────────\n",
      "Complexity  Loss       Score      Equation\n",
      "1           9.627e+04  0.000e+00  y = 304.59\n",
      "3           2.941e+04  5.897e-01  y = TBP - 270.62\n",
      "5           1.858e+04  2.281e-01  y = (TBP * 0.00093598) * TBP\n",
      "7           2.607e+03  9.811e-01  y = 17472 / ((92526 / TBP) + -80.181)\n",
      "9           4.690e+02  8.576e-01  y = 27972 / (SG * ((1.6592e+05 / TBP) - 144.56))\n",
      "11          5.409e+01  1.080e+00  y = (85053 / SG) / ((3.2391e+05 / (TBP + -151.63)) + -316....\n",
      "                                      23)\n",
      "13          5.062e+01  3.316e-02  y = ((85048 / SG) / ((3.2378e+05 / (TBP - 140.19)) - 311.2...\n",
      "                                      8)) + -8.2961\n",
      "15          4.652e+01  4.225e-02  y = (SG * -13.492) + ((85048 / SG) / ((3.2378e+05 / (TBP -...\n",
      "                                       135.72)) - 309.5))\n",
      "17          4.622e+01  3.201e-03  y = ((85048 / SG) / ((3.2378e+05 / (TBP - 135.24)) - 309.3...\n",
      "                                      1)) + (SG * (-13.128 - SG))\n",
      "19          4.275e+01  3.904e-02  y = 5.1633 - (TBP * ((((TBP * 0.023763) + (-40.569 + SG)) ...\n",
      "                                      / ((93240 / TBP) + -80.925)) / SG))\n",
      "21          4.227e+01  5.706e-03  y = (3.2878 - (TBP * ((((TBP + 41.305) * 0.024339) + (SG +...\n",
      "                                       -42.047)) / ((93240 / TBP) + -81.019)))) / SG\n",
      "23          4.044e+01  2.204e-02  y = 3.4861 - (TBP * (((SG + ((((TBP + 49.877) * 0.024332) ...\n",
      "                                      + -41.48) / SG)) + -0.88174) / ((93240 / TBP) + -80.927)))\n",
      "25          2.953e+01  1.573e-01  y = ((-0.37485 / (1.3891 - SG)) + 4.5828) - ((((TBP + 49.8...\n",
      "                                      77) * 0.024368) + -41.48) * ((TBP / ((93240 / TBP) + -80.9...\n",
      "                                      27)) / SG))\n",
      "27          2.924e+01  4.955e-03  y = (-0.39031 / (1.3894 - SG)) + ((SG + (2.9691 - (((((TBP...\n",
      "                                       + 49.877) * 0.024357) + -41.48) * TBP) / ((93240 / TBP) +...\n",
      "                                       -80.927)))) / SG)\n",
      "29          2.916e+01  1.351e-03  y = (((((SG - TBP) * ((((TBP + 49.877) * 0.024345) + -41.4...\n",
      "                                      8) / ((93240 / TBP) + -80.927))) + 2.9691) / SG) + (-0.374...\n",
      "                                      85 / (1.3891 - SG))) - -1.2152\n",
      "───────────────────────────────────────────────────────────────────────────────────────────────────\n",
      "════════════════════════════════════════════════════════════════════════════════════════════════════\n",
      "Press 'q' and then <enter> to stop execution early.\n",
      "───────────────────────────────────────────────────────────────────────────────────────────────────\n",
      "Complexity  Loss       Score      Equation\n",
      "1           9.627e+04  0.000e+00  y = 304.59\n",
      "3           2.941e+04  5.897e-01  y = TBP - 270.62\n",
      "5           1.858e+04  2.281e-01  y = (TBP * 0.00093598) * TBP\n",
      "7           2.607e+03  9.811e-01  y = 17472 / ((92526 / TBP) + -80.181)\n",
      "9           4.690e+02  8.576e-01  y = 27972 / (SG * ((1.6592e+05 / TBP) - 144.56))\n",
      "11          5.409e+01  1.080e+00  y = (85053 / SG) / ((3.2391e+05 / (TBP + -151.63)) + -316....\n",
      "                                      23)\n",
      "13          5.062e+01  3.316e-02  y = ((85048 / SG) / ((3.2378e+05 / (TBP - 140.19)) - 311.2...\n",
      "                                      8)) + -8.2961\n",
      "15          4.652e+01  4.225e-02  y = (SG * -13.492) + ((85048 / SG) / ((3.2378e+05 / (TBP -...\n",
      "                                       135.72)) - 309.5))\n",
      "17          4.622e+01  3.201e-03  y = ((85048 / SG) / ((3.2378e+05 / (TBP - 135.24)) - 309.3...\n",
      "                                      1)) + (SG * (-13.128 - SG))\n",
      "19          4.275e+01  3.904e-02  y = 5.1633 - (TBP * ((((TBP * 0.023763) + (-40.569 + SG)) ...\n",
      "                                      / ((93240 / TBP) + -80.925)) / SG))\n",
      "21          4.227e+01  5.706e-03  y = (3.2878 - (TBP * ((((TBP + 41.305) * 0.024339) + (SG +...\n",
      "                                       -42.047)) / ((93240 / TBP) + -81.019)))) / SG\n",
      "23          4.044e+01  2.204e-02  y = 3.4861 - (TBP * (((SG + ((((TBP + 49.877) * 0.024332) ...\n",
      "                                      + -41.48) / SG)) + -0.88174) / ((93240 / TBP) + -80.927)))\n",
      "25          2.953e+01  1.573e-01  y = ((-0.37485 / (1.3891 - SG)) + 4.5828) - ((((TBP + 49.8...\n",
      "                                      77) * 0.024368) + -41.48) * ((TBP / ((93240 / TBP) + -80.9...\n",
      "                                      27)) / SG))\n",
      "27          2.924e+01  4.957e-03  y = (-0.39031 / (1.3894 - SG)) + (((SG + 2.9691) - ((((TBP...\n",
      "                                       + 49.877) * 0.024357) + -41.48) * (TBP / ((93240 / TBP) +...\n",
      "                                       -80.927)))) / SG)\n",
      "29          2.916e+01  1.349e-03  y = (((((SG - TBP) * ((((TBP + 49.877) * 0.024345) + -41.4...\n",
      "                                      8) / ((93240 / TBP) + -80.927))) + 2.9691) / SG) + (-0.374...\n",
      "                                      85 / (1.3891 - SG))) - -1.2152\n",
      "───────────────────────────────────────────────────────────────────────────────────────────────────\n",
      "time to fit:  49.18690514564514 seconds\n",
      "  - outputs/20250713_210526_3Ro1Mg/hall_of_fame.csv\n"
     ]
    }
   ],
   "source": [
    "t0 = time.time()\n",
    "myMod=PySRRegressor(random_state=7,deterministic=True,parallelism='serial')\n",
    "myMod.fit(x,y)\n",
    "y_pred=myMod.predict(x)\n",
    "print(\"time to fit: \",time.time() - t0, 'seconds')"
   ]
  },
  {
   "cell_type": "markdown",
   "id": "2ICdD0BIr4WF",
   "metadata": {
    "id": "2ICdD0BIr4WF"
   },
   "source": [
    "### Results\n",
    "Let's take a peek at how the predicted molecular mass looks compared to the actual:"
   ]
  },
  {
   "cell_type": "code",
   "execution_count": 10,
   "id": "29DEnstMrmIr",
   "metadata": {
    "colab": {
     "base_uri": "https://localhost:8080/",
     "height": 472
    },
    "executionInfo": {
     "elapsed": 185,
     "status": "ok",
     "timestamp": 1752442026572,
     "user": {
      "displayName": "Richard Henry",
      "userId": "12926619101509154418"
     },
     "user_tz": 300
    },
    "id": "29DEnstMrmIr",
    "outputId": "db6e225b-ab73-46d1-bd4e-585e900f1c2f"
   },
   "outputs": [
    {
     "data": {
      "image/png": "[encoded data removed]",
      "text/plain": [
       "<Figure size 640x480 with 1 Axes>"
      ]
     },
     "metadata": {},
     "output_type": "display_data"
    }
   ],
   "source": [
    "plt.plot(y,y_pred,marker=\"o\",linestyle=\"None\")\n",
    "plt.xlabel('True Molecular Mass')\n",
    "plt.ylabel('Predicted Molecular Mass')\n",
    "plt.title('Molecular Mass vs Predicted Molecular Mass')\n",
    "plt.grid()\n",
    "plt.show()"
   ]
  },
  {
   "cell_type": "markdown",
   "id": "tHSFcDipsNAB",
   "metadata": {
    "id": "tHSFcDipsNAB"
   },
   "source": [
    "As the correlation looks reasonable, let us take a look at the equation:"
   ]
  },
  {
   "cell_type": "code",
   "execution_count": 11,
   "id": "7z1FZLT-scOR",
   "metadata": {
    "colab": {
     "base_uri": "https://localhost:8080/"
    },
    "executionInfo": {
     "elapsed": 46,
     "status": "ok",
     "timestamp": 1752442219704,
     "user": {
      "displayName": "Richard Henry",
      "userId": "12926619101509154418"
     },
     "user_tz": 300
    },
    "id": "7z1FZLT-scOR",
    "outputId": "b269b6be-3c8a-4387-88c2-1cfd0df74bd6"
   },
   "outputs": [
    {
     "name": "stdout",
     "output_type": "stream",
     "text": [
      "4.5827713 - 0.37485117/(1.3891245 - SG) - TBP*((TBP + 49.876865)*0.024368146 - 41.479553)/(SG*(-80.92693 + 93240.055/TBP))\n"
     ]
    }
   ],
   "source": [
    "myEq=myMod.sympy()\n",
    "print(myEq)"
   ]
  },
  {
   "cell_type": "markdown",
   "id": "6f457TalsvGW",
   "metadata": {
    "id": "6f457TalsvGW"
   },
   "source": [
    "This looks dramatically different.  Lets us clean it up a bit:"
   ]
  },
  {
   "cell_type": "code",
   "execution_count": 12,
   "id": "UsQentxMs9O7",
   "metadata": {
    "colab": {
     "base_uri": "https://localhost:8080/",
     "height": 60
    },
    "executionInfo": {
     "elapsed": 449,
     "status": "ok",
     "timestamp": 1752442356221,
     "user": {
      "displayName": "Richard Henry",
      "userId": "12926619101509154418"
     },
     "user_tz": 300
    },
    "id": "UsQentxMs9O7",
    "outputId": "d57350e0-25bf-4791-a0fb-dd7029d1b879"
   },
   "outputs": [
    {
     "data": {
      "text/latex": [
       "$\\displaystyle 4.5827713 + \\frac{0.37485117}{SG - 1.3891245} + \\frac{TBP \\left(0.024368146 TBP - 40.2641462716577\\right)}{SG \\left(80.92693 - \\frac{93240.055}{TBP}\\right)}$"
      ],
      "text/plain": [
       "4.5827713 + 0.37485117/(SG - 1.3891245) + TBP*(0.024368146*TBP - 40.2641462716577)/(SG*(80.92693 - 93240.055/TBP))"
      ]
     },
     "execution_count": null,
     "metadata": {},
     "output_type": "execute_result"
    }
   ],
   "source": [
    "sym.simplify(myEq)"
   ]
  },
  {
   "cell_type": "markdown",
   "id": "lXeOWdiEv0Qf",
   "metadata": {
    "id": "lXeOWdiEv0Qf"
   },
   "source": [
    "Next, we'll build a function for it, along with one for the Goossen's correlation which was based on the same data:"
   ]
  },
  {
   "cell_type": "code",
   "execution_count": 13,
   "id": "wlvnyJF0wDOy",
   "metadata": {
    "executionInfo": {
     "elapsed": 46,
     "status": "ok",
     "timestamp": 1752444360243,
     "user": {
      "displayName": "Richard Henry",
      "userId": "12926619101509154418"
     },
     "user_tz": 300
    },
    "id": "wlvnyJF0wDOy"
   },
   "outputs": [],
   "source": [
    "def firstTry(SG,TBP):\n",
    "  a00=281.3607\n",
    "  a01=1.4083161\n",
    "  a02=163.50403\n",
    "  a03=1181.708815\n",
    "  mw=a00*(-SG**2 -(SG-a01)*(TBP-a02))\n",
    "  mw/=SG*(SG-a01)*(TBP-a03)\n",
    "  return mw\n",
    "\n",
    "def secondTry(sg,tbp):\n",
    "  a00=0.7157302\n",
    "  a01=844.64886\n",
    "  a02=31326.5860910937\n",
    "  a03=198.543262798009\n",
    "  a04=1.416703\n",
    "  mw=(sg**2)*(a00*tbp-a01)+(a02-a03*tbp)*(sg-a04)\n",
    "  mw/=(sg*(sg-a04)*(a00*tbp-a01))\n",
    "  return mw\n",
    "\n",
    "def thirdTry(sg,tbp):\n",
    "  a00=4.5827713\n",
    "  a01=0.37485117\n",
    "  a02=1.3891245\n",
    "  a03=0.024368146\n",
    "  a04=40.2641462716577\n",
    "  a05=80.92693\n",
    "  a06=93240.055\n",
    "  mw=a00+(a01/(sg-a02))\n",
    "  mw+=(tbp*(a03*tbp-a04))/(sg*(a05-(a06/tbp)))\n",
    "  return mw\n",
    "\n",
    "def goos_Mw(sg,tbp):\n",
    "  c0 = 0.01077\n",
    "  c1 = 1.52869\n",
    "  c2 = 0.06486\n",
    "  c3 = 1078.0\n",
    "  c4 = 0.0\n",
    "  c5 = 1.002733049\n",
    "  c6 = -0.006433370483\n",
    "  t=tbp # No conversion necessary\n",
    "  c4 = c1 + c2 * math.log(t / (c3 - t))\n",
    "  return c0 * (t ** c4) / (sg * c5 + c6)"
   ]
  },
  {
   "cell_type": "code",
   "execution_count": 14,
   "id": "x5INZ3vwxwLc",
   "metadata": {
    "colab": {
     "base_uri": "https://localhost:8080/"
    },
    "executionInfo": {
     "elapsed": 9,
     "status": "ok",
     "timestamp": 1752444364331,
     "user": {
      "displayName": "Richard Henry",
      "userId": "12926619101509154418"
     },
     "user_tz": 300
    },
    "id": "x5INZ3vwxwLc",
    "outputId": "fe971cb6-9035-4abf-a56e-e32c9999918e"
   },
   "outputs": [
    {
     "name": "stdout",
     "output_type": "stream",
     "text": [
      "72.295785575113\n",
      "73.73956506101871\n",
      "75.1843860895409\n",
      "76.93791136542198\n"
     ]
    }
   ],
   "source": [
    "# Quick Test using the first datapoint\n",
    "mw0=firstTry(0.6310,306.0)\n",
    "print(mw0)\n",
    "mw1=secondTry(0.6310,306.0)\n",
    "print(mw1)\n",
    "mw2=thirdTry(0.6310,306.0)\n",
    "print(mw2)\n",
    "mw3=goos_Mw(0.6310,306.0)\n",
    "print(mw3)"
   ]
  }
 ],
 "metadata": {
  "colab": {
   "provenance": []
  },
  "kernelspec": {
   "display_name": "Python 3",
   "name": "python3"
  },
  "language_info": {
   "name": "python"
  }
 },
 "nbformat": 4,
 "nbformat_minor": 5
}
