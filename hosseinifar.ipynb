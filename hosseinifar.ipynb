{
 "cells": [
  {
   "cell_type": "markdown",
   "id": "0567ec4d-495c-4b93-a778-cf41d2669df9",
   "metadata": {},
   "source": [
    "# Hosseinifar & Jamsidi\n",
    "Development of a New Generalized Correlation to Characterize Physical Properties of Pure Components and Petroleum Fractions"
   ]
  },
  {
   "cell_type": "code",
   "execution_count": 1,
   "id": "8e1910f9-fd18-4df6-8bd4-ae05aa608b86",
   "metadata": {},
   "outputs": [],
   "source": [
    "# Auxilliary Relations\n",
    "def calc_sg_mw(mw):\n",
    "    # Specific Gravity from Molecular Mass\n",
    "    # Petroleum Mixtures\n",
    "    a00=0.0089\n",
    "    a01=0.70799\n",
    "    a02=-0.14064\n",
    "    a03=0.13199\n",
    "    sg=(a00*(mw**a01)+a02)**a03\n",
    "    return sg\n",
    "def calc_sg_tb(tb):\n",
    "    # Specific Gravity from Boiling Point\n",
    "    # Petroleum Mixtures\n",
    "    a00=0.00254\n",
    "    a01=0.89158\n",
    "    a02=-0.25524\n",
    "    a03=0.22474\n",
    "    sg=(a00*(tb**a01)+a02)**a03\n",
    "    return sg\n",
    "def calc_mw_sg(sg):\n",
    "    # Molecular Mass from Specific Graivty\n",
    "    # Petroleum Mixtures\n",
    "    a00=0.0089\n",
    "    a01=0.70799\n",
    "    a02=-0.14064\n",
    "    a03=0.13199\n",
    "    mw=(((sg**(1.0/a03))-a02)/a00)**(1.0/a01)\n",
    "    return mw\n",
    "def calc_tb_sg(sg):\n",
    "    # Boiling Point from Specific Gravity\n",
    "    # Petroleum Mixtures\n",
    "    a00=0.00254\n",
    "    a01=0.89158\n",
    "    a02=-0.25524\n",
    "    a03=0.22474\n",
    "    tb=(((sg**(1.0/a03))-a02)/a00)**(1.0/a01)\n",
    "    return tb\n",
    "def calc_sgf(sgo):\n",
    "    # Specific gravity function\n",
    "    sg=((3.0+2.0*sgo)/(3.0-sgo))**0.5\n",
    "    return sg"
   ]
  },
  {
   "cell_type": "code",
   "execution_count": 2,
   "id": "232e62fc-843b-42a7-bae1-c36f16dec128",
   "metadata": {},
   "outputs": [],
   "source": [
    "# Main Relations\n",
    "def calc_tc_mw(mw, sg):\n",
    "    # Critical Temperature from Molecular mass\n",
    "    # Petroleum Mixtures\n",
    "    a00 = -1.60557\n",
    "    a01 = -2.97959\n",
    "    a02 = -0.02555\n",
    "    a03 = +6.98661\n",
    "    a04 = +1.36983\n",
    "    a05 = +0.04822\n",
    "    a06 = +2.44263\n",
    "    sgf=calc_sgf(sg)\n",
    "    tc=a00*(sgf**a01)*(mw**a02)\n",
    "    tc+=a03*(sgf**a04)*(mw**a05)\n",
    "    tc=tc**a06\n",
    "    return tc\n",
    "def calc_tc_tb(tb, sg):\n",
    "    # Critical Temperature from Boiling Temperature\n",
    "    # Petroleum Mixtures\n",
    "    a00 = -0.06736\n",
    "    a01 = +8.93471\n",
    "    a02 = +1.36818\n",
    "    a03 = +20.74545\n",
    "    a04 = -1.1937\n",
    "    a05 = +1.48538\n",
    "    a06 = -0.55601\n",
    "    sgf=calc_sgf(sg)\n",
    "    tc=a00*(sgf**a01)*(tb**a02)\n",
    "    tc+=a03*(sgf**a04)*(tb**a05)\n",
    "    tc=tc**a06\n",
    "    return tc"
   ]
  },
  {
   "cell_type": "code",
   "execution_count": 3,
   "id": "5e61321a-5d6a-4973-8aa5-45a85f3209d3",
   "metadata": {},
   "outputs": [],
   "source": [
    "# Cross Relations\n",
    "def calc_tb_mw(mw, sg):\n",
    "    # Boiling Temperature from Molecular mass\n",
    "    # Petroleum Mixtures\n",
    "    a00 = -19.57627\n",
    "    a01 = +6.63237\n",
    "    a02 = -1.53884\n",
    "    a03 = +3.27099\n",
    "    a04 = -0.45559\n",
    "    a05 = +0.13686\n",
    "    a06 = +3.63757\n",
    "    sgf=calc_sgf(sg)\n",
    "    tb=a00*(sgf**a01)*(mw**a02)\n",
    "    tb+=a03*(sgf**a04)*(mw**a05)\n",
    "    tb=tb**a06\n",
    "    return tb\n",
    "def calc_mw_tb(tb, sg):\n",
    "    # Molecular Mass from Boiling Temperature\n",
    "    # Petroleum Mixtures\n",
    "    a00 = +0.10618\n",
    "    a01 = -1.42613\n",
    "    a02 = +0.60357\n",
    "    a03 = +75.87056\n",
    "    a04 = -3.08638\n",
    "    a05 = -1.03944\n",
    "    a06 = +5.23452\n",
    "    sgf=calc_sgf(sg)\n",
    "    mw=a00*(sgf**a01)*(tb**a02)\n",
    "    mw+=a03*(sgf**a04)*(tb**a05)\n",
    "    mw=mw**a06\n",
    "    return mw"
   ]
  },
  {
   "cell_type": "code",
   "execution_count": 4,
   "id": "8e70f220-3158-4090-a0dd-6884929bd713",
   "metadata": {},
   "outputs": [
    {
     "name": "stdout",
     "output_type": "stream",
     "text": [
      "0.7463367600865184\n",
      "0.7423922387402526\n"
     ]
    }
   ],
   "source": [
    "y=calc_sg_mw(110.93)\n",
    "print(y)\n",
    "z=calc_sg_tb(391.82)\n",
    "print(z)"
   ]
  },
  {
   "cell_type": "code",
   "execution_count": 5,
   "id": "afc7eb8d-d54c-415e-b544-406f4e160be0",
   "metadata": {},
   "outputs": [
    {
     "name": "stdout",
     "output_type": "stream",
     "text": [
      "110.93\n",
      "391.82000000000005\n"
     ]
    }
   ],
   "source": [
    "yrev=calc_mw_sg(y)\n",
    "print(yrev)\n",
    "zrev=calc_tb_sg(z)\n",
    "print(zrev)\n"
   ]
  },
  {
   "cell_type": "code",
   "execution_count": 6,
   "id": "da4766e0-b6a6-432e-a726-f6f80b05d6eb",
   "metadata": {},
   "outputs": [
    {
     "name": "stdout",
     "output_type": "stream",
     "text": [
      "1.3228756555322954\n",
      "1.4119129432005655\n",
      "1.4094398418445835\n"
     ]
    }
   ],
   "source": [
    "x0=calc_sgf(0.6)\n",
    "print(x0)\n",
    "x1=calc_sgf(y)\n",
    "print(x1)\n",
    "x2=calc_sgf(z)\n",
    "print(x2)"
   ]
  },
  {
   "cell_type": "code",
   "execution_count": 7,
   "id": "6fe882a7-7198-4923-923f-d9f27c715ed4",
   "metadata": {},
   "outputs": [
    {
     "name": "stdout",
     "output_type": "stream",
     "text": [
      "571.2192953207991\n",
      "571.2192953207991\n"
     ]
    }
   ],
   "source": [
    "y2=calc_tc_mw(110.93,0.7347)\n",
    "print(y2)\n",
    "y3=calc_tc_tb(391.82,0.7347)\n",
    "print(y2)"
   ]
  },
  {
   "cell_type": "code",
   "execution_count": 8,
   "id": "d03e4367-67e6-4bfc-9278-210cb6cd79d4",
   "metadata": {},
   "outputs": [
    {
     "name": "stdout",
     "output_type": "stream",
     "text": [
      "403.56762855182734\n",
      "403.56762855182734\n"
     ]
    }
   ],
   "source": [
    "y4=calc_tb_mw(110.93,0.7347)\n",
    "print(y4)\n",
    "y5=calc_mw_tb(391.82,0.7347)\n",
    "print(y4)"
   ]
  },
  {
   "cell_type": "markdown",
   "id": "348a5cdc-cfa4-491a-91ec-c2bad33b49c1",
   "metadata": {},
   "source": [
    "# Hosseinifar & Shahverdi\n",
    "A Predictive Method for Constructing the Distillation Curve of Petroluem Fluids Using their Physical Bulk Properties "
   ]
  },
  {
   "cell_type": "code",
   "execution_count": 9,
   "id": "5561e48e-348e-451c-9396-3dc8b469e715",
   "metadata": {},
   "outputs": [],
   "source": [
    "# From Visual Basic\n",
    "def shossTb(sg):\n",
    "    #------------------------------------------------------------------------------\n",
    "    #-- Boiling Point [K] \n",
    "    #-- A Predictive Method for Constructing the Distillation Curves of          --\n",
    "    #-- Petroleum Fluids Using their Physical Bulk Properties                    --\n",
    "    #-- Hosseinifar & Shahverdi, 2021 (JPSE)                                     --\n",
    "    #-- Coded by Richard Henry, June 2025                                        --\n",
    "    #------------------------------------------------------------------------------\n",
    "    #-- sg = Specific Gravity [1/air]                                            --\n",
    "    #------------------------------------------------------------------------------\n",
    "    a00 = 50.810766\n",
    "    a01 = 8.9376090\n",
    "    a02 = 56.359421\n",
    "    a03 = 0.851344\n",
    "    #------------------------------------------------------------------------------\n",
    "    tb=(3.0+2.0*sg)/(3.0-sg)\n",
    "    tb=a00*(tb**(a01/2.0))\n",
    "    tb=(tb+a02)**a03\n",
    "    return tb\n",
    "\n",
    "def mhossTb(mw):\n",
    "    #------------------------------------------------------------------------------\n",
    "    #-- Boiling Point [K] \n",
    "    #-- A Predictive Method for Constructing the Distillation Curves of          --\n",
    "    #-- Petroleum Fluids Using their Physical Bulk Properties                    --\n",
    "    #-- Hosseinifar & Shahverdi, 2021 (JPSE)                                     --\n",
    "    #-- Coded by Richard Henry, June 2025                                        --\n",
    "    #------------------------------------------------------------------------------\n",
    "    #-- mw = Molecular Mass [lb/mol]\n",
    "    #------------------------------------------------------------------------------\n",
    "    a00 = 0.440056\n",
    "    a01 = -0.281715\n",
    "    a02 = 0.288766\n",
    "    a03 = -6.616655\n",
    "    #------------------------------------------------------------------------------\n",
    "    tb=a00*(mw**a01)\n",
    "    tb=(tb+a02)**a03\n",
    "    return tb\n",
    "\n",
    "def thossMw(tb):\n",
    "    #------------------------------------------------------------------------------\n",
    "    #-- Molecular Mass [lb/mol]                                                  --\n",
    "    #-- Reversed Boiling Point Correlation                                       --\n",
    "    #-- A Predictive Method for Constructing the Distillation Curves of          --\n",
    "    #-- Petroleum Fluids Using their Physical Bulk Properties                    --\n",
    "    #-- Hosseinifar & Shahverdi, 2021 (JPSE)                                     --\n",
    "    #-- Coded by Richard Henry, June 2025                                        --\n",
    "    #------------------------------------------------------------------------------\n",
    "    #-- tb = Boiling Point [K]                                                   --\n",
    "    #------------------------------------------------------------------------------\n",
    "    a00 = 0.440056\n",
    "    a01 = -0.281715\n",
    "    a02 = 0.288766\n",
    "    a03 = -6.616655\n",
    "    #--------------------------------------------------------------------------\n",
    "    mw = (tb ** (1.0 / a03)) - a02\n",
    "    mw = (mw / a00) ** (1.0 / a01)\n",
    "    return mw\n",
    "\n",
    "def thossSg(tb):\n",
    "    #------------------------------------------------------------------------------\n",
    "    #-- Specific Gravity [1/air] \n",
    "    #-- Reversed Boiling Point Correlation                                       --\n",
    "    #-- A Predictive Method for Constructing the Distillation Curves of          --\n",
    "    #-- Petroleum Fluids Using their Physical Bulk Properties                    --\n",
    "    #-- Hosseinifar & Shahverdi, 2021 (JPSE)                                     --\n",
    "    #-- Coded by Richard Henry, June 2025                                        --\n",
    "    #------------------------------------------------------------------------------\n",
    "    #-- tb = Boiling Point [K]                                                   --\n",
    "    #------------------------------------------------------------------------------\n",
    "    a00 = 50.810766\n",
    "    a01 = 8.9376090\n",
    "    a02 = 56.359421\n",
    "    a03 = 0.851344\n",
    "    #------------------------------------------------------------------------------\n",
    "    sg=(tb ** (1.0/a03))-a02\n",
    "    sg=(sg/a00) ** (2.0/a01)\n",
    "    return 3.0*(sg-1.0)/(sg+2.0)\n"
   ]
  },
  {
   "cell_type": "code",
   "execution_count": 10,
   "id": "8fa36a15-c756-4871-b768-575fe04fd4f7",
   "metadata": {},
   "outputs": [],
   "source": [
    "# More Visual Basic\n",
    "def hoss_Mw(tb, sg):\n",
    "    #------------------------------------------------------------------------------\n",
    "    #-- Molecular Mass of Petroleum Fraction [lb/lb-mol]\n",
    "    #-- A Predictive Method for Constructing the Distillation Curves of          --\n",
    "    #-- Petroleum Fluids Using their Physical Bulk Properties                    --\n",
    "    #-- Hosseinifar & Shahverdi, 2021 (JPSE)\n",
    "    #-- Coded by Richard Henry, June 2025\n",
    "    #------------------------------------------------------------------------------\n",
    "    #-- tb = normal boiling point, [K]\n",
    "    #-- sg = specific gravity [1/wtr]\n",
    "    #------------------------------------------------------------------------------\n",
    "    a00 = 111.10258\n",
    "    a01 = -1.318569\n",
    "    a02 = -3.288424\n",
    "    a03 = -41.663306\n",
    "    a04 = -1.153088\n",
    "    a05 = -3.698071\n",
    "    a06 = -0.739074\n",
    "    #--------------------------------------------------------------------------\n",
    "    Mw = (3.0 + 2.0 * sg) / (3.0 - 2.0 * sg)\n",
    "    hoss_Mw = a00 * (tb ** a01) * (Mw ** (a02 / 2.0))\n",
    "    hoss_Mw += a03 * (tb ** a04) * (Mw ** (a05 / 2.0))\n",
    "    return hoss_Mw ** a06\n",
    "\n",
    "def hoss_Sg(tb, mw):\n",
    "    #------------------------------------------------------------------------------\n",
    "    #-- Specific Gravity of a petroleum fraction [1/wtr]                         --\n",
    "    #-- A Predictive Method for Constructing the Distillation Curves of          --\n",
    "    #-- Petroleum Fluids Using their Physical Bulk Properties                    --\n",
    "    #-- Hossainifar & Shahverde, JPSE 2021                                       --\n",
    "    #-- Coded by Richard Henry, June 2025                                        --\n",
    "    #------------------------------------------------------------------------------\n",
    "    #-- tb = normal boiling point, [K]                                           --\n",
    "    #-- mw = molecular weight [lb/lb-mol] (78-1685)                              --\n",
    "    #------------------------------------------------------------------------------\n",
    "    a00 = 191.58115\n",
    "    a01 = 0.351225\n",
    "    a02 = -1.104708\n",
    "    a03 = 0.007483\n",
    "    a04 = -0.299417\n",
    "    a05 = 0.2101\n",
    "    a06 = -0.977398\n",
    "    #--------------------------------------------------------------------------\n",
    "    hoss_Sg = a00 * (mw ** a01) * (tb ** a02)\n",
    "    hoss_Sg += a03 * (mw ** a04) * (tb ** a05)\n",
    "    return hoss_Sg ** a06\n",
    "\n",
    "def hoss_Tb(mw, sg):\n",
    "#------------------------------------------------------------------------------\n",
    "#-- Normal Boiling Point [K]                                                 --\n",
    "#-- A Predictive Method for Constructing the Distillation Curves of          --\n",
    "#-- Petroleum Fluids Using their Physical Bulk Properties                    --\n",
    "#-- Hosseinifar & Shahverdi, 2021 (JPSE)                                     --\n",
    "#-- Coded by Richard Henry, June 2025                                        --\n",
    "#------------------------------------------------------------------------------\n",
    "#-- mw = apparent molecular mass, [lb/lb-mol]                                --\n",
    "#-- sg = specific gravity [1/wtr]                                            --\n",
    "#------------------------------------------------------------------------------\n",
    "    a00  = 5.242568\n",
    "    a01  = 0.122363\n",
    "    a02  = 0.473983\n",
    "    a03  = -26.72589\n",
    "    a04  = -1.468071\n",
    "    a05  = 9.119141\n",
    "    a06  = 2.553364\n",
    "    #------------------------------------------------------------------------------\n",
    "    tb = (3.0 + 2.0 * sg) / (3.0 - sg)\n",
    "    hoss_Tb = a00 * (mw ** a01) * (tb ** (a02 / 2.0))\n",
    "    hoss_Tb += a03 * (mw ** a04) * (tb ** (a05 / 2.0))\n",
    "    return hoss_Tb ** a06\n"
   ]
  },
  {
   "cell_type": "code",
   "execution_count": 11,
   "id": "100d514d-fa96-4695-a1ac-95d076ceee08",
   "metadata": {},
   "outputs": [
    {
     "name": "stdout",
     "output_type": "stream",
     "text": [
      "392.93868434716694\n",
      "392.12817605156374\n",
      "110.76766251125433\n",
      "0.7338120290233426\n"
     ]
    }
   ],
   "source": [
    "print(shossTb(0.7347))\n",
    "print(mhossTb(110.93))\n",
    "print(thossMw(391.82))\n",
    "print(thossSg(391.82))"
   ]
  },
  {
   "cell_type": "code",
   "execution_count": 12,
   "id": "e5f5aad0-e037-4900-a76c-767e1e7c5576",
   "metadata": {},
   "outputs": [
    {
     "name": "stdout",
     "output_type": "stream",
     "text": [
      "385.19686990384673\n",
      "397.17180496461424\n"
     ]
    }
   ],
   "source": [
    "print(calc_tb_sg(0.7374))\n",
    "print(calc_tb_sg(calc_sg_mw(110.93)))"
   ]
  },
  {
   "cell_type": "code",
   "execution_count": 13,
   "id": "b71f0aad-3cd0-4970-a120-d6cb080fa21b",
   "metadata": {},
   "outputs": [
    {
     "name": "stdout",
     "output_type": "stream",
     "text": [
      "129.28792737958463\n",
      "0.7329418082388526\n",
      "392.1942073044783\n"
     ]
    }
   ],
   "source": [
    "print(hoss_Mw(391.82,0.7347))\n",
    "print(hoss_Sg(391.82,110.93))\n",
    "print(hoss_Tb(110.93,0.7347))"
   ]
  },
  {
   "cell_type": "code",
   "execution_count": 14,
   "id": "c0e32151-21d7-42da-a858-95cc82cefb45",
   "metadata": {},
   "outputs": [
    {
     "name": "stdout",
     "output_type": "stream",
     "text": [
      "679.0364400404649\n",
      "714.2688647918062\n",
      "274.73167453569516\n"
     ]
    }
   ],
   "source": [
    "#Problematics\n",
    "print(hoss_Mw(988,0.8438))\n",
    "print(hoss_Mw(1012,0.8460))\n",
    "print(hoss_Tb(78,0.8842))"
   ]
  },
  {
   "cell_type": "code",
   "execution_count": null,
   "id": "928621d0-89a5-46ab-bca4-3d8168a57d76",
   "metadata": {},
   "outputs": [],
   "source": []
  }
 ],
 "metadata": {
  "kernelspec": {
   "display_name": "Python 3 (ipykernel)",
   "language": "python",
   "name": "python3"
  },
  "language_info": {
   "codemirror_mode": {
    "name": "ipython",
    "version": 3
   },
   "file_extension": ".py",
   "mimetype": "text/x-python",
   "name": "python",
   "nbconvert_exporter": "python",
   "pygments_lexer": "ipython3",
   "version": "3.13.5"
  }
 },
 "nbformat": 4,
 "nbformat_minor": 5
}
