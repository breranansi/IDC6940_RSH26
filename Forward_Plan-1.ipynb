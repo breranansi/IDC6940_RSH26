{
 "cells": [
  {
   "cell_type": "code",
   "execution_count": 1,
   "id": "e135ec2b",
   "metadata": {},
   "outputs": [],
   "source": [
    "# Mermaid Diagramming Library\n",
    "import mermaid as md"
   ]
  },
  {
   "cell_type": "markdown",
   "id": "007c61f9",
   "metadata": {},
   "source": [
    "# IDC 6940 Final Project\n",
    "## University of West Florida\n",
    "Summer 2025\n",
    "Delanyce Rose & Richard Henry\n",
    "\n",
    "## Proposed Workflow\n",
    "Here we outline our expected workflow for producing this paper:"
   ]
  },
  {
   "cell_type": "code",
   "execution_count": 3,
   "id": "b1172261",
   "metadata": {},
   "outputs": [],
   "source": [
    "# Graph Description\n",
    "\n",
    "render = md.Mermaid(\"\"\"\n",
    "    flowchart LR\n",
    "    %% Nodes\n",
    "    A(\"Introduction\"):::green\n",
    "    B(\"Definition\"):::green\n",
    "    C(\"Importance\"):::green\n",
    "    D(\"Competing<br>Technologies\"):::green\n",
    "    E(\"Datasets\"):::green\n",
    "    F(\"Performance\"):::green\n",
    "    G(\"Observations\"):::green\n",
    "    H(\"Conclusions\"):::green\n",
    "    J(\"References\"):::green\n",
    "    D1(\"Evolutionary<br>Algorithms\"):::purple\n",
    "    D2(\"General<br>Linear<br>Regression\"):::purple\n",
    "    D3(\"Neural<br>Networks\"):::purple\n",
    "    D4(\"Sparse<br>Regression\"):::purple\n",
    "    E1(\"API Gravity\"):::purple\n",
    "    E2(\"Ideal Gas\"):::purple\n",
    "    E3(\"Molecular<br>Mass 1\"):::purple\n",
    "    E4(\"Molecular<br>Mass 2\"):::purple\n",
    "    E5(\"Health<br>Care\"):::purple\n",
    "    %% Edges\n",
    "    A --> B --> C --> D\n",
    "    D --> D1-->E\n",
    "    D --> D2-->E\n",
    "    D --> D3-->E\n",
    "    D --> D4-->E\n",
    "    E-->E1-->F\n",
    "    E-->E2-->F\n",
    "    E-->E3-->F\n",
    "    E-->E4-->F\n",
    "    E-->E5-->F\n",
    "    F-->G-->H-->J\n",
    "    %% Styling\n",
    "    classDef green fill:#B2DFDB,stroke:#00897B,stroke-width:2px;\n",
    "    classDef purple fill:#E1BEE7,stroke:#8E24AA,stroke-width:2px;\n",
    "\"\"\")"
   ]
  }
 ],
 "metadata": {
  "language_info": {
   "name": "python"
  }
 },
 "nbformat": 4,
 "nbformat_minor": 5
}
