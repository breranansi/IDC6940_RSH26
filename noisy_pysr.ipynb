{
 "cells": [
  {
   "cell_type": "markdown",
   "metadata": {
    "id": "0uxM1aTS2jAV"
   },
   "source": [
    "# PySR Noisy Run\n"
   ]
  },
  {
   "cell_type": "code",
   "execution_count": 32,
   "metadata": {
    "colab": {
     "base_uri": "https://localhost:8080/"
    },
    "executionInfo": {
     "elapsed": 7076,
     "status": "ok",
     "timestamp": 1750547738258,
     "user": {
      "displayName": "Richard Henry",
      "userId": "12926619101509154418"
     },
     "user_tz": 300
    },
    "id": "x5BBOo-D2Zk_",
    "outputId": "3868b60b-2cb3-4260-882a-0e4552c2b93e"
   },
   "outputs": [
    {
     "name": "stdout",
     "output_type": "stream",
     "text": [
      "Requirement already satisfied: pysr in /home/richard/Documents/p311a/lib/python3.11/site-packages (1.5.9)\n",
      "Requirement already satisfied: click<9.0.0,>=7.0.0 in /home/richard/Documents/p311a/lib/python3.11/site-packages (from pysr) (8.2.1)\n",
      "Requirement already satisfied: juliacall<0.9.27,>=0.9.24 in /home/richard/Documents/p311a/lib/python3.11/site-packages (from pysr) (0.9.25)\n",
      "Requirement already satisfied: numpy<3.0.0,>=1.13.0 in /home/richard/Documents/p311a/lib/python3.11/site-packages (from pysr) (2.3.1)\n",
      "Requirement already satisfied: pandas<3.0.0,>=0.21.0 in /home/richard/Documents/p311a/lib/python3.11/site-packages (from pysr) (2.3.1)\n",
      "Requirement already satisfied: scikit-learn<2.0.0,>=1.0.0 in /home/richard/Documents/p311a/lib/python3.11/site-packages (from pysr) (1.7.0)\n",
      "Requirement already satisfied: sympy<2.0.0,>=1.0.0 in /home/richard/Documents/p311a/lib/python3.11/site-packages (from pysr) (1.14.0)\n",
      "Requirement already satisfied: typing-extensions<5.0.0,>=4.0.0 in /usr/share/positron/resources/app/extensions/positron-python/python_files/lib/ipykernel/py3 (from pysr) (4.13.2)\n",
      "Requirement already satisfied: juliapkg~=0.1.17 in /home/richard/Documents/p311a/lib/python3.11/site-packages (from juliacall<0.9.27,>=0.9.24->pysr) (0.1.17)\n",
      "Requirement already satisfied: python-dateutil>=2.8.2 in /usr/share/positron/resources/app/extensions/positron-python/python_files/lib/ipykernel/py3 (from pandas<3.0.0,>=0.21.0->pysr) (2.9.0.post0)\n",
      "Requirement already satisfied: pytz>=2020.1 in /home/richard/Documents/p311a/lib/python3.11/site-packages (from pandas<3.0.0,>=0.21.0->pysr) (2025.2)\n",
      "Requirement already satisfied: tzdata>=2022.7 in /home/richard/Documents/p311a/lib/python3.11/site-packages (from pandas<3.0.0,>=0.21.0->pysr) (2025.2)\n",
      "Requirement already satisfied: scipy>=1.8.0 in /home/richard/Documents/p311a/lib/python3.11/site-packages (from scikit-learn<2.0.0,>=1.0.0->pysr) (1.16.0)\n",
      "Requirement already satisfied: joblib>=1.2.0 in /home/richard/Documents/p311a/lib/python3.11/site-packages (from scikit-learn<2.0.0,>=1.0.0->pysr) (1.5.1)\n",
      "Requirement already satisfied: threadpoolctl>=3.1.0 in /home/richard/Documents/p311a/lib/python3.11/site-packages (from scikit-learn<2.0.0,>=1.0.0->pysr) (3.6.0)\n",
      "Requirement already satisfied: mpmath<1.4,>=1.1.0 in /home/richard/Documents/p311a/lib/python3.11/site-packages (from sympy<2.0.0,>=1.0.0->pysr) (1.3.0)\n",
      "Requirement already satisfied: filelock<4.0,>=3.16 in /home/richard/Documents/p311a/lib/python3.11/site-packages (from juliapkg~=0.1.17->juliacall<0.9.27,>=0.9.24->pysr) (3.18.0)\n",
      "Requirement already satisfied: semver<4.0,>=3.0 in /home/richard/Documents/p311a/lib/python3.11/site-packages (from juliapkg~=0.1.17->juliacall<0.9.27,>=0.9.24->pysr) (3.0.4)\n",
      "Requirement already satisfied: six>=1.5 in /usr/share/positron/resources/app/extensions/positron-python/python_files/lib/ipykernel/py3 (from python-dateutil>=2.8.2->pandas<3.0.0,>=0.21.0->pysr) (1.17.0)\n",
      "\n",
      "\u001b[1m[\u001b[0m\u001b[34;49mnotice\u001b[0m\u001b[1;39;49m]\u001b[0m\u001b[39;49m A new release of pip is available: \u001b[0m\u001b[31;49m24.0\u001b[0m\u001b[39;49m -> \u001b[0m\u001b[32;49m25.1.1\u001b[0m\n",
      "\u001b[1m[\u001b[0m\u001b[34;49mnotice\u001b[0m\u001b[1;39;49m]\u001b[0m\u001b[39;49m To update, run: \u001b[0m\u001b[32;49m/home/richard/Documents/p311a/bin/python -m pip install --upgrade pip\u001b[0m\n",
      "Note: you may need to restart the kernel to use updated packages.\n"
     ]
    }
   ],
   "source": [
    "# Install libraries\n",
    "%pip install -U pysr"
   ]
  },
  {
   "cell_type": "code",
   "execution_count": 33,
   "metadata": {
    "id": "k5IBUT6qo2m-"
   },
   "outputs": [],
   "source": [
    "#import pysr"
   ]
  },
  {
   "cell_type": "code",
   "execution_count": 34,
   "metadata": {
    "id": "eOgIB7Va293v"
   },
   "outputs": [],
   "source": [
    "# Call libraries\n",
    "import numpy as np\n",
    "#import pandas as pd\n",
    "from numpy import random\n",
    "import sympy as sym\n",
    "import matplotlib.pyplot as plt\n",
    "from pysr import PySRRegressor\n",
    "import time"
   ]
  },
  {
   "cell_type": "code",
   "execution_count": 35,
   "metadata": {
    "colab": {
     "base_uri": "https://localhost:8080/",
     "height": 430
    },
    "executionInfo": {
     "elapsed": 201,
     "status": "ok",
     "timestamp": 1750547738488,
     "user": {
      "displayName": "Richard Henry",
      "userId": "12926619101509154418"
     },
     "user_tz": 300
    },
    "id": "uLVMvZH23bmW",
    "outputId": "05d11bd0-cf09-4497-b705-f4a3abb14aef"
   },
   "outputs": [
    {
     "data": {
      "image/png": "[encoded data removed]",
      "text/plain": [
       "<Figure size 640x480 with 1 Axes>"
      ]
     },
     "metadata": {},
     "output_type": "display_data"
    }
   ],
   "source": [
    "# Build Noisy Toy Dataset\n",
    "x=np.arange(start=0.55,stop=1.075,step=0.025)\n",
    "w=(random.rand(21)-0.5)*2.5\n",
    "y=141.5/x-131.5+w\n",
    "plt.plot(x,y,marker=\"o\",linestyle=\"None\")\n",
    "plt.title(\"Noisy Toy Dataset\")\n",
    "plt.xlabel(\"Specific Gravity\")\n",
    "plt.ylabel(\"API Gravity\")\n",
    "plt.grid()\n",
    "plt.show()"
   ]
  },
  {
   "cell_type": "code",
   "execution_count": 36,
   "metadata": {
    "colab": {
     "base_uri": "https://localhost:8080/"
    },
    "executionInfo": {
     "elapsed": 32184,
     "status": "ok",
     "timestamp": 1750547770670,
     "user": {
      "displayName": "Richard Henry",
      "userId": "12926619101509154418"
     },
     "user_tz": 300
    },
    "id": "f0jVmptr37NQ",
    "outputId": "3ae277da-ca24-48eb-d673-c3f476adc5d5"
   },
   "outputs": [
    {
     "name": "stderr",
     "output_type": "stream",
     "text": [
      "/home/richard/Documents/p311a/lib/python3.11/site-packages/pysr/sr.py:2811: UserWarning: Note: it looks like you are running in Jupyter. The progress bar will be turned off.\n",
      "  warnings.warn(\n",
      "[ Info: Started!\n"
     ]
    },
    {
     "name": "stdout",
     "output_type": "stream",
     "text": [
      "\n",
      "Expressions evaluated per second: 8.290e+04\n",
      "Progress: 419 / 3100 total iterations (13.516%)\n",
      "════════════════════════════════════════════════════════════════════════════════════════════════════\n",
      "───────────────────────────────────────────────────────────────────────────────────────────────────\n",
      "Complexity  Loss       Score      Equation\n",
      "1           1.329e+03  0.000e+00  y = 52.092\n",
      "3           6.579e+02  3.515e-01  y = 43.972 / x₀\n",
      "5           4.257e-01  3.672e+00  y = (141.89 / x₀) + -132.06\n",
      "7           4.141e-01  1.371e-02  y = (-133.61 - (-142.47 / x₀)) + x₀\n",
      "9           3.716e-01  5.420e-02  y = ((x₀ * 8.8819) + -145.85) - (-147.04 / x₀)\n",
      "11          3.703e-01  1.714e-03  y = ((x₀ * (x₀ + 6.4707)) + -143.96) - (-146.56 / x₀)\n",
      "13          3.365e-01  4.789e-02  y = (((((-10.9 / x₀) + 47.928) / x₀) - -73.383) / x₀) + -1...\n",
      "                                      00.33\n",
      "17          3.354e-01  7.955e-04  y = ((((102.09 / x₀) + ((-0.058753 / (x₀ / 408.2)) / x₀)) ...\n",
      "                                      - -0.29761) / x₀) + -68.209\n",
      "21          3.299e-01  4.129e-03  y = -75.396 + ((((-0.14376 / (x₀ / 146)) / x₀) + ((89.79 /...\n",
      "                                       x₀) - ((x₀ / x₀) + -17.771))) / x₀)\n",
      "25          3.299e-01  8.941e-07  y = (((((-0.14376 / (x₀ / 146)) / x₀) + (89.79 / x₀)) - ((...\n",
      "                                      (x₀ / x₀) / (x₀ / x₀)) + -17.771)) / x₀) + -75.396\n",
      "29          3.297e-01  1.847e-04  y = ((((-0.14284 / (x₀ / 146.01)) / x₀) + ((89.701 / x₀) -...\n",
      "                                       (((x₀ / (x₀ + (x₀ / (x₀ / x₀)))) / x₀) + -17.619))) / x₀)...\n",
      "                                       + -75.799\n",
      "───────────────────────────────────────────────────────────────────────────────────────────────────\n",
      "════════════════════════════════════════════════════════════════════════════════════════════════════\n",
      "Press 'q' and then <enter> to stop execution early.\n",
      "\n",
      "Expressions evaluated per second: 7.880e+04\n",
      "Progress: 880 / 3100 total iterations (28.387%)\n",
      "════════════════════════════════════════════════════════════════════════════════════════════════════\n",
      "───────────────────────────────────────────────────────────────────────────────────────────────────\n",
      "Complexity  Loss       Score      Equation\n",
      "1           1.329e+03  0.000e+00  y = 52.092\n",
      "3           6.579e+02  3.515e-01  y = 43.972 / x₀\n",
      "5           4.257e-01  3.672e+00  y = (141.89 / x₀) - 132.06\n",
      "7           4.141e-01  1.371e-02  y = (-133.61 - (-142.47 / x₀)) + x₀\n",
      "9           3.716e-01  5.420e-02  y = ((x₀ * 8.8819) - (-147.04 / x₀)) + -145.85\n",
      "11          3.668e-01  6.438e-03  y = (((x₀ * x₀) * 3.9136) + -139.3) - (-145.47 / x₀)\n",
      "13          3.276e-01  5.651e-02  y = (((((-17.523 / x₀) + 75.344) / x₀) - -36.392) / x₀) + ...\n",
      "                                      -84.073\n",
      "15          3.276e-01  8.583e-06  y = ((((((-17.681 / x₀) + x₀) + 75.999) / x₀) - -34.507) /...\n",
      "                                       x₀) + -83.684\n",
      "17          3.276e-01  2.980e-07  y = (((((x₀ + 75.999) + (-17.681 / x₀)) / x₀) - -34.507) /...\n",
      "                                       x₀) + (-82.714 - 0.96971)\n",
      "19          3.275e-01  2.362e-04  y = (((((-20.507 / x₀) + 91.335) / x₀) - -4.7933) / x₀) + ...\n",
      "                                      (x₀ + ((x₀ * -9.6845) + -56.795))\n",
      "───────────────────────────────────────────────────────────────────────────────────────────────────\n",
      "════════════════════════════════════════════════════════════════════════════════════════════════════\n",
      "Press 'q' and then <enter> to stop execution early.\n",
      "\n",
      "Expressions evaluated per second: 7.700e+04\n",
      "Progress: 1304 / 3100 total iterations (42.065%)\n",
      "════════════════════════════════════════════════════════════════════════════════════════════════════\n",
      "───────────────────────────────────────────────────────────────────────────────────────────────────\n",
      "Complexity  Loss       Score      Equation\n",
      "1           1.329e+03  0.000e+00  y = 52.092\n",
      "3           6.579e+02  3.515e-01  y = 43.972 / x₀\n",
      "5           4.257e-01  3.672e+00  y = (141.89 / x₀) - 132.06\n",
      "7           4.141e-01  1.371e-02  y = (-133.61 - (-142.47 / x₀)) + x₀\n",
      "9           3.716e-01  5.420e-02  y = ((x₀ * 8.8819) - (-147.04 / x₀)) + -145.85\n",
      "11          3.356e-01  5.100e-02  y = ((((-24.034 / x₀) + 102.3) / x₀) / x₀) + -68.075\n",
      "13          3.276e-01  1.196e-02  y = (((((-17.523 / x₀) + 75.344) / x₀) - -36.392) / x₀) + ...\n",
      "                                      -84.073\n",
      "15          3.276e-01  6.557e-06  y = ((((((-17.681 / x₀) + x₀) + 75.999) / x₀) - -34.507) /...\n",
      "                                       x₀) + -83.684\n",
      "17          3.275e-01  2.483e-04  y = (x₀ * -8.9927) + (-56.296 + (((((-20.42 / x₀) + 91.108...\n",
      "                                      ) / x₀) - -4.7422) / x₀))\n",
      "19          3.274e-01  6.640e-05  y = (((((((-22.121 / x₀) - x₀) + 100.11) / x₀) - 11.809) /...\n",
      "                                       x₀) + -41.357) + (x₀ * -13.68)\n",
      "23          3.274e-01  8.345e-07  y = ((((((100.11 + (-22.121 / x₀)) - x₀) / x₀) - 11.809) /...\n",
      "                                       x₀) + ((-33.026 - 8.602) + 0.27181)) + (x₀ * -13.68)\n",
      "───────────────────────────────────────────────────────────────────────────────────────────────────\n",
      "════════════════════════════════════════════════════════════════════════════════════════════════════\n",
      "Press 'q' and then <enter> to stop execution early.\n",
      "\n",
      "Expressions evaluated per second: 7.560e+04\n",
      "Progress: 1718 / 3100 total iterations (55.419%)\n",
      "════════════════════════════════════════════════════════════════════════════════════════════════════\n",
      "───────────────────────────────────────────────────────────────────────────────────────────────────\n",
      "Complexity  Loss       Score      Equation\n",
      "1           1.329e+03  0.000e+00  y = 52.092\n",
      "3           6.579e+02  3.515e-01  y = 43.972 / x₀\n",
      "5           4.257e-01  3.672e+00  y = (141.89 / x₀) - 132.06\n",
      "7           4.141e-01  1.371e-02  y = (-133.61 - (-142.47 / x₀)) + x₀\n",
      "9           3.716e-01  5.420e-02  y = (147.02 / x₀) - (145.79 - (x₀ * 8.8407))\n",
      "11          3.356e-01  5.100e-02  y = ((((-24.034 / x₀) + 102.3) / x₀) / x₀) + -68.075\n",
      "13          3.276e-01  1.196e-02  y = (((((-17.54 / x₀) + 75.414) / x₀) - -36.297) / x₀) + -...\n",
      "                                      84.032\n",
      "15          3.276e-01  6.259e-06  y = ((((((-17.681 / x₀) + x₀) + 75.999) / x₀) - -34.507) /...\n",
      "                                       x₀) + -83.684\n",
      "17          3.275e-01  2.763e-04  y = ((((((-22.033 / x₀) + 99.719) / x₀) - 12.2) / x₀) + -4...\n",
      "                                      1.738) + (x₀ * -13.61)\n",
      "19          3.274e-01  4.977e-05  y = ((((((99.779 - x₀) + (-21.986 / x₀)) / x₀) - 11.978) /...\n",
      "                                       x₀) + (x₀ * -14.209)) + -40.464\n",
      "21          3.274e-01  5.543e-06  y = (((((((-22.051 / x₀) - x₀) + 99.914) / x₀) - 11.795) /...\n",
      "                                       x₀) + -41.03) + ((x₀ * -12.895) - x₀)\n",
      "───────────────────────────────────────────────────────────────────────────────────────────────────\n",
      "════════════════════════════════════════════════════════════════════════════════════════════════════\n",
      "Press 'q' and then <enter> to stop execution early.\n",
      "\n",
      "Expressions evaluated per second: 7.360e+04\n",
      "Progress: 2135 / 3100 total iterations (68.871%)\n",
      "════════════════════════════════════════════════════════════════════════════════════════════════════\n",
      "───────────────────────────────────────────────────────────────────────────────────────────────────\n",
      "Complexity  Loss       Score      Equation\n",
      "1           1.329e+03  0.000e+00  y = 52.092\n",
      "3           6.579e+02  3.515e-01  y = 43.972 / x₀\n",
      "5           4.257e-01  3.672e+00  y = (141.89 / x₀) - 132.06\n",
      "7           3.916e-01  4.169e-02  y = -125.82 - (-132.33 / (x₀ + -0.025596))\n",
      "9           3.716e-01  2.622e-02  y = (147.02 / x₀) - (145.79 - (x₀ * 8.8407))\n",
      "11          3.356e-01  5.100e-02  y = ((((-24.034 / x₀) + 102.3) / x₀) / x₀) + -68.075\n",
      "13          3.276e-01  1.196e-02  y = (((((-17.54 / x₀) + 75.414) / x₀) - -36.297) / x₀) + -...\n",
      "                                      84.032\n",
      "15          3.276e-01  6.259e-06  y = ((((((-17.681 / x₀) + x₀) + 75.999) / x₀) - -34.507) /...\n",
      "                                       x₀) + -83.684\n",
      "17          3.274e-01  3.198e-04  y = -41.791 + ((x₀ * -13.58) + (((((-22.04 / x₀) + 99.732)...\n",
      "                                       / x₀) - 12.177) / x₀))\n",
      "19          3.274e-01  1.031e-05  y = ((x₀ * -13.884) + -41.065) + ((((((-22.049 / x₀) + 99....\n",
      "                                      897) - x₀) / x₀) - 11.756) / x₀)\n",
      "21          3.274e-01  1.425e-05  y = (((x₀ * -12.734) + (((((-22.565 / x₀) + 102.73) / x₀) ...\n",
      "                                      - 18.476) / x₀)) + (x₀ * -2.7942)) + -36.014\n",
      "25          3.273e-01  8.167e-05  y = (((((((x₀ + (-19.877 / x₀)) + 87.036) / x₀) - -15.263)...\n",
      "                                       / x₀) - -13.091) + -84.37) - (x₀ + (x₀ * (x₀ * x₀)))\n",
      "───────────────────────────────────────────────────────────────────────────────────────────────────\n",
      "════════════════════════════════════════════════════════════════════════════════════════════════════\n",
      "Press 'q' and then <enter> to stop execution early.\n",
      "\n",
      "Expressions evaluated per second: 7.270e+04\n",
      "Progress: 2544 / 3100 total iterations (82.065%)\n",
      "════════════════════════════════════════════════════════════════════════════════════════════════════\n",
      "───────────────────────────────────────────────────────────────────────────────────────────────────\n",
      "Complexity  Loss       Score      Equation\n",
      "1           1.329e+03  0.000e+00  y = 52.092\n",
      "3           6.579e+02  3.515e-01  y = 43.972 / x₀\n",
      "5           4.257e-01  3.672e+00  y = (141.89 / x₀) - 132.06\n",
      "7           3.891e-01  4.496e-02  y = -126.04 - (-132.85 / (x₀ + -0.02366))\n",
      "9           3.716e-01  2.295e-02  y = (147.02 / x₀) - (145.79 - (x₀ * 8.8407))\n",
      "11          3.356e-01  5.100e-02  y = ((((-24.034 / x₀) + 102.3) / x₀) / x₀) + -68.075\n",
      "13          3.276e-01  1.196e-02  y = (((((-17.54 / x₀) + 75.414) / x₀) - -36.297) / x₀) + -...\n",
      "                                      84.032\n",
      "15          3.276e-01  2.688e-05  y = ((((((-17.752 / x₀) + 76.723) / x₀) - -33.356) / x₀) +...\n",
      "                                       -81.188) - x₀\n",
      "17          3.274e-01  2.991e-04  y = -41.791 + ((x₀ * -13.58) + (((((-22.04 / x₀) + 99.732)...\n",
      "                                       / x₀) - 12.177) / x₀))\n",
      "19          3.274e-01  1.031e-05  y = ((x₀ * -13.884) + -41.065) + ((((((-22.049 / x₀) + 99....\n",
      "                                      897) - x₀) / x₀) - 11.756) / x₀)\n",
      "21          3.274e-01  1.597e-05  y = ((((102.73 + (-22.565 / x₀)) / x₀) - 18.476) / x₀) + (...\n",
      "                                      ((x₀ * -2.7942) + (x₀ * -12.734)) + -36.014)\n",
      "23          3.273e-01  1.664e-04  y = ((((((-19.877 / x₀) + (x₀ + 87.036)) / x₀) - -15.263) ...\n",
      "                                      / x₀) + (-71.279 - (x₀ * (x₀ * x₀)))) - x₀\n",
      "25          3.270e-01  5.045e-04  y = ((((((-20.836 / x₀) + (x₀ + 91.511)) / x₀) + 8.4279) /...\n",
      "                                       x₀) + (-67.959 - (x₀ * (x₀ * (x₀ * x₀))))) - x₀\n",
      "27          3.270e-01  2.205e-06  y = ((-67.945 - ((x₀ * x₀) * (x₀ * (x₀ * 1.0075)))) + ((((...\n",
      "                                      (-20.833 / x₀) + (x₀ + 91.502)) / x₀) + 8.4262) / x₀)) - x...\n",
      "                                      ₀\n",
      "───────────────────────────────────────────────────────────────────────────────────────────────────\n",
      "════════════════════════════════════════════════════════════════════════════════════════════════════\n",
      "Press 'q' and then <enter> to stop execution early.\n",
      "\n",
      "Expressions evaluated per second: 6.600e+04\n",
      "Progress: 2765 / 3100 total iterations (89.194%)\n",
      "════════════════════════════════════════════════════════════════════════════════════════════════════\n",
      "───────────────────────────────────────────────────────────────────────────────────────────────────\n",
      "Complexity  Loss       Score      Equation\n",
      "1           1.329e+03  0.000e+00  y = 52.092\n",
      "3           6.579e+02  3.515e-01  y = 43.972 / x₀\n",
      "5           4.257e-01  3.672e+00  y = (141.89 / x₀) - 132.06\n",
      "7           3.886e-01  4.557e-02  y = -126.04 - (-132.85 / (x₀ + -0.023719))\n",
      "9           3.716e-01  2.235e-02  y = (147.02 / x₀) - (145.79 - (x₀ * 8.8407))\n",
      "11          3.356e-01  5.100e-02  y = ((((-24.034 / x₀) + 102.3) / x₀) / x₀) + -68.075\n",
      "13          3.276e-01  1.196e-02  y = (((((-17.54 / x₀) + 75.414) / x₀) - -36.297) / x₀) + -...\n",
      "                                      84.032\n",
      "15          3.276e-01  2.688e-05  y = ((((((-17.752 / x₀) + 76.723) / x₀) - -33.356) / x₀) +...\n",
      "                                       -81.188) - x₀\n",
      "17          3.274e-01  3.000e-04  y = (x₀ * -13.58) + ((((((-22.04 / x₀) + 99.732) / x₀) - 1...\n",
      "                                      2.177) / x₀) + -41.791)\n",
      "19          3.274e-01  2.462e-05  y = ((((102.73 + (-22.565 / x₀)) / x₀) - 18.476) / x₀) + (...\n",
      "                                      ((-12.734 + -2.7942) * x₀) + -36.014)\n",
      "21          3.274e-01  7.749e-07  y = ((((102.73 + (-22.565 / x₀)) / x₀) - 18.476) / x₀) + (...\n",
      "                                      ((x₀ * -2.7942) + (x₀ * -12.734)) + -36.014)\n",
      "23          3.270e-01  6.768e-04  y = ((((((-20.99 / x₀) + 92.149) / x₀) + 8.5654) / x₀) + (...\n",
      "                                      -67.58 - (x₀ * ((x₀ * x₀) * x₀)))) - x₀\n",
      "25          3.270e-01  8.345e-07  y = ((((((((-20.99 / x₀) + 92.149) / x₀) + 8.5644) / x₀) +...\n",
      "                                       -67.581) - (x₀ * ((x₀ * x₀) * x₀))) - x₀) - -0.0024463\n",
      "27          3.269e-01  1.582e-04  y = ((-64.405 - ((x₀ * x₀) * (x₀ * (x₀ * 1.2333)))) + ((((...\n",
      "                                      (-21.757 / x₀) + (x₀ + 95.781)) / x₀) + 1.7596) / x₀)) - x...\n",
      "                                      ₀\n",
      "───────────────────────────────────────────────────────────────────────────────────────────────────\n",
      "════════════════════════════════════════════════════════════════════════════════════════════════════\n",
      "Press 'q' and then <enter> to stop execution early.\n",
      "\n",
      "Expressions evaluated per second: 6.090e+04\n",
      "Progress: 3077 / 3100 total iterations (99.258%)\n",
      "════════════════════════════════════════════════════════════════════════════════════════════════════\n",
      "───────────────────────────────────────────────────────────────────────────────────────────────────\n",
      "Complexity  Loss       Score      Equation\n",
      "1           1.329e+03  0.000e+00  y = 52.092\n",
      "3           6.579e+02  3.515e-01  y = 43.972 / x₀\n",
      "5           4.257e-01  3.672e+00  y = (141.89 / x₀) - 132.06\n",
      "7           3.886e-01  4.557e-02  y = -126.04 - (-132.85 / (x₀ + -0.023719))\n",
      "9           3.716e-01  2.235e-02  y = (147.02 / x₀) - (145.79 - (x₀ * 8.8407))\n",
      "11          3.356e-01  5.100e-02  y = ((((-24.034 / x₀) + 102.3) / x₀) / x₀) + -68.075\n",
      "13          3.276e-01  1.196e-02  y = (((((-17.54 / x₀) + 75.414) / x₀) - -36.297) / x₀) + -...\n",
      "                                      84.032\n",
      "15          3.276e-01  2.688e-05  y = ((((((-17.752 / x₀) + 76.723) / x₀) - -33.356) / x₀) +...\n",
      "                                       -81.188) - x₀\n",
      "17          3.274e-01  3.009e-04  y = (((((-22.04 / x₀) + 99.732) / x₀) - 12.177) / x₀) + ((...\n",
      "                                      x₀ * -13.58) + -41.791)\n",
      "19          3.274e-01  2.372e-05  y = ((((102.73 + (-22.565 / x₀)) / x₀) - 18.476) / x₀) + (...\n",
      "                                      ((-12.734 + -2.7942) * x₀) + -36.014)\n",
      "21          3.274e-01  7.749e-07  y = ((((102.73 + (-22.565 / x₀)) / x₀) - 18.476) / x₀) + (...\n",
      "                                      ((x₀ * -2.7942) + (x₀ * -12.734)) + -36.014)\n",
      "23          3.270e-01  6.768e-04  y = ((((((-20.99 / x₀) + 92.149) / x₀) + 8.5654) / x₀) + (...\n",
      "                                      -67.58 - (x₀ * ((x₀ * x₀) * x₀)))) - x₀\n",
      "25          3.270e-01  1.192e-06  y = (((((((-20.99 / x₀) + 92.149) / x₀) + 8.5644) / x₀) + ...\n",
      "                                      (-67.581 - (x₀ * (x₀ * (x₀ * x₀))))) - x₀) - -0.0024463\n",
      "27          3.269e-01  1.613e-04  y = (-64.405 + (((1.7596 + ((((-21.757 / x₀) + 95.781) + x...\n",
      "                                      ₀) / x₀)) / x₀) - ((x₀ * (x₀ * x₀)) * (x₀ * 1.2333)))) - x...\n",
      "                                      ₀\n",
      "29          3.260e-01  1.352e-03  y = ((((((-23.092 / x₀) + (x₀ + 101.66)) / x₀) + -6.476) /...\n",
      "                                       x₀) + (-60.946 - (((x₀ * x₀) * (x₀ * x₀)) * (x₀ * x₀)))) ...\n",
      "                                      - x₀\n",
      "───────────────────────────────────────────────────────────────────────────────────────────────────\n",
      "════════════════════════════════════════════════════════════════════════════════════════════════════\n",
      "Press 'q' and then <enter> to stop execution early.\n",
      "───────────────────────────────────────────────────────────────────────────────────────────────────\n",
      "Complexity  Loss       Score      Equation\n",
      "1           1.329e+03  0.000e+00  y = 52.092\n",
      "3           6.579e+02  3.515e-01  y = 43.972 / x₀\n",
      "5           4.257e-01  3.672e+00  y = (141.89 / x₀) - 132.06\n",
      "7           3.886e-01  4.557e-02  y = -126.04 - (-132.85 / (x₀ + -0.023719))\n",
      "9           3.716e-01  2.235e-02  y = (147.02 / x₀) - (145.79 - (x₀ * 8.8407))\n",
      "11          3.356e-01  5.100e-02  y = ((((-24.034 / x₀) + 102.3) / x₀) / x₀) + -68.075\n",
      "13          3.276e-01  1.196e-02  y = (((((-17.54 / x₀) + 75.414) / x₀) - -36.297) / x₀) + -...\n",
      "                                      84.032\n",
      "15          3.276e-01  2.688e-05  y = ((((((-17.752 / x₀) + 76.723) / x₀) - -33.356) / x₀) +...\n",
      "                                       -81.188) - x₀\n",
      "17          3.274e-01  3.009e-04  y = (((((-22.04 / x₀) + 99.732) / x₀) - 12.177) / x₀) + ((...\n",
      "                                      x₀ * -13.58) + -41.791)\n",
      "19          3.274e-01  2.372e-05  y = ((((102.73 + (-22.565 / x₀)) / x₀) - 18.476) / x₀) + (...\n",
      "                                      ((-12.734 + -2.7942) * x₀) + -36.014)\n",
      "21          3.273e-01  1.541e-04  y = (((((-19.669 / x₀) + 86.178) / x₀) + 17.418) / x₀) + (...\n",
      "                                      (-71.786 - ((x₀ * x₀) * x₀)) - x₀)\n",
      "23          3.270e-01  5.234e-04  y = ((((((-20.99 / x₀) + 92.149) / x₀) + 8.5654) / x₀) + (...\n",
      "                                      -67.58 - (x₀ * ((x₀ * x₀) * x₀)))) - x₀\n",
      "25          3.270e-01  1.192e-06  y = (((((((-20.99 / x₀) + 92.149) / x₀) + 8.5644) / x₀) + ...\n",
      "                                      (-67.581 - (x₀ * (x₀ * (x₀ * x₀))))) - x₀) - -0.0024463\n",
      "27          3.269e-01  1.613e-04  y = (-64.405 + (((1.7596 + ((((-21.757 / x₀) + 95.781) + x...\n",
      "                                      ₀) / x₀)) / x₀) - ((x₀ * (x₀ * x₀)) * (x₀ * 1.2333)))) - x...\n",
      "                                      ₀\n",
      "29          3.260e-01  1.352e-03  y = ((((((-23.092 / x₀) + (x₀ + 101.66)) / x₀) + -6.476) /...\n",
      "                                       x₀) + (-60.946 - (((x₀ * x₀) * (x₀ * x₀)) * (x₀ * x₀)))) ...\n",
      "                                      - x₀\n",
      "───────────────────────────────────────────────────────────────────────────────────────────────────\n"
     ]
    },
    {
     "name": "stderr",
     "output_type": "stream",
     "text": [
      "[ Info: Final population:\n",
      "[ Info: Results saved to:\n"
     ]
    },
    {
     "name": "stdout",
     "output_type": "stream",
     "text": [
      "time to fit:  41.74538969993591 seconds\n",
      "  - outputs/20250717_100811_WJtdRB/hall_of_fame.csv\n"
     ]
    }
   ],
   "source": [
    "t0 = time.time()\n",
    "myMod=PySRRegressor(random_state=7,deterministic=True,parallelism='serial')\n",
    "myMod.fit(x.reshape(-1, 1),y)\n",
    "y_pred=myMod.predict(x.reshape(-1, 1))\n",
    "print(\"time to fit: \",time.time() - t0, 'seconds')"
   ]
  },
  {
   "cell_type": "code",
   "execution_count": null,
   "metadata": {
    "colab": {
     "base_uri": "https://localhost:8080/",
     "height": 430
    },
    "executionInfo": {
     "elapsed": 33,
     "status": "ok",
     "timestamp": 1750547770702,
     "user": {
      "displayName": "Richard Henry",
      "userId": "12926619101509154418"
     },
     "user_tz": 300
    },
    "id": "Uo77QIjh4Ni4",
    "outputId": "55c163b8-a57b-4b8c-df71-7138670a7567"
   },
   "outputs": [
    {
     "data": {
      "image/png": "[encoded data removed]",
      "text/plain": [
       "<Figure size 640x480 with 1 Axes>"
      ]
     },
     "metadata": {},
     "output_type": "display_data"
    }
   ],
   "source": [
    "plt.plot(x,y,marker=\"o\",linestyle=\"None\",label=\"Original\")\n",
    "plt.plot(x,y_pred,label=\"Predicted\")\n",
    "plt.title(\"Noisy Toy Dataset Fit\")\n",
    "plt.xlabel(\"Specific Gravity\")\n",
    "plt.ylabel(\"API Gravity\")\n",
    "plt.legend()\n",
    "plt.grid()\n",
    "plt.show()"
   ]
  },
  {
   "cell_type": "code",
   "execution_count": 38,
   "metadata": {
    "colab": {
     "base_uri": "https://localhost:8080/",
     "height": 55
    },
    "executionInfo": {
     "elapsed": 6,
     "status": "ok",
     "timestamp": 1750547770710,
     "user": {
      "displayName": "Richard Henry",
      "userId": "12926619101509154418"
     },
     "user_tz": 300
    },
    "id": "CcAIAEg_9dvg",
    "outputId": "7cf5c66b-59b9-4290-fd87-5c34fc72446e"
   },
   "outputs": [
    {
     "data": {
      "text/latex": [
       "$\\displaystyle \\left(-1\\right) 132.05688 + \\frac{141.88547}{x_{0}}$"
      ],
      "text/plain": [
       "-1*132.05688 + 141.88547/x0"
      ]
     },
     "execution_count": null,
     "metadata": {},
     "output_type": "execute_result"
    }
   ],
   "source": [
    "myEq=myMod.sympy()\n",
    "myEq"
   ]
  },
  {
   "cell_type": "code",
   "execution_count": 39,
   "metadata": {
    "colab": {
     "base_uri": "https://localhost:8080/",
     "height": 54
    },
    "executionInfo": {
     "elapsed": 27,
     "status": "ok",
     "timestamp": 1750547770741,
     "user": {
      "displayName": "Richard Henry",
      "userId": "12926619101509154418"
     },
     "user_tz": 300
    },
    "id": "1MZlzh9KYvfe",
    "outputId": "26d79583-0b7e-4e5b-e96b-172d4cf86633"
   },
   "outputs": [
    {
     "data": {
      "text/latex": [
       "$\\displaystyle -132.05688 + \\frac{141.88547}{x_{0}}$"
      ],
      "text/plain": [
       "-132.05688 + 141.88547/x0"
      ]
     },
     "execution_count": null,
     "metadata": {},
     "output_type": "execute_result"
    }
   ],
   "source": [
    "sym.simplify(myEq)"
   ]
  },
  {
   "cell_type": "code",
   "execution_count": 40,
   "metadata": {
    "colab": {
     "base_uri": "https://localhost:8080/",
     "height": 51
    },
    "executionInfo": {
     "elapsed": 33,
     "status": "ok",
     "timestamp": 1750547770776,
     "user": {
      "displayName": "Richard Henry",
      "userId": "12926619101509154418"
     },
     "user_tz": 300
    },
    "id": "ZcPalrtQxW_L",
    "outputId": "1d3d8976-4145-4a1b-82d6-a25a71e91b0d"
   },
   "outputs": [
    {
     "data": {
      "text/latex": [
       "$\\displaystyle -131.5 + \\frac{141.5}{x}$"
      ],
      "text/plain": [
       "-131.5 + 141.5/x"
      ]
     },
     "execution_count": null,
     "metadata": {},
     "output_type": "execute_result"
    }
   ],
   "source": [
    "x, y = sym.symbols('x y')\n",
    "myTarg=sym.sympify(141.5/x-131.5)\n",
    "myTarg"
   ]
  }
 ],
 "metadata": {
  "colab": {
   "authorship_tag": "ABX9TyOABp/9+cM/UeI9HdrGJDRJ",
   "provenance": []
  },
  "kernelspec": {
   "display_name": "Python 3",
   "name": "python3"
  },
  "language_info": {
   "name": "python"
  }
 },
 "nbformat": 4,
 "nbformat_minor": 0
}
